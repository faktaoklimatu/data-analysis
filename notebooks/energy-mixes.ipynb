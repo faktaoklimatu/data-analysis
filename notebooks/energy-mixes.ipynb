{
 "cells": [
  {
   "attachments": {},
   "cell_type": "markdown",
   "metadata": {},
   "source": [
    "## Energy mixes of the EU countries & UK\n",
    "\n",
    "This notebooks prepares data for the ternary plot showing energy mixes of the EU countries and United Kingdom."
   ]
  },
  {
   "attachments": {},
   "cell_type": "markdown",
   "metadata": {},
   "source": [
    "### Load prerequisities\n",
    "\n",
    "(The prerequisities have to be already installed, e.g. install.packages(\"tidyverse\"))."
   ]
  },
  {
   "cell_type": "code",
   "execution_count": 19,
   "metadata": {
    "vscode": {
     "languageId": "r"
    }
   },
   "outputs": [],
   "source": [
    "library(tidyverse)\n",
    "library(ggtern)\n",
    "library(svglite)"
   ]
  },
  {
   "attachments": {},
   "cell_type": "markdown",
   "metadata": {},
   "source": [
    "### Electricity generation data\n",
    "\n",
    "Electricity data are loaded from Ember database. The csv file was downloaded into ``../data/ember/``. The original file may be accessed at [the following link](https://ember-climate.org/app/uploads/2022/07/yearly_full_release_long_format-1.csv).\n",
    "\n",
    "[Ember](https://ember-climate.org/data-catalogue/yearly-electricity-data/) describes the dataset followingly: *The dataset contains yearly electricity generation, capacity, emissions, import and demand data for over 200 geographies. Data is collected from multi-country datasets (EIA, Eurostat, BP, UN) as well as national sources (e.g China data from the National Bureau of Statistics).*\n",
    "\n",
    "As we will need only yearly electricity generation data for our anylysis, and we will examine only EU countries and UK, first we need to filter the dataset accordingly."
   ]
  },
  {
   "cell_type": "code",
   "execution_count": 29,
   "metadata": {
    "vscode": {
     "languageId": "r"
    }
   },
   "outputs": [],
   "source": [
    "# Read and filter Ember data\n",
    "electricity_eu_countries <-  read_csv(\"../data/ember/yearly_full_release_long_format-1.csv\",\n",
    "                # Select only columns relevant for the analysis.          \n",
    "                        col_select = c(\"Country code\", \"Year\", \"Category\", \"Variable\", \"Value\", \"Unit\", \"EU\"),\n",
    "                        show_col_types = FALSE) |>\n",
    "                # Filter EU countries and UK (= GBR), electricity generation category, and TWh unit.\n",
    "                filter(EU == 1 | `Country code` == \"GBR\", Category %in% c(\"Electricity generation\"),\n",
    "                         Unit == \"TWh\") |>\n",
    "                # Leave out the following columns: \"Category\", \"Unit\", and \"EU\", and select (and rename if needed) \"Country code\", \"Year\", \"Variable\" and \"Value\".\n",
    "                select(CountryCode = \"Country code\",\n",
    "                       Year = \"Year\",\n",
    "                       Variable = \"Variable\",\n",
    "                       ValueTWh = \"Value\") |>\n",
    "                # Add a new column \"ProdCategory\" based on energy source.\n",
    "                mutate(ProdCategory = case_when(Variable %in% c(\"Coal\", \"Gas\", \"Other Fossil\") ~ \"Fossil\",\n",
    "                                                Variable %in% c(\"Wind\", \"Solar\", \"Hydro\", \"Bioenergy\") ~ \"Renewables\",\n",
    "                                                Variable == \"Nuclear\" ~ \"Nuclear\")) |>\n",
    "                # Filter out NAs in \"ProdCategory\" column, omit \"Variable\" column.\n",
    "                filter(ProdCategory != \"NA\") |>\n",
    "                select(-Variable) |>\n",
    "                # Group rows by \"CountryCode\", \"Year\" and \"ProdCategory\", while summarising \"ValueTWh\" column.\n",
    "                group_by(CountryCode, Year, ProdCategory) |>\n",
    "                summarise(ValueTWh = sum(ValueTWh),\n",
    "                          .groups = \"drop\")"
   ]
  },
  {
   "cell_type": "code",
   "execution_count": 30,
   "metadata": {
    "vscode": {
     "languageId": "r"
    }
   },
   "outputs": [
    {
     "data": {
      "text/html": [
       "<table class=\"dataframe\">\n",
       "<caption>A tibble: 6 × 4</caption>\n",
       "<thead>\n",
       "\t<tr><th scope=col>CountryCode</th><th scope=col>Year</th><th scope=col>ProdCategory</th><th scope=col>ValueTWh</th></tr>\n",
       "\t<tr><th scope=col>&lt;chr&gt;</th><th scope=col>&lt;dbl&gt;</th><th scope=col>&lt;chr&gt;</th><th scope=col>&lt;dbl&gt;</th></tr>\n",
       "</thead>\n",
       "<tbody>\n",
       "\t<tr><td>AUT</td><td>2000</td><td>Fossil    </td><td>16.41</td></tr>\n",
       "\t<tr><td>AUT</td><td>2000</td><td>Nuclear   </td><td> 0.00</td></tr>\n",
       "\t<tr><td>AUT</td><td>2000</td><td>Renewables</td><td>43.44</td></tr>\n",
       "\t<tr><td>AUT</td><td>2001</td><td>Fossil    </td><td>18.82</td></tr>\n",
       "\t<tr><td>AUT</td><td>2001</td><td>Nuclear   </td><td> 0.00</td></tr>\n",
       "\t<tr><td>AUT</td><td>2001</td><td>Renewables</td><td>42.24</td></tr>\n",
       "</tbody>\n",
       "</table>\n"
      ],
      "text/latex": [
       "A tibble: 6 × 4\n",
       "\\begin{tabular}{llll}\n",
       " CountryCode & Year & ProdCategory & ValueTWh\\\\\n",
       " <chr> & <dbl> & <chr> & <dbl>\\\\\n",
       "\\hline\n",
       "\t AUT & 2000 & Fossil     & 16.41\\\\\n",
       "\t AUT & 2000 & Nuclear    &  0.00\\\\\n",
       "\t AUT & 2000 & Renewables & 43.44\\\\\n",
       "\t AUT & 2001 & Fossil     & 18.82\\\\\n",
       "\t AUT & 2001 & Nuclear    &  0.00\\\\\n",
       "\t AUT & 2001 & Renewables & 42.24\\\\\n",
       "\\end{tabular}\n"
      ],
      "text/markdown": [
       "\n",
       "A tibble: 6 × 4\n",
       "\n",
       "| CountryCode &lt;chr&gt; | Year &lt;dbl&gt; | ProdCategory &lt;chr&gt; | ValueTWh &lt;dbl&gt; |\n",
       "|---|---|---|---|\n",
       "| AUT | 2000 | Fossil     | 16.41 |\n",
       "| AUT | 2000 | Nuclear    |  0.00 |\n",
       "| AUT | 2000 | Renewables | 43.44 |\n",
       "| AUT | 2001 | Fossil     | 18.82 |\n",
       "| AUT | 2001 | Nuclear    |  0.00 |\n",
       "| AUT | 2001 | Renewables | 42.24 |\n",
       "\n"
      ],
      "text/plain": [
       "  CountryCode Year ProdCategory ValueTWh\n",
       "1 AUT         2000 Fossil       16.41   \n",
       "2 AUT         2000 Nuclear       0.00   \n",
       "3 AUT         2000 Renewables   43.44   \n",
       "4 AUT         2001 Fossil       18.82   \n",
       "5 AUT         2001 Nuclear       0.00   \n",
       "6 AUT         2001 Renewables   42.24   "
      ]
     },
     "metadata": {},
     "output_type": "display_data"
    }
   ],
   "source": [
    "head(electricity_eu_countries)"
   ]
  },
  {
   "attachments": {},
   "cell_type": "markdown",
   "metadata": {},
   "source": [
    "As it will be convenient to include EU-27 total electricity generation per year and energy source category, we will add into the dataframe."
   ]
  },
  {
   "cell_type": "code",
   "execution_count": null,
   "metadata": {
    "vscode": {
     "languageId": "r"
    }
   },
   "outputs": [],
   "source": [
    "# Calculate EU-27 total electricity generation (= \"ValueTWh\") per \"Year\" and \"ProdCategory\".\n",
    "electricity_eu_total <- filter(electricity_eu_countries, CountryCode != \"GBR\") |>\n",
    "  group_by(Year, ProdCategory) |>\n",
    "  summarise(ValueTWh = sum(ValueTWh)) |>\n",
    "  mutate(CountryCode = \"EU27\",\n",
    "                   .before=Year)\n",
    "\n",
    "# Append the total to the existing dataframe.\n",
    "electricity_eu <- rbind(electricity_eu_countries, electricity_eu_total)"
   ]
  },
  {
   "attachments": {},
   "cell_type": "markdown",
   "metadata": {},
   "source": [
    "sadfdf"
   ]
  },
  {
   "cell_type": "code",
   "execution_count": null,
   "metadata": {
    "vscode": {
     "languageId": "r"
    }
   },
   "outputs": [],
   "source": [
    "# Calculate electricity shares.\n",
    "electricity_shares <- electricity_eu |>\n",
    "  group_by(CountryCode, Year) |>\n",
    "  mutate(Total = sum(Value),\n",
    "         Share = Value / Total) |>\n",
    "  select(-Value) |>\n",
    "  pivot_wider(names_from = ProdCategory, values_from = Share)\n",
    "\n",
    "# Generate ternary plot as of 2021.\n",
    "\n",
    "filter(electricity_shares, Year == 2021, CountryCode != \"EU27\") |>\n",
    "  ggtern(aes(Nuclear, Fossil, Renewables)) +\n",
    "  geom_point(aes(size = Total), colour = \"#aecaff\") +\n",
    "  geom_text(aes(label = CountryCode), size = 3) +\n",
    "  labs(x = \"Nuclear\",\n",
    "       y = \"Fossil\",\n",
    "       z = \"Renewables\",\n",
    "       title = \"Energy mixes in the EU countries\",\n",
    "       subtitle = \"The larger the bubble, the higher the electricity generation\") +\n",
    "  theme_bw() +\n",
    "  theme_nomask() +\n",
    "  theme_showarrows()\n",
    "\n",
    "# svglite::svglite(\"ternary-plot-eu.svg\")\n",
    "# dev.off()\n",
    "\n",
    "# Generate ternary plot showing a path of a single country.\n",
    "\n",
    "# filter(electricity_shares, CountryCode == \"CZE\") %>%\n",
    "#   ggtern(aes(Nuclear, Fossil, Renewables)) +\n",
    "#   geom_point(aes(colour = Year), size = 1) +\n",
    "#   geom_path(aes(colour = Year)) +\n",
    "#   labs(x = \"Nuclear\",\n",
    "#        y = \"Fossil\",\n",
    "#        z = \"Renewables\",\n",
    "#        title = \"Energy mix path in Czechia, 2000–2021\") +\n",
    "#   scale_colour_gradient(\"Rok\") +\n",
    "#   guides(colour = guide_colourbar(barheight = 8, barwidth = 0.5, title.position = \"top\")) +\n",
    "#   theme_nomask() +\n",
    "#   theme_bw() +\n",
    "#   theme_showarrows()\n",
    "\n",
    "# Generate small multiples of ternary plots for each country.\n",
    "# electricity_shares %>%\n",
    "#   ggtern(aes(Nuclear, Fossil, Renewables)) +\n",
    "#   geom_point(aes(colour = Year), size = 1) +\n",
    "#   geom_path(aes(colour = Year)) +\n",
    "#   labs(x = \"Jádro\",\n",
    "#        y = \"Fosilní paliva\",\n",
    "#        z = \"OZE\",\n",
    "#        title = \"Vývoj podílu zdrojů na energetickém mixu v Dánsku\") +\n",
    "#   scale_colour_gradient(\"Rok\") +\n",
    "#   guides(colour = guide_colourbar(barheight = 8, barwidth = 0.5, title.position = \"top\")) +\n",
    "#   facet_wrap(vars(CountryCode), ncol = 6) +\n",
    "#   theme_nomask() +\n",
    "#   theme_bw() +\n",
    "#   theme_notitles() +\n",
    "#   theme(text = element_blank())"
   ]
  },
  {
   "cell_type": "code",
   "execution_count": null,
   "metadata": {
    "vscode": {
     "languageId": "r"
    }
   },
   "outputs": [],
   "source": []
  }
 ],
 "metadata": {
  "kernelspec": {
   "display_name": "R",
   "language": "R",
   "name": "ir"
  },
  "language_info": {
   "codemirror_mode": "r",
   "file_extension": ".r",
   "mimetype": "text/x-r-source",
   "name": "R",
   "pygments_lexer": "r",
   "version": "4.2.2"
  },
  "orig_nbformat": 4,
  "vscode": {
   "interpreter": {
    "hash": "b0fa6594d8f4cbf19f97940f81e996739fb7646882a419484c72d19e05852a7e"
   }
  }
 },
 "nbformat": 4,
 "nbformat_minor": 2
}
