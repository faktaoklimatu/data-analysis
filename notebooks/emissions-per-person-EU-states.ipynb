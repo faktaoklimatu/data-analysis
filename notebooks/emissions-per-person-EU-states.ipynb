{
 "cells": [
  {
   "cell_type": "code",
   "execution_count": 1,
   "id": "d1083d4b",
   "metadata": {},
   "outputs": [],
   "source": [
    "import enum\n",
    "import os\n",
    "import sys\n",
    "\n",
    "import matplotlib.pyplot as plt\n",
    "import pandas as pd\n",
    "import numpy as np\n",
    "from matplotlib.cm import ScalarMappable\n",
    "import eurostat\n",
    "\n",
    "# Add the root dir to the path, so we can load the module.\n",
    "sys.path.append(os.path.abspath(\"..\"))\n",
    "\n",
    "from data_analysis.eurostat_population_utils import get_eurostat_population_data \n",
    "from data_analysis.eurostat_crf_utils import *\n",
    "from data_analysis.eurostat_geo import *"
   ]
  },
  {
   "cell_type": "code",
   "execution_count": 2,
   "id": "746a91c8",
   "metadata": {},
   "outputs": [],
   "source": [
    "# Year we want to visualize\n",
    "YEAR = 2016"
   ]
  },
  {
   "cell_type": "code",
   "execution_count": 3,
   "id": "a33406b6",
   "metadata": {},
   "outputs": [],
   "source": [
    "# fetch emission data using 'get_eurostat_crf_data_for_code' function\n",
    "df_emis = get_eurostat_crf_data_for_code(\n",
    "    \"TOTX4_MEMONIA\", YEAR).rename(columns={'value': 'MtCO2eq'})"
   ]
  },
  {
   "cell_type": "code",
   "execution_count": 4,
   "id": "c06b0138",
   "metadata": {},
   "outputs": [],
   "source": [
    "# fetch demographic data using 'get_eurostat_population_data' function\n",
    "df_demo = get_eurostat_population_data(\n",
    "    YEAR).rename(columns={'value': 'population'})"
   ]
  },
  {
   "cell_type": "code",
   "execution_count": 5,
   "id": "dccba074",
   "metadata": {},
   "outputs": [],
   "source": [
    "# Merge the data frames on select only EU27 countries.\n",
    "df = df_emis.merge(df_demo, on='geo')\n",
    "df = df.loc[df.index.isin([geo.value for geo in eu27_geo_dict.keys()])]\n",
    "df['country'] = eu27_geo_dict.values()"
   ]
  },
  {
   "cell_type": "code",
   "execution_count": 6,
   "id": "5642dfaa",
   "metadata": {},
   "outputs": [],
   "source": [
    "df['population_(mil)'] = (df['population'] / 1000000)\n",
    "df['em_per_capita'] = (df['MtCO2eq'] * 1000000) / df['population']\n",
    "df['total'] = (df['population_(mil)'] * df['em_per_capita'])"
   ]
  },
  {
   "cell_type": "code",
   "execution_count": 7,
   "id": "1e54b0a3",
   "metadata": {
    "scrolled": true
   },
   "outputs": [
    {
     "data": {
      "text/html": [
       "<div>\n",
       "<style scoped>\n",
       "    .dataframe tbody tr th:only-of-type {\n",
       "        vertical-align: middle;\n",
       "    }\n",
       "\n",
       "    .dataframe tbody tr th {\n",
       "        vertical-align: top;\n",
       "    }\n",
       "\n",
       "    .dataframe thead th {\n",
       "        text-align: right;\n",
       "    }\n",
       "</style>\n",
       "<table border=\"1\" class=\"dataframe\">\n",
       "  <thead>\n",
       "    <tr style=\"text-align: right;\">\n",
       "      <th></th>\n",
       "      <th>MtCO2eq</th>\n",
       "      <th>population</th>\n",
       "      <th>country</th>\n",
       "      <th>population_(mil)</th>\n",
       "      <th>em_per_capita</th>\n",
       "      <th>total</th>\n",
       "    </tr>\n",
       "    <tr>\n",
       "      <th>geo</th>\n",
       "      <th></th>\n",
       "      <th></th>\n",
       "      <th></th>\n",
       "      <th></th>\n",
       "      <th></th>\n",
       "      <th></th>\n",
       "    </tr>\n",
       "  </thead>\n",
       "  <tbody>\n",
       "    <tr>\n",
       "      <th>AT</th>\n",
       "      <td>82.16347</td>\n",
       "      <td>8700471.0</td>\n",
       "      <td>Rakousko</td>\n",
       "      <td>8.700471</td>\n",
       "      <td>9.443566</td>\n",
       "      <td>82.16347</td>\n",
       "    </tr>\n",
       "    <tr>\n",
       "      <th>BE</th>\n",
       "      <td>121.82931</td>\n",
       "      <td>11311117.0</td>\n",
       "      <td>Belgie</td>\n",
       "      <td>11.311117</td>\n",
       "      <td>10.770759</td>\n",
       "      <td>121.82931</td>\n",
       "    </tr>\n",
       "    <tr>\n",
       "      <th>BG</th>\n",
       "      <td>58.48840</td>\n",
       "      <td>7153784.0</td>\n",
       "      <td>Bulharsko</td>\n",
       "      <td>7.153784</td>\n",
       "      <td>8.175869</td>\n",
       "      <td>58.48840</td>\n",
       "    </tr>\n",
       "    <tr>\n",
       "      <th>CY</th>\n",
       "      <td>9.74565</td>\n",
       "      <td>848319.0</td>\n",
       "      <td>Kypr</td>\n",
       "      <td>0.848319</td>\n",
       "      <td>11.488190</td>\n",
       "      <td>9.74565</td>\n",
       "    </tr>\n",
       "    <tr>\n",
       "      <th>CZ</th>\n",
       "      <td>131.84903</td>\n",
       "      <td>10553843.0</td>\n",
       "      <td>Česko</td>\n",
       "      <td>10.553843</td>\n",
       "      <td>12.492988</td>\n",
       "      <td>131.84903</td>\n",
       "    </tr>\n",
       "  </tbody>\n",
       "</table>\n",
       "</div>"
      ],
      "text/plain": [
       "       MtCO2eq  population    country  population_(mil)  em_per_capita  \\\n",
       "geo                                                                      \n",
       "AT    82.16347   8700471.0   Rakousko          8.700471       9.443566   \n",
       "BE   121.82931  11311117.0     Belgie         11.311117      10.770759   \n",
       "BG    58.48840   7153784.0  Bulharsko          7.153784       8.175869   \n",
       "CY     9.74565    848319.0       Kypr          0.848319      11.488190   \n",
       "CZ   131.84903  10553843.0      Česko         10.553843      12.492988   \n",
       "\n",
       "         total  \n",
       "geo             \n",
       "AT    82.16347  \n",
       "BE   121.82931  \n",
       "BG    58.48840  \n",
       "CY     9.74565  \n",
       "CZ   131.84903  "
      ]
     },
     "execution_count": 7,
     "metadata": {},
     "output_type": "execute_result"
    }
   ],
   "source": [
    "df.head()"
   ]
  },
  {
   "cell_type": "markdown",
   "id": "65a36620",
   "metadata": {},
   "source": [
    "TOHLE TVOŘÍM: https://faktaoklimatu.cz/infografiky/emise-eu-na-osobu\n",
    "\n",
    "Potřebuju aby graf:\n",
    "- na ose Y ukazoval emise na obyvatele (\"em_per_capita\")\n",
    "- na ose x bude zobrazena populace (population_(mil))\n",
    "- na ose X budou státy řazeny podle hodnoty emisí na obyvatele (\"em_per_capita\"), tedy podle osy Y\n",
    "--- mezi jednotlivými státy bude pevně daná mezera\n",
    "- plocha sloupce ukazovala součin populace státu a celkových ročních emisí (\"total\")\n",
    "- sloupce budou různě barevné podle škály (viz původní graf)\n"
   ]
  },
  {
   "cell_type": "markdown",
   "id": "7838b37c",
   "metadata": {},
   "source": [
    "### TODO\n",
    "- uprav pozice tak, aby před prvním barem nebyla mezera\n",
    "-- tohle furt nevim jak udělat"
   ]
  },
  {
   "cell_type": "markdown",
   "id": "779a661b",
   "metadata": {},
   "source": [
    "## Verze 30.1. "
   ]
  },
  {
   "cell_type": "code",
   "execution_count": 8,
   "id": "f7e0e174",
   "metadata": {
    "scrolled": true
   },
   "outputs": [
    {
     "data": {
      "image/png": "[encoded data removed]",
      "text/plain": [
       "<Figure size 1008x288 with 1 Axes>"
      ]
     },
     "metadata": {
      "needs_background": "light"
     },
     "output_type": "display_data"
    }
   ],
   "source": [
    "# You can change the color groups in the chart by changing 'intervals' here\n",
    "color_intervals = [20, 40, 60, 83]\n",
    "\n",
    "# Sort the DataFrame based on the 'em_per_capita' column in descending order\n",
    "df_sorted = df.sort_values(by='em_per_capita', ascending = False)\n",
    "\n",
    "# Calculate the widths for each bar based on the sorted total values\n",
    "widths_2 = df_sorted['population_(mil)'].values.tolist()\n",
    "\n",
    "# COMPUTE POSITIONS ON X AX\n",
    "# Set the gap between bars\n",
    "gap_2 = 5\n",
    "# Each position is the previous one + half of the widths of the neighbouring columns + the gap\n",
    "positions_2 = [widths_2[0]/2 + gap_2]\n",
    "for i in range(len(widths_2) - 1):\n",
    "    positions_2.append(positions_2[i] + widths_2[i]/2 + widths_2[i+1]/2 + gap_2)\n",
    "# Find the minimum value in the list\n",
    "min_value = min(positions_2)\n",
    "# Subtract the minimum value from each element in the list\n",
    "positions_2 = [value - min_value for value in positions_2]\n",
    "\n",
    "# CREATE COLOR INTERVALS\n",
    "# Choose colors       \n",
    "colors = ['#3fb3c2', '#1c8fbd', '#215ca6', '#0a2b82', '#7dcab8']\n",
    "\n",
    "# Create df_sorted_total which is sorted by 'total' values to correctly add the colors\n",
    "df_sorted_total = df.sort_values(by='total', ascending = False)\n",
    "\n",
    "# Determine the color for each 'total' value\n",
    "color_mapping = np.digitize(df_sorted_total['total'], bins=np.percentile(df_sorted_total['total'], color_intervals))\n",
    "\n",
    "# Create a DataFrame\n",
    "df_for_colors = pd.DataFrame({'total': df_sorted_total['total'], 'colors': [colors[i-1] for i in color_mapping]}) \n",
    "df_sorted['colors'] = df_for_colors['colors']   \n",
    "        \n",
    "# SET CHART PROPRETIES \n",
    "# Set the size of the chart frame\n",
    "plt.figure(figsize=(14,4))\n",
    "\n",
    "# Create a bar chart with sorted, spaced, and no overlap bars\n",
    "bars_2 = plt.bar(positions_2, df_sorted['em_per_capita'], width=widths_2, color=df_sorted['colors'], edgecolor=None)\n",
    "\n",
    "# Adding labels and title\n",
    "plt.xlabel('Populace')\n",
    "plt.ylabel('Emise na osobu', rotation=0)\n",
    "plt.title('Bar Chart')\n",
    "\n",
    "# Set x-axis ticks to the positions of the bars\n",
    "plt.xticks(positions_2, df_sorted['country'], rotation=45, ha='right')  \n",
    "\n",
    "# Remove vertical grid lines\n",
    "plt.gca().xaxis.grid(False)\n",
    "\n",
    "# Move ax x label\n",
    "plt.gca().xaxis.set_label_coords(1.035, 0.02)\n",
    "plt.gca().yaxis.set_label_coords(0.0, 1.02)\n",
    "\n",
    "# DISPLAY THE CHART\n",
    "plt.show()"
   ]
  },
  {
   "cell_type": "markdown",
   "id": "8528ecb0",
   "metadata": {},
   "source": [
    "# TESTOVACÍ - irelevantní pro Honzu"
   ]
  },
  {
   "cell_type": "markdown",
   "id": "57ef53be",
   "metadata": {},
   "source": [
    "## Verze - intervaly podle dělení 'total' hodnot na 5 sekcí "
   ]
  },
  {
   "cell_type": "code",
   "execution_count": 9,
   "id": "51b410b9",
   "metadata": {
    "scrolled": true
   },
   "outputs": [
    {
     "data": {
      "image/png": "[encoded data removed]",
      "text/plain": [
       "<Figure size 1008x288 with 1 Axes>"
      ]
     },
     "metadata": {
      "needs_background": "light"
     },
     "output_type": "display_data"
    }
   ],
   "source": [
    "# Sort the DataFrame based on the 'em_per_capita' column in descending order\n",
    "df_sorted = df.sort_values(by='em_per_capita', ascending = False)\n",
    "\n",
    "# Calculate the widths for each bar based on the sorted total values\n",
    "widths_2 = df_sorted['population_(mil)'].values.tolist()\n",
    "\n",
    "# Set the gap between bars\n",
    "gap_2 = 5\n",
    "\n",
    "# Compute the bar position on x ax\n",
    "# Each position is the previous one + half of the widths of the neighbouring columns + the gap\n",
    "positions_2 = [widths_2[0]/2 + gap_2]\n",
    "for i in range(len(widths_2) - 1):\n",
    "    positions_2.append(positions_2[i] + widths_2[i]/2 + widths_2[i+1]/2 + gap_2)\n",
    "# Find the minimum value in the list\n",
    "min_value = min(positions_2)\n",
    "# Subtract the minimum value from each element in the list\n",
    "positions_2 = [value - min_value for value in positions_2]\n",
    "    \n",
    "# CREATE COLOR INTERVALS\n",
    "# Given values\n",
    "min_value = 2\n",
    "max_value = 935\n",
    "\n",
    "# Find the range\n",
    "value_range = max_value - min_value\n",
    "\n",
    "# Calculate interval size\n",
    "interval_size = round(value_range / 5)\n",
    "\n",
    "# Calculate intervals\n",
    "interval_1 = [min_value, min_value + interval_size]\n",
    "interval_2 = [interval_1[1]+1, interval_1[1] + interval_size]\n",
    "interval_3 = [interval_2[1]+1, interval_2[1] + interval_size]\n",
    "interval_4 = [interval_3[1]+1, interval_3[1] + interval_size]\n",
    "interval_5 = [interval_4[1]+1, interval_4[1] + interval_size]\n",
    "\n",
    "# Assign colors to values based on intervals\n",
    "colors = []\n",
    "for value in df_sorted['total']:\n",
    "    if interval_5[0] <= value <= interval_5[1]:\n",
    "        colors.append('#0a2b82')  # Color for interval_5\n",
    "    elif interval_4[0] <= value <= interval_4[1]:\n",
    "        colors.append('#215ca6')  # Color for interval_4\n",
    "    elif interval_3[0] <= value <= interval_3[1]:\n",
    "        colors.append('#1c8fbd')  # Color for interval_3\n",
    "    elif interval_2[0] <= value <= interval_2[1]:\n",
    "        colors.append('#3fb3c2')  # Color for interval_2\n",
    "    elif interval_1[0] <= value <= interval_1[1]:\n",
    "        colors.append('#7dcab8')  # Color for interval_1\n",
    "\n",
    "# Add the 'colors' column to the DataFrame\n",
    "df_sorted['colors'] = colors\n",
    "    \n",
    "# Set the size of the chart frame\n",
    "plt.figure(figsize=(14,4))\n",
    "\n",
    "# Create a bar chart with sorted, spaced, and no overlap bars\n",
    "bars_2 = plt.bar(positions_2, df_sorted['em_per_capita'], width=widths_2, color=colors, edgecolor='black')\n",
    "\n",
    "# Adding labels and title\n",
    "plt.xlabel('Populace')\n",
    "plt.ylabel('Emise na osobu', rotation=0)\n",
    "plt.title('Bar Chart')\n",
    "\n",
    "# Set x-axis ticks to the positions of the bars\n",
    "plt.xticks(positions_2, df_sorted['country'], rotation=45, ha='right')  \n",
    "\n",
    "# Remove vertical grid lines\n",
    "plt.gca().xaxis.grid(False)\n",
    "\n",
    "# Move ax x label\n",
    "plt.gca().xaxis.set_label_coords(1.035, 0.02)\n",
    "plt.gca().yaxis.set_label_coords(0.0, 1.02)\n",
    "\n",
    "# Display the plot\n",
    "plt.show()"
   ]
  },
  {
   "cell_type": "markdown",
   "id": "f49b2239",
   "metadata": {},
   "source": [
    "## Color intervals "
   ]
  },
  {
   "cell_type": "markdown",
   "id": "c29aecde",
   "metadata": {},
   "source": [
    "- barvy vypipetovány z grafiky na webu\n",
    "- intervaly převzaty z webu\n",
    "- sloupce, které intervaly nepokrývají, zobrazeny červeně "
   ]
  },
  {
   "cell_type": "code",
   "execution_count": 10,
   "id": "34995e2a",
   "metadata": {
    "scrolled": true
   },
   "outputs": [
    {
     "data": {
      "image/png": "[encoded data removed]",
      "text/plain": [
       "<Figure size 864x432 with 1 Axes>"
      ]
     },
     "metadata": {
      "needs_background": "light"
     },
     "output_type": "display_data"
    }
   ],
   "source": [
    "# Sort the DataFrame based on the 'em_per_capita' column in descending order\n",
    "df_sorted = df.sort_values(by='em_per_capita', ascending = False)\n",
    "\n",
    "# Calculate the widths for each bar based on the sorted total values\n",
    "widths_2 = np.sqrt(df_sorted['total'].values.tolist())\n",
    "\n",
    "# Set the gap between bars\n",
    "gap_2 = 3\n",
    "\n",
    "# Compute the bar position on x ax\n",
    "# Each position is the previous one + half of the widths of the neighbouring columns + the gap\n",
    "positions_2 = [widths_2[0]/2 + gap_2]\n",
    "for i in range(len(widths_2) - 1):\n",
    "    positions_2.append(positions_2[i] + widths_2[i]/2 + widths_2[i+1]/2 + gap_2)\n",
    "\n",
    "# Color intervals\n",
    "interval_1 = [340, 935]\n",
    "interval_2 = [82, 207]\n",
    "interval_3 = [55, 71]\n",
    "interval_4 = [19, 53]\n",
    "interval_5 = [2, 11]\n",
    "\n",
    "# Assign colors to values based on intervals\n",
    "colors = []\n",
    "for value in df_sorted['total']:\n",
    "    if interval_1[0] <= value <= interval_1[1]:\n",
    "        colors.append('#0a2b82')  # Color for interval_1\n",
    "    elif interval_2[0] <= value <= interval_2[1]:\n",
    "        colors.append('#215ca6')  # Color for interval_2\n",
    "    elif interval_3[0] <= value <= interval_3[1]:\n",
    "        colors.append('#1c8fbd')  # Color for interval_3\n",
    "    elif interval_4[0] <= value <= interval_4[1]:\n",
    "        colors.append('#3fb3c2')  # Color for interval_4\n",
    "    elif interval_5[0] <= value <= interval_5[1]:\n",
    "        colors.append('#7dcab8')  # Color for interval_5\n",
    "    else:\n",
    "        colors.append('red')  # Default color for other values\n",
    "\n",
    "# Add the 'colors' column to the DataFrame\n",
    "df_sorted['colors'] = colors\n",
    "    \n",
    "# Set the size of the chart frame\n",
    "plt.figure(figsize=(12,6))\n",
    "\n",
    "# Create a bar chart with sorted, spaced, and no overlap bars\n",
    "bars_2 = plt.bar(positions_2, df_sorted['em_per_capita'], width=widths_2, color=colors, edgecolor='black')\n",
    "\n",
    "# Adding labels and title\n",
    "plt.xlabel('States')\n",
    "plt.ylabel('Emission per Capita')\n",
    "plt.title('Bar Chart')\n",
    "\n",
    "# Set x-axis ticks to the positions of the bars\n",
    "plt.xticks(positions_2, df_sorted.index)\n",
    "\n",
    "# Remove vertical grid lines\n",
    "plt.gca().xaxis.grid(False)\n",
    "\n",
    "# Display the plot\n",
    "plt.show()"
   ]
  },
  {
   "cell_type": "markdown",
   "id": "390eb2bd",
   "metadata": {},
   "source": [
    "## Color scale "
   ]
  },
  {
   "cell_type": "code",
   "execution_count": 11,
   "id": "1656d162",
   "metadata": {
    "scrolled": true
   },
   "outputs": [
    {
     "data": {
      "image/png": "[encoded data removed]",
      "text/plain": [
       "<Figure size 864x432 with 2 Axes>"
      ]
     },
     "metadata": {
      "needs_background": "light"
     },
     "output_type": "display_data"
    }
   ],
   "source": [
    "# Sort the DataFrame based on the 'em_per_capita' column in descending order\n",
    "df_sorted = df.sort_values(by='em_per_capita', ascending = False)\n",
    "\n",
    "# Calculate the widths for each bar based on the sorted total values\n",
    "widths_2 = np.sqrt(df_sorted['total'].values.tolist())\n",
    "\n",
    "# Set the gap between bars\n",
    "gap_2 = 3\n",
    "\n",
    "# Compute the bar position on x ax\n",
    "# Each position is the previous one + half of the widths of the neighbouring columns + the gap\n",
    "positions_2 = [widths_2[0]/2 + gap_2]\n",
    "for i in range(len(widths_2) - 1):\n",
    "    positions_2.append(positions_2[i] + widths_2[i]/2 + widths_2[i+1]/2 + gap_2)\n",
    "\n",
    "# Create a ScalarMappable to map total values to colors\n",
    "norm = plt.Normalize(2, 935)\n",
    "colors = plt.cm.Blues(norm(df_sorted['total']))\n",
    "\n",
    "# Set the size of the chart frame\n",
    "plt.figure(figsize=(12,6))\n",
    "\n",
    "# Create a bar chart with sorted, spaced, and no overlap bars\n",
    "bars_2 = plt.bar(positions_2, df_sorted['em_per_capita'], width=widths_2, color=colors, edgecolor='black')\n",
    "\n",
    "# Adding labels and title\n",
    "plt.xlabel('States')\n",
    "plt.ylabel('Emission per Capita')\n",
    "plt.title('Bar Chart')\n",
    "\n",
    "# Set x-axis ticks to the positions of the bars\n",
    "plt.xticks(positions_2, df_sorted.index)\n",
    "\n",
    "# Remove vertical grid lines\n",
    "plt.gca().xaxis.grid(False)\n",
    "\n",
    "# Create a ScalarMappable to create a colorbar\n",
    "sm = ScalarMappable(cmap=plt.cm.Blues, norm=norm)\n",
    "sm.set_array([])  # Optional, but avoids a warning\n",
    "\n",
    "# Display the colorbar\n",
    "cbar = plt.colorbar(sm, orientation='vertical')\n",
    "cbar.set_label('Total')\n",
    "\n",
    "# Display the plot\n",
    "plt.show()"
   ]
  },
  {
   "cell_type": "markdown",
   "id": "b2b8a8cb",
   "metadata": {},
   "source": [
    "verze kam se chci dostat:\n",
    "https://faktaoklimatu.cz/infografiky/emise-eu-na-osobu"
   ]
  },
  {
   "cell_type": "markdown",
   "id": "42a833be",
   "metadata": {},
   "source": [
    "## Treninková data - test"
   ]
  },
  {
   "cell_type": "code",
   "execution_count": 12,
   "id": "2c0fe445",
   "metadata": {},
   "outputs": [
    {
     "data": {
      "image/png": "[encoded data removed]",
      "text/plain": [
       "<Figure size 864x432 with 2 Axes>"
      ]
     },
     "metadata": {
      "needs_background": "light"
     },
     "output_type": "display_data"
    }
   ],
   "source": [
    "# Sample data in a DataFrame\n",
    "my_data = pd.DataFrame({\n",
    "    'States': ['AT', 'BE', 'CZ', 'DE', 'LU', 'PL','MT'],\n",
    "    'population': [8.7, 11.3, 10.5, 82, 0.58, 38, 0.45],\n",
    "    'em_per_capita': [9.4, 10.8, 12.5, 11, 20, 10, 4.98],\n",
    "    'total': [82, 121.8, 131, 925, 11.6, 397, 2.2]\n",
    "})\n",
    "\n",
    "# Sort the DataFrame based on the 'em_per_capita' column in descending order\n",
    "sorted_data = my_data.sort_values(by='em_per_capita', ascending=False)\n",
    "\n",
    "# Calculate the widths for each bar based on the sorted total values\n",
    "widths = np.sqrt(sorted_data['total'].values.tolist())\n",
    "\n",
    "# Set the gap between bars\n",
    "gap = 1.5  \n",
    "\n",
    "# Each position is the previous one + half of the widths of the neighbouring columns + the gap\n",
    "positions = [widths[0]/2 + gap]\n",
    "for i in range(len(widths) - 1):\n",
    "    positions.append(positions[i] + widths[i]/2 + widths[i+1]/2 + gap)\n",
    "\n",
    "# Create a ScalarMappable to map total values to colors\n",
    "norm = plt.Normalize(2, 935)\n",
    "colors = plt.cm.Blues(norm(sorted_data['total']))\n",
    "\n",
    "# Set the size of the chart frame\n",
    "plt.figure(figsize=(12,6))\n",
    "\n",
    "# Create a bar chart with sorted, spaced, and no overlap bars\n",
    "bars = plt.bar(positions, sorted_data['em_per_capita'], width=widths, color=colors, edgecolor='black')\n",
    "\n",
    "# Adding labels and title\n",
    "plt.xlabel('States')\n",
    "plt.ylabel('Emission per Capita')\n",
    "plt.title('Bar Chart')\n",
    "\n",
    "# Set x-axis ticks to the positions of the bars\n",
    "plt.xticks(positions, sorted_data['States'], rotation=45)\n",
    "\n",
    "# Create a ScalarMappable to create a colorbar\n",
    "sm = ScalarMappable(cmap=plt.cm.Blues, norm=norm)\n",
    "sm.set_array([])  # Optional, but avoids a warning\n",
    "\n",
    "# Display the colorbar\n",
    "cbar = plt.colorbar(sm, orientation='vertical')\n",
    "cbar.set_label('Total')\n",
    "\n",
    "# Display the plot\n",
    "plt.show()"
   ]
  },
  {
   "cell_type": "code",
   "execution_count": null,
   "id": "3f065b08",
   "metadata": {},
   "outputs": [],
   "source": []
  }
 ],
 "metadata": {
  "kernelspec": {
   "display_name": "Python 3 (ipykernel)",
   "language": "python",
   "name": "python3"
  },
  "language_info": {
   "codemirror_mode": {
    "name": "ipython",
    "version": 3
   },
   "file_extension": ".py",
   "mimetype": "text/x-python",
   "name": "python",
   "nbconvert_exporter": "python",
   "pygments_lexer": "ipython3",
   "version": "3.9.7"
  }
 },
 "nbformat": 4,
 "nbformat_minor": 5
}
