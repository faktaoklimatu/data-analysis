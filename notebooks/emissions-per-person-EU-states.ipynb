{
 "cells": [
  {
   "cell_type": "code",
   "execution_count": 1,
   "id": "d1083d4b",
   "metadata": {},
   "outputs": [],
   "source": [
    "import enum\n",
    "import os\n",
    "import sys\n",
    "\n",
    "import matplotlib.pyplot as plt\n",
    "import matplotlib.patches as mpatches\n",
    "import pandas as pd\n",
    "import numpy as np\n",
    "from matplotlib.cm import ScalarMappable\n",
    "import eurostat\n",
    "\n",
    "# Add the root dir to the path, so we can load the module.\n",
    "sys.path.append(os.path.abspath(\"..\"))\n",
    "\n",
    "from data_analysis.eurostat_population_utils import get_eurostat_population_data \n",
    "from data_analysis.eurostat_crf_utils import *\n",
    "from data_analysis.eurostat_geo import *"
   ]
  },
  {
   "cell_type": "markdown",
   "id": "6f348d5e",
   "metadata": {},
   "source": [
    "TOHLE TVOŘÍM: https://faktaoklimatu.cz/infografiky/emise-eu-na-osobu"
   ]
  },
  {
   "cell_type": "markdown",
   "id": "44e7d7d0",
   "metadata": {},
   "source": [
    "## 1) Set year and load data"
   ]
  },
  {
   "cell_type": "code",
   "execution_count": 2,
   "id": "746a91c8",
   "metadata": {},
   "outputs": [],
   "source": [
    "# Year we want to visualize\n",
    "YEAR = 2016"
   ]
  },
  {
   "cell_type": "code",
   "execution_count": 3,
   "id": "a33406b6",
   "metadata": {},
   "outputs": [],
   "source": [
    "# fetch emission data using 'get_eurostat_crf_data_for_code' function\n",
    "df_emis = get_eurostat_crf_data_for_code(\n",
    "    \"TOTX4_MEMONIA\", YEAR).rename(columns={'value': 'MtCO2eq'})"
   ]
  },
  {
   "cell_type": "code",
   "execution_count": 4,
   "id": "c06b0138",
   "metadata": {},
   "outputs": [],
   "source": [
    "# fetch demographic data using 'get_eurostat_population_data' function\n",
    "df_demo = get_eurostat_population_data(\n",
    "    YEAR).rename(columns={'value': 'population'})"
   ]
  },
  {
   "cell_type": "code",
   "execution_count": 5,
   "id": "dccba074",
   "metadata": {},
   "outputs": [],
   "source": [
    "# Merge the data frames on select only EU27 countries.\n",
    "df = df_emis.merge(df_demo, on='geo')\n",
    "df = df.loc[df.index.isin([geo.value for geo in eu27_geo_dict.keys()])]\n",
    "df['country'] = eu27_geo_dict.values()"
   ]
  },
  {
   "cell_type": "code",
   "execution_count": 6,
   "id": "5642dfaa",
   "metadata": {},
   "outputs": [],
   "source": [
    "df['population_(mil)'] = (df['population'] / 1000000)\n",
    "df['em_per_capita'] = (df['MtCO2eq'] * 1000000) / df['population']\n",
    "df['total'] = (df['population_(mil)'] * df['em_per_capita'])"
   ]
  },
  {
   "cell_type": "code",
   "execution_count": 7,
   "id": "1e54b0a3",
   "metadata": {
    "scrolled": false
   },
   "outputs": [
    {
     "data": {
      "text/html": [
       "<div>\n",
       "<style scoped>\n",
       "    .dataframe tbody tr th:only-of-type {\n",
       "        vertical-align: middle;\n",
       "    }\n",
       "\n",
       "    .dataframe tbody tr th {\n",
       "        vertical-align: top;\n",
       "    }\n",
       "\n",
       "    .dataframe thead th {\n",
       "        text-align: right;\n",
       "    }\n",
       "</style>\n",
       "<table border=\"1\" class=\"dataframe\">\n",
       "  <thead>\n",
       "    <tr style=\"text-align: right;\">\n",
       "      <th></th>\n",
       "      <th>MtCO2eq</th>\n",
       "      <th>population</th>\n",
       "      <th>country</th>\n",
       "      <th>population_(mil)</th>\n",
       "      <th>em_per_capita</th>\n",
       "      <th>total</th>\n",
       "    </tr>\n",
       "    <tr>\n",
       "      <th>geo</th>\n",
       "      <th></th>\n",
       "      <th></th>\n",
       "      <th></th>\n",
       "      <th></th>\n",
       "      <th></th>\n",
       "      <th></th>\n",
       "    </tr>\n",
       "  </thead>\n",
       "  <tbody>\n",
       "    <tr>\n",
       "      <th>AT</th>\n",
       "      <td>82.16347</td>\n",
       "      <td>8700471.0</td>\n",
       "      <td>Rakousko</td>\n",
       "      <td>8.700471</td>\n",
       "      <td>9.443566</td>\n",
       "      <td>82.16347</td>\n",
       "    </tr>\n",
       "    <tr>\n",
       "      <th>BE</th>\n",
       "      <td>121.82931</td>\n",
       "      <td>11311117.0</td>\n",
       "      <td>Belgie</td>\n",
       "      <td>11.311117</td>\n",
       "      <td>10.770759</td>\n",
       "      <td>121.82931</td>\n",
       "    </tr>\n",
       "    <tr>\n",
       "      <th>BG</th>\n",
       "      <td>58.48840</td>\n",
       "      <td>7153784.0</td>\n",
       "      <td>Bulharsko</td>\n",
       "      <td>7.153784</td>\n",
       "      <td>8.175869</td>\n",
       "      <td>58.48840</td>\n",
       "    </tr>\n",
       "    <tr>\n",
       "      <th>CY</th>\n",
       "      <td>9.74565</td>\n",
       "      <td>848319.0</td>\n",
       "      <td>Kypr</td>\n",
       "      <td>0.848319</td>\n",
       "      <td>11.488190</td>\n",
       "      <td>9.74565</td>\n",
       "    </tr>\n",
       "    <tr>\n",
       "      <th>CZ</th>\n",
       "      <td>131.84903</td>\n",
       "      <td>10553843.0</td>\n",
       "      <td>Česko</td>\n",
       "      <td>10.553843</td>\n",
       "      <td>12.492988</td>\n",
       "      <td>131.84903</td>\n",
       "    </tr>\n",
       "  </tbody>\n",
       "</table>\n",
       "</div>"
      ],
      "text/plain": [
       "       MtCO2eq  population    country  population_(mil)  em_per_capita  \\\n",
       "geo                                                                      \n",
       "AT    82.16347   8700471.0   Rakousko          8.700471       9.443566   \n",
       "BE   121.82931  11311117.0     Belgie         11.311117      10.770759   \n",
       "BG    58.48840   7153784.0  Bulharsko          7.153784       8.175869   \n",
       "CY     9.74565    848319.0       Kypr          0.848319      11.488190   \n",
       "CZ   131.84903  10553843.0      Česko         10.553843      12.492988   \n",
       "\n",
       "         total  \n",
       "geo             \n",
       "AT    82.16347  \n",
       "BE   121.82931  \n",
       "BG    58.48840  \n",
       "CY     9.74565  \n",
       "CZ   131.84903  "
      ]
     },
     "execution_count": 7,
     "metadata": {},
     "output_type": "execute_result"
    }
   ],
   "source": [
    "df.head()"
   ]
  },
  {
   "cell_type": "markdown",
   "id": "7838b37c",
   "metadata": {},
   "source": [
    "### TODO\n",
    "- uprav pozice tak, aby před prvním barem nebyla mezera\n",
    "-- tohle furt nevim jak udělat\n",
    "- popisky os grafu: CO2 - tu '2' do nižšího indexu\n",
    "- popisné texty pod graf"
   ]
  },
  {
   "cell_type": "code",
   "execution_count": 8,
   "id": "f7e0e174",
   "metadata": {
    "scrolled": true
   },
   "outputs": [
    {
     "data": {
      "image/png": "[encoded data removed]",
      "text/plain": [
       "<Figure size 1008x288 with 1 Axes>"
      ]
     },
     "metadata": {
      "needs_background": "light"
     },
     "output_type": "display_data"
    }
   ],
   "source": [
    "# Set colors and color intervals\n",
    "color_intervals = [20, 40, 60, 80] # Change the color groups in the chart by changing 'intervals' here\n",
    "colors = ['#3fb3c2', '#1c8fbd', '#215ca6', '#0a2b82', '#7dcab8']\n",
    "\n",
    "# Sort the DataFrame based on the 'em_per_capita' column in descending order\n",
    "df_sorted = df.sort_values(by='em_per_capita', ascending = False)\n",
    "\n",
    "# Calculate the widths for each bar based on the sorted total values\n",
    "widths = df_sorted['population_(mil)'].values.tolist()\n",
    "\n",
    "# COMPUTE POSITIONS ON X AX\n",
    "# Set the gap between bars\n",
    "gap = 5\n",
    "# Each position is the previous one + half of the widths of the neighbouring columns + the gap\n",
    "positions = [widths[0]/2 + gap]\n",
    "for i in range(len(widths) - 1):\n",
    "    positions.append(positions[i] + widths[i]/2 + widths[i+1]/2 + gap)\n",
    "# Find the minimum value in the list\n",
    "min_value = min(positions)\n",
    "# Subtract the minimum value from each element in the list\n",
    "positions = [value - min_value for value in positions]\n",
    "\n",
    "# CREATE COLOR INTERVALS  \n",
    "# Create df_sorted_total which is sorted by 'total' values to correctly add the colors\n",
    "df_sorted_total = df.sort_values(by='total', ascending = False)\n",
    "\n",
    "# Determine the color for each 'total' value\n",
    "color_mapping = np.digitize(df_sorted_total['total'], bins=np.percentile(df_sorted_total['total'], color_intervals))\n",
    "\n",
    "# Create a DataFrame for colors\n",
    "df_for_colors = pd.DataFrame({'total': df_sorted_total['total'], 'colors': [colors[i-1] for i in color_mapping]}) \n",
    "df_sorted['colors'] = df_for_colors['colors']   \n",
    "        \n",
    "# SET CHART PROPRETIES \n",
    "# Set the size of the chart frame\n",
    "plt.figure(figsize=(14,4))\n",
    "\n",
    "# Create a bar chart with sorted, spaced, and no overlap bars\n",
    "bars = plt.bar(positions, df_sorted['em_per_capita'], width=widths, color=df_sorted['colors'], edgecolor=None)\n",
    "\n",
    "# Adding labels and title\n",
    "plt.xlabel('Populace')\n",
    "plt.ylabel('Emise na osobu', rotation=0)\n",
    "plt.title('')\n",
    "\n",
    "# Set x-axis ticks to the positions of the bars\n",
    "plt.xticks(positions, df_sorted['country'], rotation=45, ha='right')  \n",
    "\n",
    "# Remove vertical grid lines\n",
    "plt.gca().xaxis.grid(False)\n",
    "\n",
    "# Move ax x label\n",
    "plt.gca().xaxis.set_label_coords(1.035, 0.02)\n",
    "plt.gca().yaxis.set_label_coords(0.0, 1.02)\n",
    "\n",
    "# Add texts\n",
    "plt.text(0.9,21.8, f'(tuny CO2 eq)', size = 8, color ='grey')\n",
    "plt.text(610,-1.3, f'(mil. obyv.)', size = 8, color ='grey')\n",
    "plt.text(540,21.9, f'Celkové emise za rok', size = 10, color ='black')\n",
    "plt.text(540,21, f'(Mt CO2 eq)', size = 8, color ='grey')\n",
    "\n",
    "# ADD LEGEND\n",
    "# Define intervals based on the array\n",
    "array = list(np.percentile(df_sorted_total['total'], color_intervals))\n",
    "intervals = [min(df_sorted_total['total'])] + array + [max(df_sorted_total['total'])]\n",
    "intervals = [[intervals[i], intervals[i+1]] for i in range(len(intervals)-1)]\n",
    "\n",
    "# Create proxy artists and labels for legend\n",
    "num_intervals = 5\n",
    "patches = [mpatches.Patch(color=colors[i-1], alpha=1, label=f'{intervals[i][0]:.0f}-{intervals[i][1]:.0f}') for i in range(num_intervals)]\n",
    "patches = patches[::-1] # sort descending\n",
    "\n",
    "# Add the legend with intervals\n",
    "plt.legend(handles=patches, facecolor='white')\n",
    "\n",
    "# DISPLAY THE CHART\n",
    "plt.show()"
   ]
  },
  {
   "cell_type": "markdown",
   "id": "18689ec2",
   "metadata": {},
   "source": [
    "## X) Texts "
   ]
  },
  {
   "cell_type": "markdown",
   "id": "5d631d61",
   "metadata": {},
   "source": [
    "### text todoes\n",
    "- průměrné emise na os v EU: rok a světový průmě emisí na os: rok - neshodné roky.\n",
    "- mám do toho textu dávat ty <sub2/sub>?\n",
    "- to číslo pro Lucemburský emise z dopravy je nějaký nízký (o 13% nižší než má bejt). Nemá tam být něco víc než jen CRF1A3 sektor? (https://docs.google.com/spreadsheets/d/1KNL5d1CwLsLc8INquN7z5ABdr52APEsDjEsUcYGh_Mk/edit#gid=525565541)"
   ]
  },
  {
   "cell_type": "code",
   "execution_count": 9,
   "id": "fd4a9173",
   "metadata": {
    "scrolled": true
   },
   "outputs": [
    {
     "data": {
      "text/html": [
       "<div>\n",
       "<style scoped>\n",
       "    .dataframe tbody tr th:only-of-type {\n",
       "        vertical-align: middle;\n",
       "    }\n",
       "\n",
       "    .dataframe tbody tr th {\n",
       "        vertical-align: top;\n",
       "    }\n",
       "\n",
       "    .dataframe thead th {\n",
       "        text-align: right;\n",
       "    }\n",
       "</style>\n",
       "<table border=\"1\" class=\"dataframe\">\n",
       "  <thead>\n",
       "    <tr style=\"text-align: right;\">\n",
       "      <th></th>\n",
       "      <th>MtCO2eq</th>\n",
       "      <th>population</th>\n",
       "      <th>country</th>\n",
       "      <th>population_(mil)</th>\n",
       "      <th>em_per_capita</th>\n",
       "      <th>total</th>\n",
       "    </tr>\n",
       "    <tr>\n",
       "      <th>geo</th>\n",
       "      <th></th>\n",
       "      <th></th>\n",
       "      <th></th>\n",
       "      <th></th>\n",
       "      <th></th>\n",
       "      <th></th>\n",
       "    </tr>\n",
       "  </thead>\n",
       "  <tbody>\n",
       "    <tr>\n",
       "      <th>AT</th>\n",
       "      <td>82.16347</td>\n",
       "      <td>8700471.0</td>\n",
       "      <td>Rakousko</td>\n",
       "      <td>8.700471</td>\n",
       "      <td>9.443566</td>\n",
       "      <td>82.16347</td>\n",
       "    </tr>\n",
       "  </tbody>\n",
       "</table>\n",
       "</div>"
      ],
      "text/plain": [
       "      MtCO2eq  population   country  population_(mil)  em_per_capita     total\n",
       "geo                                                                           \n",
       "AT   82.16347   8700471.0  Rakousko          8.700471       9.443566  82.16347"
      ]
     },
     "execution_count": 9,
     "metadata": {},
     "output_type": "execute_result"
    }
   ],
   "source": [
    "df.head(1)"
   ]
  },
  {
   "cell_type": "code",
   "execution_count": 10,
   "id": "452daa31",
   "metadata": {
    "scrolled": true
   },
   "outputs": [
    {
     "data": {
      "text/html": [
       "<div>\n",
       "<style scoped>\n",
       "    .dataframe tbody tr th:only-of-type {\n",
       "        vertical-align: middle;\n",
       "    }\n",
       "\n",
       "    .dataframe tbody tr th {\n",
       "        vertical-align: top;\n",
       "    }\n",
       "\n",
       "    .dataframe thead th {\n",
       "        text-align: right;\n",
       "    }\n",
       "</style>\n",
       "<table border=\"1\" class=\"dataframe\">\n",
       "  <thead>\n",
       "    <tr style=\"text-align: right;\">\n",
       "      <th></th>\n",
       "      <th>MtCO2eq</th>\n",
       "      <th>population</th>\n",
       "      <th>country</th>\n",
       "      <th>population_(mil)</th>\n",
       "      <th>em_per_capita</th>\n",
       "      <th>total</th>\n",
       "      <th>colors</th>\n",
       "    </tr>\n",
       "    <tr>\n",
       "      <th>geo</th>\n",
       "      <th></th>\n",
       "      <th></th>\n",
       "      <th></th>\n",
       "      <th></th>\n",
       "      <th></th>\n",
       "      <th></th>\n",
       "      <th></th>\n",
       "    </tr>\n",
       "  </thead>\n",
       "  <tbody>\n",
       "    <tr>\n",
       "      <th>LU</th>\n",
       "      <td>11.61019</td>\n",
       "      <td>576249.0</td>\n",
       "      <td>Lucembursko</td>\n",
       "      <td>0.576249</td>\n",
       "      <td>20.14787</td>\n",
       "      <td>11.61019</td>\n",
       "      <td>#7dcab8</td>\n",
       "    </tr>\n",
       "  </tbody>\n",
       "</table>\n",
       "</div>"
      ],
      "text/plain": [
       "      MtCO2eq  population      country  population_(mil)  em_per_capita  \\\n",
       "geo                                                                       \n",
       "LU   11.61019    576249.0  Lucembursko          0.576249       20.14787   \n",
       "\n",
       "        total   colors  \n",
       "geo                     \n",
       "LU   11.61019  #7dcab8  "
      ]
     },
     "execution_count": 10,
     "metadata": {},
     "output_type": "execute_result"
    }
   ],
   "source": [
    "df_sorted.head(1)"
   ]
  },
  {
   "cell_type": "markdown",
   "id": "17084d95",
   "metadata": {},
   "source": [
    "### Text variables "
   ]
  },
  {
   "cell_type": "code",
   "execution_count": 11,
   "id": "76884d7d",
   "metadata": {},
   "outputs": [],
   "source": [
    "def percentage(part, whole):\n",
    "    return (part / whole) * 100"
   ]
  },
  {
   "cell_type": "code",
   "execution_count": 12,
   "id": "7b4be858",
   "metadata": {},
   "outputs": [],
   "source": [
    "# word emission 2015 (ZDROJ: emise svět FoK, https://faktaoklimatu.cz/datasety/emise-svet)\n",
    "word_year = 2015\n",
    "word_emiss = 46910 # Mt CO2eq\n",
    "word_popul = 7187923043\n",
    "em_per_cap_word =  (word_emiss/word_popul)*1000000"
   ]
  },
  {
   "cell_type": "code",
   "execution_count": 13,
   "id": "b9eed17e",
   "metadata": {},
   "outputs": [],
   "source": [
    "# Find the country which creates most CO2eq emissions in EU\n",
    "df_sorted_MtCO2eq = df.sort_values(by='MtCO2eq', ascending = False)\n",
    "country_most_MtCO2eq = df_sorted_MtCO2eq.iloc[0]['country']\n",
    "\n",
    "# Find the country whith the biggest population\n",
    "df_sorted_population = df.sort_values(by='population', ascending = False)\n",
    "country_top_popul = df_sorted_population.iloc[0]['country']\n",
    "\n",
    "# Find top 4 countries by emission per capita and the values\n",
    "    # 1\n",
    "country_first_em_per_capita = df_sorted.iloc[0]['country'] # country\n",
    "top_em_per_capita_value = df_sorted.iloc[0]['em_per_capita'] # value\n",
    "    # 2\n",
    "country_second_em_per_capita = df_sorted.iloc[1]['country'] # country\n",
    "second_em_per_capita_value = df_sorted.iloc[1]['em_per_capita'] # value\n",
    "    # 3\n",
    "country_third_em_per_capita = df_sorted.iloc[2]['country'] # country\n",
    "third_em_per_capita_value = df_sorted.iloc[2]['em_per_capita'] # value\n",
    "    # 4\n",
    "country_fourth_em_per_capita = df_sorted.iloc[3]['country'] # country\n",
    "fourth_em_per_capita_value = df_sorted.iloc[3]['em_per_capita'] # value\n",
    "\n",
    "# COMPUTE TEXT VARIABLES\n",
    "# emissions per person EU in tons\n",
    "em_per_cap_EU = (sum(df_sorted['total'])/sum(df_sorted['population']))*1000000\n",
    "\n",
    "# If each person in the Word has the emission production of average EU citizen\n",
    "em_word_if = (em_per_cap_EU * word_popul)/1000000\n",
    "word_perc_if_EU_production_per_cap = percentage(em_word_if, word_emiss) - 100"
   ]
  },
  {
   "cell_type": "code",
   "execution_count": 14,
   "id": "c9255ca7",
   "metadata": {},
   "outputs": [],
   "source": [
    "# LUXEMBOURG\n",
    "# Load transport emission data\n",
    "df_emis_transport = get_eurostat_crf_data_for_code(\n",
    "    \"CRF1A3\", YEAR).rename(columns={'value': 'MtCO2eq'})\n",
    "\n",
    "# count transport emission portion\n",
    "LU_whole = df_sorted.loc['LU', 'MtCO2eq']\n",
    "LU_transport_emiss = df_emis_transport.loc['LU', 'MtCO2eq']\n",
    "LU_transport_em_portion = percentage(LU_transport_emiss,LU_whole)"
   ]
  },
  {
   "cell_type": "markdown",
   "id": "41a2e043",
   "metadata": {},
   "source": [
    "#### Fact check statements"
   ]
  },
  {
   "cell_type": "markdown",
   "id": "b39d60fd",
   "metadata": {},
   "source": [
    "Update the statements in text section below if they are no more correct."
   ]
  },
  {
   "cell_type": "code",
   "execution_count": 15,
   "id": "6ac63ddb",
   "metadata": {},
   "outputs": [
    {
     "name": "stdout",
     "output_type": "stream",
     "text": [
      "\n",
      "Which EU state has the biggest population? It is Německo.\n",
      "\n",
      "\n",
      "Which EU state is the biggest absolute emitent? It is Německo.\n",
      "\n",
      "\n",
      "Which EU state is the biggest emmitent per capita? It is Lucembursko.\n",
      "\n",
      "\n",
      "Which EU state is the second biggest emmitent per capita? It is Estonsko.\n",
      "\n",
      "\n",
      "Which EU state is the third biggest emmitent per capita? It is Irsko.\n",
      "\n",
      "\n",
      "Which EU state is the fourth biggest emmitent per capita? It is Česko.\n",
      "\n"
     ]
    }
   ],
   "source": [
    "# Is Germany still the biggest state in EU? (population)\n",
    "print(f'''\n",
    "Which EU state has the biggest population? It is {country_top_popul}.\n",
    "''')\n",
    "\n",
    "# Is Germany still the biggest absolute emmitent?\n",
    "print(f'''\n",
    "Which EU state is the biggest absolute emitent? It is {country_most_MtCO2eq }.\n",
    "''')\n",
    "\n",
    "# Is Luxembourg still the biggest emmitent per capita?\n",
    "print(f'''\n",
    "Which EU state is the biggest emmitent per capita? It is {country_first_em_per_capita}.\n",
    "''')\n",
    "\n",
    "# Is Estonia still the second biggest emmitent per capita?\n",
    "print(f'''\n",
    "Which EU state is the second biggest emmitent per capita? It is {country_second_em_per_capita}.\n",
    "''')\n",
    "\n",
    "# Is Ireland still the third biggest emmitent per capita?\n",
    "print(f'''\n",
    "Which EU state is the third biggest emmitent per capita? It is {country_third_em_per_capita}.\n",
    "''')\n",
    "\n",
    "# Is Czechia still the fourth biggest emmitent per capita?\n",
    "print(f'''\n",
    "Which EU state is the fourth biggest emmitent per capita? It is {country_fourth_em_per_capita}.\n",
    "''')"
   ]
  },
  {
   "cell_type": "markdown",
   "id": "d3e46a75",
   "metadata": {},
   "source": [
    "## Create texts "
   ]
  },
  {
   "cell_type": "code",
   "execution_count": 16,
   "id": "2a8ae283",
   "metadata": {},
   "outputs": [
    {
     "name": "stdout",
     "output_type": "stream",
     "text": [
      "\n",
      "Průměrné emise na osobu v Evropské unii za rok 2016 jsou 8.8 tun CO2eq. Oproti tomu světový průměr emisí na osobu za rok 2015 je 6.53 tun CO2eq. Pokud by každý člověk na Zemi vypouštěl tolik emisí jako průměrný obyvatel Evropské unie, vzrostly by celosvětové emise o 35 %. Srovnání světových regionů a vybraných států v obdobném formátu ukazuje infografika [Emise světových regionů přepočtené na osobu](https://faktaoklimatu.cz/infografiky/emise-svet-na-osobu).\n",
      "\n",
      "\n",
      "Největším producentem skleníkových plynů v Evropské unii je v absolutním srovnání Německo, které je také nejlidnatějším státem EU.\n",
      "\n",
      "\n",
      "V přepočtu na obyvatele vypouští nejvíce skleníkových plynů Lucembursko (20t CO2eq ročně), kde 47.3 % emisí pochází z dopravy. Dle platformy [Votum Klima](https://today.rtl.lu/news/luxembourg/a/1184731.html) je to způsobené nafto-benzínovým turismem. Druhé Estonsko (15.0t CO2eq ročně) a čtvrté Česko (12.5t CO2eq ročně) a třetí Irsko (14.1t CO2eq ročně)XXXXXXXXX. Detailnější analýzu emisí podle jednotlivých sektorů lze nalézt ve [zpracovaném datasetu](https://docs.google.com/spreadsheets/d/1KNL5d1CwLsLc8INquN7z5ABdr52APEsDjEsUcYGh_Mk/edit#gid=979818322). \n",
      "\n",
      "\n",
      "blablabla\n",
      "\n"
     ]
    }
   ],
   "source": [
    "# Print backing texts\n",
    "print(f'''\n",
    "Průměrné emise na osobu v Evropské unii za rok {YEAR} jsou {em_per_cap_EU:.1f} tun CO2eq. Oproti tomu světový průměr emisí na osobu za rok {word_year} je {em_per_cap_word:.2f} tun CO2eq. Pokud by každý člověk na Zemi vypouštěl tolik emisí jako průměrný obyvatel Evropské unie, vzrostly by celosvětové emise o {word_perc_if_EU_production_per_cap:.0f} %. Srovnání světových regionů a vybraných států v obdobném formátu ukazuje infografika [Emise světových regionů přepočtené na osobu](https://faktaoklimatu.cz/infografiky/emise-svet-na-osobu).\n",
    "''')\n",
    "\n",
    "print(f'''\n",
    "Největším producentem skleníkových plynů v Evropské unii je v absolutním srovnání {country_most_MtCO2eq}, které je také nejlidnatějším státem EU.\n",
    "''') \n",
    "\n",
    "print(f'''\n",
    "V přepočtu na obyvatele vypouští nejvíce skleníkových plynů {country_first_em_per_capita} ({top_em_per_capita_value:.0f}t CO2eq ročně), kde {LU_transport_em_portion:.1f} % emisí pochází z dopravy. Dle platformy [Votum Klima](https://today.rtl.lu/news/luxembourg/a/1184731.html) je to způsobené nafto-benzínovým turismem. Druhé {country_second_em_per_capita} ({second_em_per_capita_value:.1f}t CO2eq ročně) a čtvrté {country_fourth_em_per_capita} ({fourth_em_per_capita_value:.1f}t CO2eq ročně) a třetí {country_third_em_per_capita} ({third_em_per_capita_value:.1f}t CO2eq ročně)XXXXXXXXX. Detailnější analýzu emisí podle jednotlivých sektorů lze nalézt ve [zpracovaném datasetu](https://docs.google.com/spreadsheets/d/1KNL5d1CwLsLc8INquN7z5ABdr52APEsDjEsUcYGh_Mk/edit#gid=979818322). \n",
    "''')\n",
    "\n",
    "print(f'''\n",
    "blablabla\n",
    "''')"
   ]
  },
  {
   "cell_type": "markdown",
   "id": "cb9f1020",
   "metadata": {},
   "source": [
    "### vzor\n",
    "    Průměrné emise na osobu v Evropské unii jsou 8,7 tun CO2eq. Oproti tomu světový průměr emisí na osobu je 6,51 tun CO2eq na rok. Pokud by každý člověk na zemi vypouštěl tolik emisí jako průměrný obyvatel Evropské unie, vzrostly by celosvětové emise o více než 30 %. Srovnání světových regionů a vybraných států v obdobném formátu ukazuje infografika Emise světových regionů přepočtené na osobu.\n",
    "    \n",
    "    Největším producentem skleníkových plynů v Evropské unii je v absolutním srovnání Německo, které je zároveň také nejlidnatějším státem unie.\n",
    "    \n",
    "    V přepočtu na obyvatele vypouští nejvíce skleníkových plynů Lucembursko (20 t CO2eq ročně), kde více než 60 % emisí pochází z dopravy, dle platformy Votum Klima je to způsobené nafto-benzínovým turismem. Druhé Estonsko (15 t CO2eq) a čtvrtá Česká republika (12,4 CO2eq) mají vysoké emise kvůli energetickému mixu založenému na uhlí a třetí Irsko (13,6 t CO2eq) kvůli zemědělství. Detailnější analýzu emisí podle jednotlivých sektorů lze nalézt ve zpracovaném datasetu.\n",
    "    \n",
    "    Naopak nejnižší emise na osobu má z Evropských států Malta (5,1 t CO2eq), následovaná Švédskem (5,6 t CO2eq). Zároveň životní úroveň ve Švédsku je téměř o 40 % vyšší než v České republice, snižování emisí tedy nemusí být překážkou zvyšování životní úrovně obyvatel. Švédsko má zavedenou uhlíkovou daň již od roku 1991, dnes nejvyšší z celého světa – 127 $ / t CO2. Ve zprávě z roku 2019 Mezinárodní měnový fond vysvětluje, proč je uhlíková daň nejefektivnějším opatřením na snižování emisí skleníkových plynů, jak zobrazuje také související infografika o mitigačních opatřeních.\n"
   ]
  },
  {
   "cell_type": "code",
   "execution_count": null,
   "id": "7937b4e5",
   "metadata": {},
   "outputs": [],
   "source": []
  }
 ],
 "metadata": {
  "kernelspec": {
   "display_name": "Python 3 (ipykernel)",
   "language": "python",
   "name": "python3"
  },
  "language_info": {
   "codemirror_mode": {
    "name": "ipython",
    "version": 3
   },
   "file_extension": ".py",
   "mimetype": "text/x-python",
   "name": "python",
   "nbconvert_exporter": "python",
   "pygments_lexer": "ipython3",
   "version": "3.9.7"
  }
 },
 "nbformat": 4,
 "nbformat_minor": 5
}
