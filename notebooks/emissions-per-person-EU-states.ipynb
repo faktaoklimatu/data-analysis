{
 "cells": [
  {
   "cell_type": "code",
   "execution_count": 92,
   "id": "d1083d4b",
   "metadata": {},
   "outputs": [],
   "source": [
    "import enum\n",
    "import os\n",
    "import sys\n",
    "\n",
    "import matplotlib.pyplot as plt\n",
    "import pandas as pd\n",
    "import numpy as np\n",
    "from matplotlib.cm import ScalarMappable\n",
    "import eurostat\n",
    "\n",
    "# Add the root dir to the path, so we can load the module.\n",
    "sys.path.append(os.path.abspath(\"..\"))\n",
    "\n",
    "from eurostat_population_utils import get_eurostat_population_data # !!! pak změň load modulů (from data_analysis.eurostat_geo import Geo)\n",
    "from eurostat_crf_utils import *\n",
    "from eurostat_geo import *"
   ]
  },
  {
   "cell_type": "code",
   "execution_count": 2,
   "id": "746a91c8",
   "metadata": {},
   "outputs": [],
   "source": [
    "# Year we want to visualize\n",
    "YEAR = 2016"
   ]
  },
  {
   "cell_type": "code",
   "execution_count": 3,
   "id": "a33406b6",
   "metadata": {},
   "outputs": [],
   "source": [
    "# fetch emission data using 'get_eurostat_crf_data_for_code' function\n",
    "df_emis = get_eurostat_crf_data_for_code(\n",
    "    \"TOTX4_MEMONIA\", YEAR).rename(columns={'value': 'MtCO2eq'})"
   ]
  },
  {
   "cell_type": "code",
   "execution_count": 4,
   "id": "c06b0138",
   "metadata": {},
   "outputs": [],
   "source": [
    "# fetch demographic data using 'get_eurostat_population_data' function\n",
    "df_demo = get_eurostat_population_data(\n",
    "    YEAR).rename(columns={'value': 'population'})"
   ]
  },
  {
   "cell_type": "code",
   "execution_count": 5,
   "id": "dccba074",
   "metadata": {},
   "outputs": [],
   "source": [
    "# Merge the data frames on select only EU27 countries.\n",
    "df = df_emis.merge(df_demo, on='geo')\n",
    "df = df.loc[df.index.isin([geo.value for geo in eu27_geo_dict.keys()])]\n",
    "df['country'] = eu27_geo_dict.values()"
   ]
  },
  {
   "cell_type": "code",
   "execution_count": 6,
   "id": "5642dfaa",
   "metadata": {},
   "outputs": [],
   "source": [
    "df['population_(mil)'] = (df['population'] / 1000000)\n",
    "df['em_per_capita'] = (df['MtCO2eq'] * 1000000) / df['population']\n",
    "df['total'] = (df['population_(mil)'] * df['em_per_capita'])"
   ]
  },
  {
   "cell_type": "code",
   "execution_count": 84,
   "id": "1e54b0a3",
   "metadata": {
    "scrolled": true
   },
   "outputs": [
    {
     "data": {
      "text/html": [
       "<div>\n",
       "<style scoped>\n",
       "    .dataframe tbody tr th:only-of-type {\n",
       "        vertical-align: middle;\n",
       "    }\n",
       "\n",
       "    .dataframe tbody tr th {\n",
       "        vertical-align: top;\n",
       "    }\n",
       "\n",
       "    .dataframe thead th {\n",
       "        text-align: right;\n",
       "    }\n",
       "</style>\n",
       "<table border=\"1\" class=\"dataframe\">\n",
       "  <thead>\n",
       "    <tr style=\"text-align: right;\">\n",
       "      <th></th>\n",
       "      <th>MtCO2eq</th>\n",
       "      <th>population</th>\n",
       "      <th>country</th>\n",
       "      <th>population_(mil)</th>\n",
       "      <th>em_per_capita</th>\n",
       "      <th>total</th>\n",
       "    </tr>\n",
       "    <tr>\n",
       "      <th>geo</th>\n",
       "      <th></th>\n",
       "      <th></th>\n",
       "      <th></th>\n",
       "      <th></th>\n",
       "      <th></th>\n",
       "      <th></th>\n",
       "    </tr>\n",
       "  </thead>\n",
       "  <tbody>\n",
       "    <tr>\n",
       "      <th>AT</th>\n",
       "      <td>82.16347</td>\n",
       "      <td>8700471.0</td>\n",
       "      <td>Rakousko</td>\n",
       "      <td>8.700471</td>\n",
       "      <td>9.443566</td>\n",
       "      <td>82.16347</td>\n",
       "    </tr>\n",
       "    <tr>\n",
       "      <th>BE</th>\n",
       "      <td>121.82931</td>\n",
       "      <td>11311117.0</td>\n",
       "      <td>Belgie</td>\n",
       "      <td>11.311117</td>\n",
       "      <td>10.770759</td>\n",
       "      <td>121.82931</td>\n",
       "    </tr>\n",
       "    <tr>\n",
       "      <th>BG</th>\n",
       "      <td>58.48840</td>\n",
       "      <td>7153784.0</td>\n",
       "      <td>Bulharsko</td>\n",
       "      <td>7.153784</td>\n",
       "      <td>8.175869</td>\n",
       "      <td>58.48840</td>\n",
       "    </tr>\n",
       "    <tr>\n",
       "      <th>CY</th>\n",
       "      <td>9.74565</td>\n",
       "      <td>848319.0</td>\n",
       "      <td>Kypr</td>\n",
       "      <td>0.848319</td>\n",
       "      <td>11.488190</td>\n",
       "      <td>9.74565</td>\n",
       "    </tr>\n",
       "    <tr>\n",
       "      <th>CZ</th>\n",
       "      <td>131.84903</td>\n",
       "      <td>10553843.0</td>\n",
       "      <td>Česko</td>\n",
       "      <td>10.553843</td>\n",
       "      <td>12.492988</td>\n",
       "      <td>131.84903</td>\n",
       "    </tr>\n",
       "    <tr>\n",
       "      <th>DE</th>\n",
       "      <td>925.26657</td>\n",
       "      <td>82175684.0</td>\n",
       "      <td>Německo</td>\n",
       "      <td>82.175684</td>\n",
       "      <td>11.259615</td>\n",
       "      <td>925.26657</td>\n",
       "    </tr>\n",
       "    <tr>\n",
       "      <th>DK</th>\n",
       "      <td>54.54711</td>\n",
       "      <td>5707251.0</td>\n",
       "      <td>Dánsko</td>\n",
       "      <td>5.707251</td>\n",
       "      <td>9.557510</td>\n",
       "      <td>54.54711</td>\n",
       "    </tr>\n",
       "    <tr>\n",
       "      <th>EE</th>\n",
       "      <td>19.74207</td>\n",
       "      <td>1315944.0</td>\n",
       "      <td>Estonsko</td>\n",
       "      <td>1.315944</td>\n",
       "      <td>15.002211</td>\n",
       "      <td>19.74207</td>\n",
       "    </tr>\n",
       "    <tr>\n",
       "      <th>EL</th>\n",
       "      <td>95.37808</td>\n",
       "      <td>10783748.0</td>\n",
       "      <td>Řecko</td>\n",
       "      <td>10.783748</td>\n",
       "      <td>8.844613</td>\n",
       "      <td>95.37808</td>\n",
       "    </tr>\n",
       "    <tr>\n",
       "      <th>ES</th>\n",
       "      <td>337.95265</td>\n",
       "      <td>46440099.0</td>\n",
       "      <td>Španělsko</td>\n",
       "      <td>46.440099</td>\n",
       "      <td>7.277173</td>\n",
       "      <td>337.95265</td>\n",
       "    </tr>\n",
       "    <tr>\n",
       "      <th>FI</th>\n",
       "      <td>59.87066</td>\n",
       "      <td>5487308.0</td>\n",
       "      <td>Finsko</td>\n",
       "      <td>5.487308</td>\n",
       "      <td>10.910753</td>\n",
       "      <td>59.87066</td>\n",
       "    </tr>\n",
       "    <tr>\n",
       "      <th>FR</th>\n",
       "      <td>473.75317</td>\n",
       "      <td>66638391.0</td>\n",
       "      <td>Francie</td>\n",
       "      <td>66.638391</td>\n",
       "      <td>7.109313</td>\n",
       "      <td>473.75317</td>\n",
       "    </tr>\n",
       "    <tr>\n",
       "      <th>HR</th>\n",
       "      <td>25.21252</td>\n",
       "      <td>4190669.0</td>\n",
       "      <td>Chorvatsko</td>\n",
       "      <td>4.190669</td>\n",
       "      <td>6.016347</td>\n",
       "      <td>25.21252</td>\n",
       "    </tr>\n",
       "    <tr>\n",
       "      <th>HU</th>\n",
       "      <td>63.28637</td>\n",
       "      <td>9830485.0</td>\n",
       "      <td>Maďarsko</td>\n",
       "      <td>9.830485</td>\n",
       "      <td>6.437767</td>\n",
       "      <td>63.28637</td>\n",
       "    </tr>\n",
       "    <tr>\n",
       "      <th>IE</th>\n",
       "      <td>66.60613</td>\n",
       "      <td>4726286.0</td>\n",
       "      <td>Irsko</td>\n",
       "      <td>4.726286</td>\n",
       "      <td>14.092700</td>\n",
       "      <td>66.60613</td>\n",
       "    </tr>\n",
       "    <tr>\n",
       "      <th>IT</th>\n",
       "      <td>453.33025</td>\n",
       "      <td>60665551.0</td>\n",
       "      <td>Itálie</td>\n",
       "      <td>60.665551</td>\n",
       "      <td>7.472614</td>\n",
       "      <td>453.33025</td>\n",
       "    </tr>\n",
       "    <tr>\n",
       "      <th>LT</th>\n",
       "      <td>20.54485</td>\n",
       "      <td>2888558.0</td>\n",
       "      <td>Litva</td>\n",
       "      <td>2.888558</td>\n",
       "      <td>7.112494</td>\n",
       "      <td>20.54485</td>\n",
       "    </tr>\n",
       "    <tr>\n",
       "      <th>LU</th>\n",
       "      <td>11.61019</td>\n",
       "      <td>576249.0</td>\n",
       "      <td>Lucembursko</td>\n",
       "      <td>0.576249</td>\n",
       "      <td>20.147870</td>\n",
       "      <td>11.61019</td>\n",
       "    </tr>\n",
       "    <tr>\n",
       "      <th>LV</th>\n",
       "      <td>11.13582</td>\n",
       "      <td>1968957.0</td>\n",
       "      <td>Lotyšsko</td>\n",
       "      <td>1.968957</td>\n",
       "      <td>5.655695</td>\n",
       "      <td>11.13582</td>\n",
       "    </tr>\n",
       "    <tr>\n",
       "      <th>MT</th>\n",
       "      <td>2.24216</td>\n",
       "      <td>450415.0</td>\n",
       "      <td>Malta</td>\n",
       "      <td>0.450415</td>\n",
       "      <td>4.977987</td>\n",
       "      <td>2.24216</td>\n",
       "    </tr>\n",
       "    <tr>\n",
       "      <th>NL</th>\n",
       "      <td>206.85974</td>\n",
       "      <td>16979120.0</td>\n",
       "      <td>Nizozemsko</td>\n",
       "      <td>16.979120</td>\n",
       "      <td>12.183184</td>\n",
       "      <td>206.85974</td>\n",
       "    </tr>\n",
       "    <tr>\n",
       "      <th>PL</th>\n",
       "      <td>396.88013</td>\n",
       "      <td>37967209.0</td>\n",
       "      <td>Polsko</td>\n",
       "      <td>37.967209</td>\n",
       "      <td>10.453234</td>\n",
       "      <td>396.88013</td>\n",
       "    </tr>\n",
       "    <tr>\n",
       "      <th>PT</th>\n",
       "      <td>69.88082</td>\n",
       "      <td>10341330.0</td>\n",
       "      <td>Portugalsko</td>\n",
       "      <td>10.341330</td>\n",
       "      <td>6.757431</td>\n",
       "      <td>69.88082</td>\n",
       "    </tr>\n",
       "    <tr>\n",
       "      <th>RO</th>\n",
       "      <td>116.18774</td>\n",
       "      <td>19760585.0</td>\n",
       "      <td>Rumunsko</td>\n",
       "      <td>19.760585</td>\n",
       "      <td>5.879772</td>\n",
       "      <td>116.18774</td>\n",
       "    </tr>\n",
       "    <tr>\n",
       "      <th>SE</th>\n",
       "      <td>56.02725</td>\n",
       "      <td>9851017.0</td>\n",
       "      <td>Švédsko</td>\n",
       "      <td>9.851017</td>\n",
       "      <td>5.687458</td>\n",
       "      <td>56.02725</td>\n",
       "    </tr>\n",
       "    <tr>\n",
       "      <th>SI</th>\n",
       "      <td>17.85108</td>\n",
       "      <td>2064188.0</td>\n",
       "      <td>Slovinsko</td>\n",
       "      <td>2.064188</td>\n",
       "      <td>8.647991</td>\n",
       "      <td>17.85108</td>\n",
       "    </tr>\n",
       "    <tr>\n",
       "      <th>SK</th>\n",
       "      <td>41.52631</td>\n",
       "      <td>5426252.0</td>\n",
       "      <td>Slovensko</td>\n",
       "      <td>5.426252</td>\n",
       "      <td>7.652853</td>\n",
       "      <td>41.52631</td>\n",
       "    </tr>\n",
       "  </tbody>\n",
       "</table>\n",
       "</div>"
      ],
      "text/plain": [
       "       MtCO2eq  population      country  population_(mil)  em_per_capita  \\\n",
       "geo                                                                        \n",
       "AT    82.16347   8700471.0     Rakousko          8.700471       9.443566   \n",
       "BE   121.82931  11311117.0       Belgie         11.311117      10.770759   \n",
       "BG    58.48840   7153784.0    Bulharsko          7.153784       8.175869   \n",
       "CY     9.74565    848319.0         Kypr          0.848319      11.488190   \n",
       "CZ   131.84903  10553843.0        Česko         10.553843      12.492988   \n",
       "DE   925.26657  82175684.0      Německo         82.175684      11.259615   \n",
       "DK    54.54711   5707251.0       Dánsko          5.707251       9.557510   \n",
       "EE    19.74207   1315944.0     Estonsko          1.315944      15.002211   \n",
       "EL    95.37808  10783748.0        Řecko         10.783748       8.844613   \n",
       "ES   337.95265  46440099.0    Španělsko         46.440099       7.277173   \n",
       "FI    59.87066   5487308.0       Finsko          5.487308      10.910753   \n",
       "FR   473.75317  66638391.0      Francie         66.638391       7.109313   \n",
       "HR    25.21252   4190669.0   Chorvatsko          4.190669       6.016347   \n",
       "HU    63.28637   9830485.0     Maďarsko          9.830485       6.437767   \n",
       "IE    66.60613   4726286.0        Irsko          4.726286      14.092700   \n",
       "IT   453.33025  60665551.0       Itálie         60.665551       7.472614   \n",
       "LT    20.54485   2888558.0        Litva          2.888558       7.112494   \n",
       "LU    11.61019    576249.0  Lucembursko          0.576249      20.147870   \n",
       "LV    11.13582   1968957.0     Lotyšsko          1.968957       5.655695   \n",
       "MT     2.24216    450415.0        Malta          0.450415       4.977987   \n",
       "NL   206.85974  16979120.0   Nizozemsko         16.979120      12.183184   \n",
       "PL   396.88013  37967209.0       Polsko         37.967209      10.453234   \n",
       "PT    69.88082  10341330.0  Portugalsko         10.341330       6.757431   \n",
       "RO   116.18774  19760585.0     Rumunsko         19.760585       5.879772   \n",
       "SE    56.02725   9851017.0      Švédsko          9.851017       5.687458   \n",
       "SI    17.85108   2064188.0    Slovinsko          2.064188       8.647991   \n",
       "SK    41.52631   5426252.0    Slovensko          5.426252       7.652853   \n",
       "\n",
       "         total  \n",
       "geo             \n",
       "AT    82.16347  \n",
       "BE   121.82931  \n",
       "BG    58.48840  \n",
       "CY     9.74565  \n",
       "CZ   131.84903  \n",
       "DE   925.26657  \n",
       "DK    54.54711  \n",
       "EE    19.74207  \n",
       "EL    95.37808  \n",
       "ES   337.95265  \n",
       "FI    59.87066  \n",
       "FR   473.75317  \n",
       "HR    25.21252  \n",
       "HU    63.28637  \n",
       "IE    66.60613  \n",
       "IT   453.33025  \n",
       "LT    20.54485  \n",
       "LU    11.61019  \n",
       "LV    11.13582  \n",
       "MT     2.24216  \n",
       "NL   206.85974  \n",
       "PL   396.88013  \n",
       "PT    69.88082  \n",
       "RO   116.18774  \n",
       "SE    56.02725  \n",
       "SI    17.85108  \n",
       "SK    41.52631  "
      ]
     },
     "execution_count": 84,
     "metadata": {},
     "output_type": "execute_result"
    }
   ],
   "source": [
    "df"
   ]
  },
  {
   "cell_type": "markdown",
   "id": "65a36620",
   "metadata": {},
   "source": [
    "TOHLE TVOŘÍM: https://faktaoklimatu.cz/infografiky/emise-eu-na-osobu\n",
    "\n",
    "Potřebuju aby graf:\n",
    "- na ose Y ukazoval emise na obyvatele (\"em_per_capita\")\n",
    "- na ose X budou státy řazeny podle hodnoty emisí na obyvatele (\"em_per_capita\"), tedy podle osy Y\n",
    "--- mezi jednotlivými státy bude pevně daná mezera\n",
    "- plocha sloupce ukazovala součin populace státu a celkových ročních emisí (\"total\")\n",
    "- sloupce budou různě barevné podle škály (viz původní graf)\n"
   ]
  },
  {
   "cell_type": "code",
   "execution_count": 43,
   "id": "e51f47a4",
   "metadata": {
    "scrolled": true
   },
   "outputs": [
    {
     "data": {
      "text/plain": [
       "<AxesSubplot:xlabel='geo'>"
      ]
     },
     "execution_count": 43,
     "metadata": {},
     "output_type": "execute_result"
    },
    {
     "data": {
      "image/png": "[encoded data removed]",
      "text/plain": [
       "<Figure size 432x288 with 1 Axes>"
      ]
     },
     "metadata": {
      "needs_background": "light"
     },
     "output_type": "display_data"
    }
   ],
   "source": [
    "df['total'].sort_values(ascending=False).plot.bar(legend = False)"
   ]
  },
  {
   "cell_type": "code",
   "execution_count": 47,
   "id": "dfc4994f",
   "metadata": {},
   "outputs": [
    {
     "data": {
      "text/plain": [
       "<AxesSubplot:xlabel='geo'>"
      ]
     },
     "execution_count": 47,
     "metadata": {},
     "output_type": "execute_result"
    },
    {
     "data": {
      "image/png": "[encoded data removed]",
      "text/plain": [
       "<Figure size 432x288 with 1 Axes>"
      ]
     },
     "metadata": {
      "needs_background": "light"
     },
     "output_type": "display_data"
    }
   ],
   "source": [
    "df['em_per_capita'].sort_values(ascending=False).plot.bar(legend=False)"
   ]
  },
  {
   "cell_type": "code",
   "execution_count": 53,
   "id": "72384f21",
   "metadata": {},
   "outputs": [
    {
     "data": {
      "text/plain": [
       "<BarContainer object of 27 artists>"
      ]
     },
     "execution_count": 53,
     "metadata": {},
     "output_type": "execute_result"
    },
    {
     "data": {
      "image/png": "[encoded data removed]",
      "text/plain": [
       "<Figure size 864x432 with 1 Axes>"
      ]
     },
     "metadata": {
      "needs_background": "light"
     },
     "output_type": "display_data"
    }
   ],
   "source": [
    "plt.figure(figsize=(12,6))\n",
    "plt.bar(df['em_per_capita'], height = df['em_per_capita'], width = df['population_(mil)'])"
   ]
  },
  {
   "cell_type": "code",
   "execution_count": 45,
   "id": "1a83a2a6",
   "metadata": {},
   "outputs": [
    {
     "data": {
      "text/plain": [
       "<BarContainer object of 27 artists>"
      ]
     },
     "execution_count": 45,
     "metadata": {},
     "output_type": "execute_result"
    },
    {
     "data": {
      "image/png": "[encoded data removed]",
      "text/plain": [
       "<Figure size 864x432 with 1 Axes>"
      ]
     },
     "metadata": {
      "needs_background": "light"
     },
     "output_type": "display_data"
    }
   ],
   "source": [
    "plt.figure(figsize=(12,6))\n",
    "plt.bar(df['total'].sort_values(ascending=False), height = df['em_per_capita'],)"
   ]
  },
  {
   "cell_type": "code",
   "execution_count": 9,
   "id": "be3c819a",
   "metadata": {},
   "outputs": [],
   "source": [
    "# plt.bar(x, height = h, width = 0.9)\n",
    "# https://www.tutorialkart.com/matplotlib-tutorial/matplotlib-pyplot-bar-plot-width/#gsc.tab=0"
   ]
  },
  {
   "cell_type": "code",
   "execution_count": null,
   "id": "b53569c6",
   "metadata": {},
   "outputs": [],
   "source": [
    "# height = df['em_per_capita'].sort_values(ascending=True) ? "
   ]
  },
  {
   "cell_type": "code",
   "execution_count": 54,
   "id": "e61dc6e1",
   "metadata": {},
   "outputs": [
    {
     "data": {
      "text/plain": [
       "<BarContainer object of 27 artists>"
      ]
     },
     "execution_count": 54,
     "metadata": {},
     "output_type": "execute_result"
    },
    {
     "data": {
      "image/png": "[encoded data removed]",
      "text/plain": [
       "<Figure size 864x432 with 1 Axes>"
      ]
     },
     "metadata": {
      "needs_background": "light"
     },
     "output_type": "display_data"
    }
   ],
   "source": [
    "plt.figure(figsize=(12,6))\n",
    "plt.bar(df['total'], height = df['em_per_capita'], width = df['population_(mil)'], edgecolor=\"black\")"
   ]
  },
  {
   "cell_type": "markdown",
   "id": "e2611f63",
   "metadata": {},
   "source": [
    "POZN\n",
    "- edgecolor=\"black\" - ti zvýrazní okraje sloupce"
   ]
  },
  {
   "cell_type": "markdown",
   "id": "b2b8a8cb",
   "metadata": {},
   "source": [
    "verze kam se chci dostat:\n",
    "https://faktaoklimatu.cz/infografiky/emise-eu-na-osobu"
   ]
  },
  {
   "cell_type": "markdown",
   "id": "42a833be",
   "metadata": {},
   "source": [
    "## CHAT GPT verze "
   ]
  },
  {
   "cell_type": "code",
   "execution_count": 96,
   "id": "8a8147dd",
   "metadata": {},
   "outputs": [
    {
     "data": {
      "image/png": "[encoded data removed]",
      "text/plain": [
       "<Figure size 432x288 with 2 Axes>"
      ]
     },
     "metadata": {
      "needs_background": "light"
     },
     "output_type": "display_data"
    }
   ],
   "source": [
    "# Sample data in a DataFrame\n",
    "my_data = pd.DataFrame({\n",
    "    'States': ['AT', 'CZ', 'DE'],\n",
    "    'population': [8.7, 10.5, 82],\n",
    "    'em_per_capita': [9.4, 12.5, 11],\n",
    "    'total': [82, 131, 925]\n",
    "})\n",
    "\n",
    "# Sort the DataFrame based on the 'em_per_capita' column in descending order\n",
    "sorted_data = my_data.sort_values(by='em_per_capita', ascending=False)\n",
    "\n",
    "# Calculate the widths for each bar based on the sorted total values\n",
    "widths = np.sqrt(sorted_data['total'])\n",
    "\n",
    "# !!! tohle mu nefunguje\n",
    "# Set the gap between bars\n",
    "gap = 0.2  # Adjust this value according to your preference\n",
    "\n",
    "# Calculate the cumulative sum of widths to set the positions with gaps\n",
    "positions = np.cumsum(np.concatenate([[0], widths + gap])) - widths[0] - gap\n",
    "\n",
    "# Create a ScalarMappable to map total values to colors\n",
    "norm = plt.Normalize(2, 935)\n",
    "colors = plt.cm.Blues(norm(sorted_data['total']))\n",
    "\n",
    "# Create a bar chart with sorted, spaced, and no overlap bars\n",
    "bars = plt.bar(positions[1:], sorted_data['em_per_capita'], width=widths, color=colors, edgecolor='black')\n",
    "\n",
    "# Adding labels and title\n",
    "plt.xlabel('States')\n",
    "plt.ylabel('Emission per Capita')\n",
    "plt.title('Bar Chart with Sorted (Descending), Spaced, and No Overlaps Bars')\n",
    "\n",
    "# Set x-axis ticks to the positions of the bars\n",
    "plt.xticks(positions[1:], sorted_data['States'])\n",
    "\n",
    "# Create a ScalarMappable to create a colorbar\n",
    "sm = ScalarMappable(cmap=plt.cm.Blues, norm=norm)\n",
    "sm.set_array([])  # Optional, but avoids a warning\n",
    "\n",
    "# Display the colorbar\n",
    "cbar = plt.colorbar(sm, orientation='vertical')\n",
    "cbar.set_label('Total')\n",
    "\n",
    "# Display the plot\n",
    "plt.show()"
   ]
  },
  {
   "cell_type": "code",
   "execution_count": null,
   "id": "3f065b08",
   "metadata": {},
   "outputs": [],
   "source": []
  }
 ],
 "metadata": {
  "kernelspec": {
   "display_name": "Python 3 (ipykernel)",
   "language": "python",
   "name": "python3"
  },
  "language_info": {
   "codemirror_mode": {
    "name": "ipython",
    "version": 3
   },
   "file_extension": ".py",
   "mimetype": "text/x-python",
   "name": "python",
   "nbconvert_exporter": "python",
   "pygments_lexer": "ipython3",
   "version": "3.9.7"
  }
 },
 "nbformat": 4,
 "nbformat_minor": 5
}
