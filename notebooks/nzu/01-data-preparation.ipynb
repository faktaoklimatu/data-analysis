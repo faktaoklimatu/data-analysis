{
 "cells": [
  {
   "cell_type": "code",
   "execution_count": 1,
   "metadata": {
    "vscode": {
     "languageId": "r"
    }
   },
   "outputs": [
    {
     "name": "stderr",
     "output_type": "stream",
     "text": [
      "Some features are not enabled in this build of Arrow. Run `arrow_info()` for more information.\n",
      "\n",
      "\n",
      "Attaching package: ‘arrow’\n",
      "\n",
      "\n",
      "The following object is masked from ‘package:utils’:\n",
      "\n",
      "    timestamp\n",
      "\n",
      "\n",
      "── \u001b[1mAttaching core tidyverse packages\u001b[22m ──────────────────────── tidyverse 2.0.0 ──\n",
      "\u001b[32m✔\u001b[39m \u001b[34mdplyr    \u001b[39m 1.1.4     \u001b[32m✔\u001b[39m \u001b[34mreadr    \u001b[39m 2.1.5\n",
      "\u001b[32m✔\u001b[39m \u001b[34mforcats  \u001b[39m 1.0.0     \u001b[32m✔\u001b[39m \u001b[34mstringr  \u001b[39m 1.5.1\n",
      "\u001b[32m✔\u001b[39m \u001b[34mggplot2  \u001b[39m 3.5.1     \u001b[32m✔\u001b[39m \u001b[34mtibble   \u001b[39m 3.2.1\n",
      "\u001b[32m✔\u001b[39m \u001b[34mlubridate\u001b[39m 1.9.4     \u001b[32m✔\u001b[39m \u001b[34mtidyr    \u001b[39m 1.3.1\n",
      "\u001b[32m✔\u001b[39m \u001b[34mpurrr    \u001b[39m 1.0.2     \n",
      "── \u001b[1mConflicts\u001b[22m ────────────────────────────────────────── tidyverse_conflicts() ──\n",
      "\u001b[31m✖\u001b[39m \u001b[34mlubridate\u001b[39m::\u001b[32mduration()\u001b[39m masks \u001b[34marrow\u001b[39m::duration()\n",
      "\u001b[31m✖\u001b[39m \u001b[34mdplyr\u001b[39m::\u001b[32mfilter()\u001b[39m       masks \u001b[34mstats\u001b[39m::filter()\n",
      "\u001b[31m✖\u001b[39m \u001b[34mdplyr\u001b[39m::\u001b[32mlag()\u001b[39m          masks \u001b[34mstats\u001b[39m::lag()\n",
      "\u001b[36mℹ\u001b[39m Use the conflicted package (\u001b[3m\u001b[34m<http://conflicted.r-lib.org/>\u001b[39m\u001b[23m) to force all conflicts to become errors\n"
     ]
    }
   ],
   "source": [
    "library(arrow)\n",
    "library(czso)\n",
    "library(tidyverse)\n"
   ]
  },
  {
   "cell_type": "code",
   "execution_count": 2,
   "metadata": {
    "vscode": {
     "languageId": "r"
    }
   },
   "outputs": [],
   "source": [
    "nzu_raw <- read_parquet(\"../../data/mzp-cr/nzu-consolidated.parquet\") |>\n",
    "  filter(\n",
    "    # Only one case is missing the amount.\n",
    "    !is.na(AmountPaid),\n",
    "    # Drop applications from unspecified municipalities right away.\n",
    "    !is.na(ApplicantCity),\n",
    "    # There are about three cases where the categories span multiple lines but are\n",
    "    # incorrectly parsed by PDF-to-XLSX. Let's just drop them from the analysis.\n",
    "    !str_ends(Categories, \",\")\n",
    "  ) |>\n",
    "  mutate(\n",
    "    # Quick clean up of some obvious mistakes and inconsistencies in municipality names.\n",
    "    ApplicantCity = str_replace_all(\n",
    "      ApplicantCity,\n",
    "      c(\n",
    "        # Collapse multiple horizontal space into a single space.\n",
    "        \"\\\\s\\\\s+\" = \" \",\n",
    "        # Large cities with districts.\n",
    "        \"^(Praha|Brno|České Budějovice)\\\\b.+\" = \"\\\\1\",\n",
    "        # Incorrect input or parsing of hyphenated names.\n",
    "        \"(\\\\w)\\\\s*- (\\\\w)\" = \"\\\\1-\\\\2\",\n",
    "        # Postal code in municipality name.\n",
    "        \"\\\\d{5}\\\\s*(.+)$\" = \"\\\\1\",\n",
    "        # Common abbreviations.\n",
    "        \"\\\\bn\\\\.\" = \"nad\",\n",
    "        \"pod Sv\\\\.\" = \"pod Svatým\"\n",
    "      )\n",
    "    ),\n",
    "    # Unify region names with CZSO.\n",
    "    PropertyRegion = case_when(\n",
    "      PropertyRegion == \"Praha\" ~ \"Hlavní město Praha\",\n",
    "      PropertyRegion == \"Vysočina\" ~ \"Kraj Vysočina\",\n",
    "      .default = paste(PropertyRegion, \"kraj\")\n",
    "    )\n",
    "  )\n"
   ]
  },
  {
   "cell_type": "markdown",
   "metadata": {},
   "source": [
    "## Kategorizace opatření\n"
   ]
  },
  {
   "cell_type": "code",
   "execution_count": 8,
   "metadata": {
    "vscode": {
     "languageId": "r"
    }
   },
   "outputs": [],
   "source": [
    "categories_regex <- c(\n",
    "  \"^E1$|^Bonus.*\" = \"Bonus\",\n",
    "  \".+CZT$|^C(19|29)$\" = \"CZT\",\n",
    "  \"^.+Zalivka(\\\\+WC)?$|^.+SedaVoda\\\\+?$\" = \"Dešťovka\",  # NZÚ 2021+ (D3), 2023+ (D2)\n",
    "  \"^D[34]-E-mobilita$\" = \"Ekomobilita\",  # D4: NZÚ 2021+, D3: NZÚ 2023+\n",
    "  \".+SOL\\\\+?$|^C3[12]$|^C3R\\\\d+$\" = \"Fototermika\",\n",
    "  \".+FV.*|^C3[3-9]$\" = \"FVE\",\n",
    "  \"^C([12][34])$|.+Kamna.*\" = \"Kamna\",\n",
    "  \"^C([12][12])$|.+Kotel.*\" = \"Kotel\",\n",
    "  \"^B\\\\d+$|^B-(Pasiv|Zaklad).*\" = \"Novostavba\",\n",
    "  \"^D[1-4]$|^E-.+\" = \"Projektová podpora\",  # (a) NZÚ 2013, (b) NZÚ 2023+\n",
    "  \"^D1-(IQ|Manual)$\" = \"Stínění\",  # NZÚ 2021+\n",
    "  # FIXME: C3-FVE+TČ se asi matchne na FVE.\n",
    "  \".+T[CČ].*|^C[12][5-8]$\" = \"TČ\",\n",
    "  \"^C7[12]?$\" = \"Teplo z odpadní vody\",\n",
    "  \"^C4.*\" = \"Větrání\",\n",
    "  \".*vymena otvoru.*\" = \"Výměna otvoru\",\n",
    "  \"^A-(Dilci|Komplex|Optimalni|Pamatky|Zaklad)$|^L-zateplení$|^A\\\\d+$\" = \"Zateplení\",\n",
    "  \"^C5.*|^C6$|^C8[1-5]$\" = \"Zdroje energie\",\n",
    "  # NOTE: Přesunuto do předchozího.\n",
    "  # \"^C6$\" = \"Zdroje energie_zvýhodnění\",\n",
    "  \"^D[12]-.*(ploch|sikm)[aá]$\" = \"Zelená střecha\"  # D2: NZÚ 2021+, D1: NZÚ 2023+\n",
    ")\n",
    "\n",
    "all_categories <- nzu_raw |>\n",
    "  select(CallID, Categories) |>\n",
    "  separate_longer_delim(Categories, delim = \", \") |>\n",
    "  distinct() |>\n",
    "  mutate(\n",
    "    CategoryDetail = str_replace_all(Categories, categories_regex),\n",
    "    # Derive top-level categorisation from the lower-level taxonomy.\n",
    "    CategoryMain = case_match(\n",
    "      CategoryDetail,\n",
    "      c(\"Adaptace/mitigace\", \"Dešťovka\", \"Ekomobilita\", \"Stínění\", \"Zelená střecha\") ~ \"Adaptace/mitigace\",\n",
    "      c(\"Výměna otvoru\", \"Zateplení\") ~ \"Zateplení\",\n",
    "      c(\"CZT\", \"FVE\", \"Fototermika\", \"Kamna\", \"Kotel\", \"TČ\", \"Teplo z odpadní vody\", \"Větrání\", \"Zdroje energie\") ~\n",
    "        \"Zdroje energie\",\n",
    "      .default = CategoryDetail\n",
    "    )\n",
    "  )\n"
   ]
  },
  {
   "cell_type": "code",
   "execution_count": 12,
   "metadata": {
    "vscode": {
     "languageId": "r"
    }
   },
   "outputs": [],
   "source": [
    "nzu_categorised <- nzu_raw |>\n",
    "  separate_longer_delim(Categories, delim = \", \") |>\n",
    "  left_join(all_categories, join_by(CallID, Categories)) |>\n",
    "  group_by(CallID, ApplicationID, ApplicantCity, PropertyRegion, AmountPaid, DatePaid) |>\n",
    "  summarise(\n",
    "    CategoriesMain = paste(unique(CategoryMain), collapse = \"|\"),\n",
    "    CategoriesDetail = paste(unique(CategoryDetail), collapse = \"|\"),\n",
    "    # Re-combine original category codes.\n",
    "    CategoriesOriginal = paste(Categories, collapse = \"|\"),\n",
    "    .groups = \"drop\"\n",
    "  )\n",
    "\n",
    "write_parquet(nzu_categorised, \"../../data/mzp-cr/nzu-categorised.parquet\")\n"
   ]
  },
  {
   "cell_type": "markdown",
   "metadata": {},
   "source": [
    "## Deduplikace a kódování obcí\n"
   ]
  },
  {
   "cell_type": "code",
   "execution_count": 17,
   "metadata": {
    "vscode": {
     "languageId": "r"
    }
   },
   "outputs": [],
   "source": [
    "# Table of municipalities, the basic territorial administrative units in Czechia.\n",
    "municipalities_czso <- czso_get_table(\"struktura_uzemi_cr\") |>\n",
    "  select(obec_text, obec_kod, orp_text, orp_csu_cis65_kod, kraj_text) |>\n",
    "  mutate(obec_text_lower = tolower(obec_text))\n",
    "\n",
    "# Find duplicate municipality names in Czechia.\n",
    "duplicate_munis <- municipalities_czso |>\n",
    "  group_by(obec_text) |>\n",
    "  filter(n() > 1) |>\n",
    "  ungroup() |>\n",
    "  distinct(obec_text, obec_text_lower, kraj_text)\n",
    "\n",
    "# Find municipalities that share the same name WITHIN one region.\n",
    "duplicate_munis_regional <- municipalities_czso |>\n",
    "  group_by(kraj_text, obec_text) |>\n",
    "  filter(n() > 1) |>\n",
    "  ungroup() |>\n",
    "  distinct(obec_text, obec_text_lower, kraj_text)\n"
   ]
  },
  {
   "cell_type": "code",
   "execution_count": 18,
   "metadata": {
    "vscode": {
     "languageId": "r"
    }
   },
   "outputs": [],
   "source": [
    "nzu_categorised <- nzu_categorised |>\n",
    "  # Temporary adjustment for easier matching with the CZSO dataset.\n",
    "  mutate(ApplicantCityLower = tolower(ApplicantCity))\n",
    "\n",
    "# Applications from municipalities that match uniquely with CZSO\n",
    "# (based on municipality and region name combination where\n",
    "# the combination is unique).\n",
    "apps_with_matched_unique_muni <- nzu_categorised |>\n",
    "  # Discard applications from municipalities that are not unique within\n",
    "  # the property region.\n",
    "  anti_join(\n",
    "    duplicate_munis_regional,\n",
    "    join_by(ApplicantCityLower == obec_text_lower, PropertyRegion == kraj_text)\n",
    "  ) |>\n",
    "  # Join with CZSO based on municipality×region name combination.\n",
    "  inner_join(\n",
    "    municipalities_czso,\n",
    "    join_by(\n",
    "      ApplicantCityLower == obec_text_lower,\n",
    "      PropertyRegion == kraj_text\n",
    "    )\n",
    "  )\n",
    "\n",
    "# Applications from municipalities with unique names (across Czechia)\n",
    "# where the region gets reassigned.\n",
    "apps_with_rematched_region <- nzu_categorised |>\n",
    "  # Subtract already matched applications.\n",
    "  anti_join(\n",
    "    apps_with_matched_unique_muni,\n",
    "    join_by(CallID, ApplicationID)\n",
    "  ) |>\n",
    "  # Join on unique municipality names.\n",
    "  inner_join(\n",
    "    anti_join(municipalities_czso, duplicate_munis, join_by(obec_text)),\n",
    "    join_by(ApplicantCityLower == obec_text_lower)\n",
    "  )\n"
   ]
  },
  {
   "cell_type": "code",
   "execution_count": 19,
   "metadata": {
    "vscode": {
     "languageId": "r"
    }
   },
   "outputs": [],
   "source": [
    "nzu_czso <- bind_rows(\n",
    "    apps_with_matched_unique_muni,\n",
    "    apps_with_rematched_region\n",
    "  ) |>\n",
    "  transmute(\n",
    "    CallID,\n",
    "    ApplicationID,\n",
    "    City = obec_text,\n",
    "    CityCode = obec_kod,\n",
    "    ORP = orp_text,\n",
    "    ORPCode = orp_csu_cis65_kod,\n",
    "    Region = if_else(!is.na(kraj_text), kraj_text, PropertyRegion),\n",
    "    PropertyRegion = PropertyRegion,\n",
    "    CategoriesMain,\n",
    "    CategoriesDetail,\n",
    "    AmountPaid,\n",
    "    DatePaid\n",
    "  ) |>\n",
    "  arrange(CallID, ApplicationID)\n",
    "\n",
    "# Make sure that the primary key is preserved, that there are no duplicate applications\n",
    "stopifnot(nrow(nzu_czso) == nrow(distinct(nzu_czso, CallID, ApplicationID)))\n",
    "\n",
    "write_parquet(nzu_czso, \"../../data/mzp-cr/nzu-czso.parquet\")\n"
   ]
  }
 ],
 "metadata": {
  "kernelspec": {
   "display_name": "R",
   "language": "R",
   "name": "ir"
  },
  "language_info": {
   "codemirror_mode": "r",
   "file_extension": ".r",
   "mimetype": "text/x-r-source",
   "name": "R",
   "pygments_lexer": "r",
   "version": "4.4.2"
  }
 },
 "nbformat": 4,
 "nbformat_minor": 2
}
