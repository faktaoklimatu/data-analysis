{
 "cells": [
  {
   "attachments": {},
   "cell_type": "markdown",
   "metadata": {},
   "source": [
    "# Electricity mixes survey\n",
    "\n",
    "This notebooks details the data preparation and plotting of chart showing electricity generation mixes of EU countries and the United Kingdom.\n"
   ]
  },
  {
   "attachments": {},
   "cell_type": "markdown",
   "metadata": {},
   "source": [
    "## Load prerequisities\n",
    "\n",
    "This notebook uses the Tidyverse libraries and a couple of other packages. To install these libraries, run the command `install.packages(c(\"glue\", \"openssl\", \"tidyverse\", \"xml2\", \"yaml\"))` in your R instance.\n"
   ]
  },
  {
   "cell_type": "code",
   "execution_count": 1,
   "metadata": {
    "vscode": {
     "languageId": "r"
    }
   },
   "outputs": [],
   "source": [
    "options(tidyverse.quiet = TRUE)\n",
    "library(tidyverse)\n",
    "library(xml2)"
   ]
  },
  {
   "attachments": {},
   "cell_type": "markdown",
   "metadata": {},
   "source": [
    "## Power generation data\n",
    "\n",
    "For this survey, we use the electricity generation and emissions intensity data from the [Ember yearly electricity dataset](https://ember-climate.org/data-catalogue/yearly-electricity-data/). The Yearly Full Release Long Format” CSV file was downloaded into `/data/ember/yearly_full_release_long_format.csv`. The dataset is described as follows:\n",
    "\n",
    "> The dataset contains yearly electricity generation, capacity, emissions, import and demand data for over 200 geographies. Data is collected from multi-country datasets (EIA, Eurostat, BP, UN) as well as national sources (e.g China data from the National Bureau of Statistics).\n",
    "\n",
    "As we will need only annual electricity generation data for our analysis, and we will examine only the EU countries and the UK, we first need to filter the dataset accordingly.\n"
   ]
  },
  {
   "cell_type": "code",
   "execution_count": 15,
   "metadata": {
    "vscode": {
     "languageId": "r"
    }
   },
   "outputs": [],
   "source": [
    "EMBER_DATASET_PATH <- \"../data/ember/yearly_full_release_long_format.csv\"\n",
    "SURVEY_TEXTS_PATH <- \"../data/faktaoklimatu/electricity-mixes-country-stories.csv\"\n",
    "# Root URL for Wikimedia Commons public file storage.\n",
    "COMMONS_URL_BASE <- \"https://upload.wikimedia.org/wikipedia/commons\"\n",
    "# Path to the SVG template of the ternary plot.\n",
    "TERNARY_TEMPLATE_SVG_PATH <- \"../ternary/mix-template-path.svg\"\n",
    "# The time range to use for the electricity data.\n",
    "YEAR_RANGE <- c(2000, 2021)\n",
    "LAST_YEAR <- YEAR_RANGE[2]\n",
    "\n",
    "survey_texts <- SURVEY_TEXTS_PATH |>\n",
    "  read_csv(show_col_types = FALSE)\n",
    "\n",
    "# Limit the following analyses from the Ember dataset\n",
    "# to selected countries and year.\n",
    "ember_common <- EMBER_DATASET_PATH |>\n",
    "  read_csv(# Select only columns relevant for our analysis.\n",
    "           col_select = c(\"Country code\", \"Area\", \"Year\", \"Category\", \"Variable\", \"Value\", \"Unit\"),\n",
    "           show_col_types = FALSE) |>\n",
    "  rename(CountryCode = `Country code`) |>\n",
    "  mutate(CountryCode = if_else(Area == \"EU\", \"EU27\", CountryCode)) |>\n",
    "  filter(Year == LAST_YEAR,\n",
    "         CountryCode %in% unique(survey_texts$CountryCode))\n",
    "\n",
    "# Compute power generation figures from fossil, nuclear\n",
    "# and renewable sources for each country.\n",
    "power_generation <- ember_common |>\n",
    "  filter(Category == \"Electricity generation\",\n",
    "         Unit == \"TWh\",\n",
    "         Variable %in% c(\"Fossil\", \"Nuclear\", \"Renewables\")) |>\n",
    "  select(CountryCode, Variable, Value) |>\n",
    "  pivot_wider(names_from = Variable,\n",
    "              values_from = Value) |>\n",
    "  mutate(Total = Fossil + Nuclear + Renewables,\n",
    "         FossilPct = 100 * Fossil / Total,\n",
    "         NuclearPct = 100 * Nuclear / Total,\n",
    "         RenewablesPct = 100 * Renewables / Total) |>\n",
    "  # Join with net import figures.\n",
    "  left_join(ember_common |>\n",
    "              filter(Unit == \"TWh\", Variable == \"Net Imports\") |>\n",
    "              select(CountryCode, NetImports = Value),\n",
    "            by = \"CountryCode\")\n",
    "\n",
    "# Pull out figures on CO₂ intensity of power generation.\n",
    "power_emissions <- ember_common |>\n",
    "  filter(Variable == \"CO2 intensity\") |>\n",
    "  select(CountryCode, CO2Intensity = Value)"
   ]
  },
  {
   "cell_type": "code",
   "execution_count": 16,
   "metadata": {
    "vscode": {
     "languageId": "r"
    }
   },
   "outputs": [
    {
     "data": {
      "text/html": [
       "<table class=\"dataframe\">\n",
       "<caption>A tibble: 6 × 13</caption>\n",
       "<thead>\n",
       "\t<tr><th scope=col>CountryCode</th><th scope=col>CountryName</th><th scope=col>FlagFilename</th><th scope=col>Text</th><th scope=col>Fossil</th><th scope=col>Renewables</th><th scope=col>Nuclear</th><th scope=col>Total</th><th scope=col>FossilPct</th><th scope=col>NuclearPct</th><th scope=col>RenewablesPct</th><th scope=col>NetImports</th><th scope=col>CO2Intensity</th></tr>\n",
       "\t<tr><th scope=col>&lt;chr&gt;</th><th scope=col>&lt;chr&gt;</th><th scope=col>&lt;chr&gt;</th><th scope=col>&lt;chr&gt;</th><th scope=col>&lt;dbl&gt;</th><th scope=col>&lt;dbl&gt;</th><th scope=col>&lt;dbl&gt;</th><th scope=col>&lt;dbl&gt;</th><th scope=col>&lt;dbl&gt;</th><th scope=col>&lt;dbl&gt;</th><th scope=col>&lt;dbl&gt;</th><th scope=col>&lt;dbl&gt;</th><th scope=col>&lt;dbl&gt;</th></tr>\n",
       "</thead>\n",
       "<tbody>\n",
       "\t<tr><td>AUS</td><td>Austrálie</td><td>Flag of Australia.svg                     </td><td>Nejdůležitějším zdrojem elektřiny je uhlí, které dodává více než polovinu potřebné elektřiny. Podíl uhlí v mixu elektřiny postupně klesá, ovšem stále tvoří klíčový zdroj. Austrálie je zároveň [druhým největším exportérem uhlí na světě](https://www.statista.com/statistics/270952/global-hard-coal-exports-2009/). Dalším klíčovým zdrojem je zemní plyn, jehož je Austrálie [výrazným exportérem](https://www.ga.gov.au/digital-publication/aecr2021/gas). V posledních letech dochází k výraznému růstu produkce solární a větrné elektřiny, kdy Austrálie může využít své velmi vhodné přírodní podmínky. Vzhledem k těmto přírodním podmínkám se ovšem dá říct i to, že dosavadní rozvoj solární a větrné elektřiny nebyl dostatečný a nenaplňuje potenciál země. V současné době se plánuje propojení se Singapurem, kam by Austrálie do budoucna vyvážela elektřinu, ovšem [projekt se potýká s problémy](https://www.channelnewsasia.com/singapore/sun-cable-collapse-solar-energy-project-3200906).                                                                                                                                                                                                                                                                                                                                                                                                                                                                                                                                                                                                                                                                                                                                                                                                                                                                                                                                      </td><td> 175.08</td><td>  71.98</td><td>  0.00</td><td> 247.06</td><td>70.86538</td><td> 0.000000</td><td>29.13462</td><td>  0.00</td><td>531.25</td></tr>\n",
       "\t<tr><td>BEL</td><td>Belgie   </td><td>Flag of Belgium.svg                       </td><td>Belgie dodnes vyrábí zhruba polovinu své elektřiny v jaderných elektrárnách – v současnosti má [6 aktivních reaktorů](https://world-nuclear.org/information-library/country-profiles/countries-a-f/belgium.aspx). Plánovaný celkový phase-out do roku 2025 byl o 10 let odložen v důsledku současné energetické krize, přesto byl v září 2022 [uzavřen první reaktor od 80. let](https://www.world-nuclear-news.org/Articles/First-Belgian-power-reactor-shut-down). Belgie je zároveň prvním státem EU, který provedl roku 2016 celkový [uhelný phase-out](/infografiky/uhelny-phaseout-eu), ovšem nešlo vyloženě o klimaticky motivované rozhodnutí, důvodem bylo spíše stáří elektráren a evropské regulace týkající se znečištění ovzduší.                                                                                                                                                                                                                                                                                                                                                                                                                                                                                                                                                                                                                                                                                                                                                                                                                                                                                                                                                                                                                                                                                                                                                                                                        </td><td>  25.97</td><td>  22.73</td><td> 50.33</td><td>  99.03</td><td>26.22438</td><td>50.822983</td><td>22.95264</td><td> -7.88</td><td>156.92</td></tr>\n",
       "\t<tr><td>BRA</td><td>Brazílie </td><td>Flag of Brazil.svg                        </td><td>Nejdůležitějším zdrojem elektřiny pro Brazíli jsou vodní elektrárny. V zemi funguje [druhá největší přehrada](https://www.weforum.org/agenda/2022/12/worlds-largest-hydroelectric-dams-renewable-energy/) na světě Itaipu, která se nachází na hranicích Brazílie a Paraguaye na řece Paraná. V brazilském mixu výroby elektřiny figuruje i [zemní plyn](https://fsr.eui.eu/natural-gas-in-brazils-energy-mix/), který z větší části pochází z domácí produkce. Důležitým zdrojem je též biomasa [pocházející převážně z vedlejších produktů](https://www.sciencedirect.com/science/article/abs/pii/S0959652622010873) ze zpracování cukrové třtiny. Brazílie momentálně staví svůj třetí [jaderný reaktor](https://www.world-nuclear.org/information-library/country-profiles/countries-a-f/brazil.aspx). V posledních letech dochází k výraznému nárůstu obnovitelných zdrojů pocházejících převážně z větrných elektráren. Vzhledem k přírodním podmínkám a emisně relativně nenáročnému mixu může být Brazílie do budoucna jedno z nejlepších míst na výrobu [zeleného vodíku](https://www.mckinsey.com/br/en/our-insights/all-insights/the-green-hidden-gem-brazils-opportunity-to-become-a-sustainability-powerhouse).                                                                                                                                                                                                                                                                                                                                                                                                                                                                                                                                                                                                                                                                                                                          </td><td> 139.21</td><td> 508.67</td><td> 14.70</td><td> 662.58</td><td>21.01029</td><td> 2.218600</td><td>76.77111</td><td> 23.10</td><td>158.59</td></tr>\n",
       "\t<tr><td>BGR</td><td>Bulharsko</td><td>Flag of Bulgaria.svg                      </td><td>Bulharsko je stále do velké míry závislé na elektřině z uhlí (phase-out je plánován na rok [2038](https://www.euronews.com/green/2023/01/13/bulgaria-rolls-back-plans-to-phase-out-coal-amid-fears-over-energy-and-job-security)). Dalším významným zdrojem je [jádro](https://world-nuclear.org/information-library/country-profiles/countries-a-f/bulgaria.aspx) – země má dva reaktory a má plány postavit další čtyři. Výroba elektřiny ze solárních a větrných elektráren v poslední dekádě spíše stagnuje a k větší transformaci bulharské energetiky zatím nedochází.                                                                                                                                                                                                                                                                                                                                                                                                                                                                                                                                                                                                                                                                                                                                                                                                                                                                                                                                                                                                                                                                                                                                                                                                                                                                                                                                                                          </td><td>  20.50</td><td>  10.31</td><td> 16.49</td><td>  47.30</td><td>43.34038</td><td>34.862579</td><td>21.79704</td><td> -8.78</td><td>354.33</td></tr>\n",
       "\t<tr><td>CZE</td><td>Česko    </td><td>Flag of the Czech Republic.svg            </td><td>Hlavním zdrojem elektřiny pro Česko je stále uhlí, které se má přestat používat v roce [2033](https://ct24.ceskatelevize.cz/ekonomika/3478815-vlada-stale-pocita-s-koncem-uhli-do-roku-2033-plan-ale-ohrozuje-valka-na-ukrajine). Jeho podíl v mixu elektřiny také pomalu klesá. Dalším významným zdrojem elektřiny jsou čtyři bloky v jaderné elektráně Dukovany a dva bloky v Temelíně. V současnosti [probíhá tendr](https://oenergetice.cz/jaderne-elektrarny/tendr-na-dukovansky-blok-postoupi-do-dalsi-faze-vyprsi-termin-pro-prvni-nabidky) na přístavbu dalšího bloku v Dukovanech. V posledních letech byl vidět nárůst produkce elektřiny ze zemního plynu, který tvoří třetí největší zdroj. Solární energie se rychle rozvíjela na konci předminulé dekády [kvůli stanovení velmi vysokých výkupních cen](https://www.irozhlas.cz/zpravy-domov/fotovoltaika-energetika-obnovitelne-zdroje_1912040600_jab) v porovnání s náklady na produkci, po úpravě těchto finančních podmínek vidíme spíše stagnaci. U větrné energie také probíhá spíše stagnace. Česko je zároveň významným exportérem elektřiny.                                                                                                                                                                                                                                                                                                                                                                                                                                                                                                                                                                                                                                                                                                                                                                                                                                   </td><td>  42.29</td><td>  10.71</td><td> 30.73</td><td>  83.73</td><td>50.50758</td><td>36.701302</td><td>12.79111</td><td>-11.08</td><td>405.59</td></tr>\n",
       "\t<tr><td>CHN</td><td>Čína     </td><td>Flag of the People's Republic of China.svg</td><td>Čína se v rámci svého ekonomického vzestupu stala výrazným průmyslovým výrobcem a [plná elektrifikace země](https://chinadialogue.net/en/energy/9934-three-lessons-from-china-s-effort-to-bring-electricity-to-1-4-billion-people/) proběhla v roce 2015. Hlavním zdrojem, na který se Čína spolehá, je jednoznačně uhlí, jehož podíl sice postupně mírně klesá, ale stále dodává přes 60 % elektřiny. Produkce elektřiny z uhlí by měla podle plánů začít klesat v roce [2026](https://www.reuters.com/world/china/china-no-closer-peak-coal-despite-record-renewable-capacity-additions-2022-08-22/). Zároveň stále dochází k intenzivní výstavbě [nových uhelných elektráren](https://www.bloomberg.com/news/articles/2023-01-20/china-to-speed-up-construction-of-coal-power-plants-this-year), přestože více nové kapacity přidávají nové solární elektrárny. Významným zdrojem elektřiny jsou vodní elektrárny a v Číně se nachází Tři soutěsky, které jsou největší vodní elektrárnou na světě. Čína zároveň disponuje [84 % výrobních kapacit](https://www.visualcapitalist.com/visualizing-chinas-dominance-in-the-solar-panel-supply-chain/) pro produkci solárních panelů a je světovým lídrem v této oblasti.  Podobnou dynamika lze vidět i u [jaderných elektráren,](https://www.world-nuclear.org/information-library/country-profiles/countries-a-f/china-nuclear-power.aspx) k jejichž rozvoji v Číně dochází a o jaderných technologiích se zároveň přemýšlí jako o produktu pro export. Přechod na obnovitelné zdroje v Číně [vyžaduje výrazné investice do přenosové sítě](https://e360.yale.edu/features/why-chinas-renewable-energy-transition-is-losing-momentum), jelikož nejvhodnější lokality pro solární i větrné elektrárny jsou často tisíce kilometrů od populačních center. V Číně se také nachází [největší větrná farma](https://discovercleantech.com/ten-gigantic-wind-farms/) na světě s aktuální kapacitou 10 GW.</td><td>5623.99</td><td>2452.53</td><td>407.50</td><td>8484.02</td><td>66.28921</td><td> 4.803148</td><td>28.90764</td><td>-17.70</td><td>544.36</td></tr>\n",
       "</tbody>\n",
       "</table>\n"
      ],
      "text/latex": [
       "A tibble: 6 × 13\n",
       "\\begin{tabular}{lllllllllllll}\n",
       " CountryCode & CountryName & FlagFilename & Text & Fossil & Renewables & Nuclear & Total & FossilPct & NuclearPct & RenewablesPct & NetImports & CO2Intensity\\\\\n",
       " <chr> & <chr> & <chr> & <chr> & <dbl> & <dbl> & <dbl> & <dbl> & <dbl> & <dbl> & <dbl> & <dbl> & <dbl>\\\\\n",
       "\\hline\n",
       "\t AUS & Austrálie & Flag of Australia.svg                      & Nejdůležitějším zdrojem elektřiny je uhlí, které dodává více než polovinu potřebné elektřiny. Podíl uhlí v mixu elektřiny postupně klesá, ovšem stále tvoří klíčový zdroj. Austrálie je zároveň {[}druhým největším exportérem uhlí na světě{]}(https://www.statista.com/statistics/270952/global-hard-coal-exports-2009/). Dalším klíčovým zdrojem je zemní plyn, jehož je Austrálie {[}výrazným exportérem{]}(https://www.ga.gov.au/digital-publication/aecr2021/gas). V posledních letech dochází k výraznému růstu produkce solární a větrné elektřiny, kdy Austrálie může využít své velmi vhodné přírodní podmínky. Vzhledem k těmto přírodním podmínkám se ovšem dá říct i to, že dosavadní rozvoj solární a větrné elektřiny nebyl dostatečný a nenaplňuje potenciál země. V současné době se plánuje propojení se Singapurem, kam by Austrálie do budoucna vyvážela elektřinu, ovšem {[}projekt se potýká s problémy{]}(https://www.channelnewsasia.com/singapore/sun-cable-collapse-solar-energy-project-3200906).                                                                                                                                                                                                                                                                                                                                                                                                                                                                                                                                                                                                                                                                                                                                                                                                                                                                                                                                       &  175.08 &   71.98 &   0.00 &  247.06 & 70.86538 &  0.000000 & 29.13462 &   0.00 & 531.25\\\\\n",
       "\t BEL & Belgie    & Flag of Belgium.svg                        & Belgie dodnes vyrábí zhruba polovinu své elektřiny v jaderných elektrárnách – v současnosti má {[}6 aktivních reaktorů{]}(https://world-nuclear.org/information-library/country-profiles/countries-a-f/belgium.aspx). Plánovaný celkový phase-out do roku 2025 byl o 10 let odložen v důsledku současné energetické krize, přesto byl v září 2022 {[}uzavřen první reaktor od 80. let{]}(https://www.world-nuclear-news.org/Articles/First-Belgian-power-reactor-shut-down). Belgie je zároveň prvním státem EU, který provedl roku 2016 celkový {[}uhelný phase-out{]}(/infografiky/uhelny-phaseout-eu), ovšem nešlo vyloženě o klimaticky motivované rozhodnutí, důvodem bylo spíše stáří elektráren a evropské regulace týkající se znečištění ovzduší.                                                                                                                                                                                                                                                                                                                                                                                                                                                                                                                                                                                                                                                                                                                                                                                                                                                                                                                                                                                                                                                                                                                                                                                                         &   25.97 &   22.73 &  50.33 &   99.03 & 26.22438 & 50.822983 & 22.95264 &  -7.88 & 156.92\\\\\n",
       "\t BRA & Brazílie  & Flag of Brazil.svg                         & Nejdůležitějším zdrojem elektřiny pro Brazíli jsou vodní elektrárny. V zemi funguje {[}druhá největší přehrada{]}(https://www.weforum.org/agenda/2022/12/worlds-largest-hydroelectric-dams-renewable-energy/) na světě Itaipu, která se nachází na hranicích Brazílie a Paraguaye na řece Paraná. V brazilském mixu výroby elektřiny figuruje i {[}zemní plyn{]}(https://fsr.eui.eu/natural-gas-in-brazils-energy-mix/), který z větší části pochází z domácí produkce. Důležitým zdrojem je též biomasa {[}pocházející převážně z vedlejších produktů{]}(https://www.sciencedirect.com/science/article/abs/pii/S0959652622010873) ze zpracování cukrové třtiny. Brazílie momentálně staví svůj třetí {[}jaderný reaktor{]}(https://www.world-nuclear.org/information-library/country-profiles/countries-a-f/brazil.aspx). V posledních letech dochází k výraznému nárůstu obnovitelných zdrojů pocházejících převážně z větrných elektráren. Vzhledem k přírodním podmínkám a emisně relativně nenáročnému mixu může být Brazílie do budoucna jedno z nejlepších míst na výrobu {[}zeleného vodíku{]}(https://www.mckinsey.com/br/en/our-insights/all-insights/the-green-hidden-gem-brazils-opportunity-to-become-a-sustainability-powerhouse).                                                                                                                                                                                                                                                                                                                                                                                                                                                                                                                                                                                                                                                                                                                           &  139.21 &  508.67 &  14.70 &  662.58 & 21.01029 &  2.218600 & 76.77111 &  23.10 & 158.59\\\\\n",
       "\t BGR & Bulharsko & Flag of Bulgaria.svg                       & Bulharsko je stále do velké míry závislé na elektřině z uhlí (phase-out je plánován na rok {[}2038{]}(https://www.euronews.com/green/2023/01/13/bulgaria-rolls-back-plans-to-phase-out-coal-amid-fears-over-energy-and-job-security)). Dalším významným zdrojem je {[}jádro{]}(https://world-nuclear.org/information-library/country-profiles/countries-a-f/bulgaria.aspx) – země má dva reaktory a má plány postavit další čtyři. Výroba elektřiny ze solárních a větrných elektráren v poslední dekádě spíše stagnuje a k větší transformaci bulharské energetiky zatím nedochází.                                                                                                                                                                                                                                                                                                                                                                                                                                                                                                                                                                                                                                                                                                                                                                                                                                                                                                                                                                                                                                                                                                                                                                                                                                                                                                                                                                           &   20.50 &   10.31 &  16.49 &   47.30 & 43.34038 & 34.862579 & 21.79704 &  -8.78 & 354.33\\\\\n",
       "\t CZE & Česko     & Flag of the Czech Republic.svg             & Hlavním zdrojem elektřiny pro Česko je stále uhlí, které se má přestat používat v roce {[}2033{]}(https://ct24.ceskatelevize.cz/ekonomika/3478815-vlada-stale-pocita-s-koncem-uhli-do-roku-2033-plan-ale-ohrozuje-valka-na-ukrajine). Jeho podíl v mixu elektřiny také pomalu klesá. Dalším významným zdrojem elektřiny jsou čtyři bloky v jaderné elektráně Dukovany a dva bloky v Temelíně. V současnosti {[}probíhá tendr{]}(https://oenergetice.cz/jaderne-elektrarny/tendr-na-dukovansky-blok-postoupi-do-dalsi-faze-vyprsi-termin-pro-prvni-nabidky) na přístavbu dalšího bloku v Dukovanech. V posledních letech byl vidět nárůst produkce elektřiny ze zemního plynu, který tvoří třetí největší zdroj. Solární energie se rychle rozvíjela na konci předminulé dekády {[}kvůli stanovení velmi vysokých výkupních cen{]}(https://www.irozhlas.cz/zpravy-domov/fotovoltaika-energetika-obnovitelne-zdroje\\_1912040600\\_jab) v porovnání s náklady na produkci, po úpravě těchto finančních podmínek vidíme spíše stagnaci. U větrné energie také probíhá spíše stagnace. Česko je zároveň významným exportérem elektřiny.                                                                                                                                                                                                                                                                                                                                                                                                                                                                                                                                                                                                                                                                                                                                                                                                                                    &   42.29 &   10.71 &  30.73 &   83.73 & 50.50758 & 36.701302 & 12.79111 & -11.08 & 405.59\\\\\n",
       "\t CHN & Čína      & Flag of the People's Republic of China.svg & Čína se v rámci svého ekonomického vzestupu stala výrazným průmyslovým výrobcem a {[}plná elektrifikace země{]}(https://chinadialogue.net/en/energy/9934-three-lessons-from-china-s-effort-to-bring-electricity-to-1-4-billion-people/) proběhla v roce 2015. Hlavním zdrojem, na který se Čína spolehá, je jednoznačně uhlí, jehož podíl sice postupně mírně klesá, ale stále dodává přes 60 \\% elektřiny. Produkce elektřiny z uhlí by měla podle plánů začít klesat v roce {[}2026{]}(https://www.reuters.com/world/china/china-no-closer-peak-coal-despite-record-renewable-capacity-additions-2022-08-22/). Zároveň stále dochází k intenzivní výstavbě {[}nových uhelných elektráren{]}(https://www.bloomberg.com/news/articles/2023-01-20/china-to-speed-up-construction-of-coal-power-plants-this-year), přestože více nové kapacity přidávají nové solární elektrárny. Významným zdrojem elektřiny jsou vodní elektrárny a v Číně se nachází Tři soutěsky, které jsou největší vodní elektrárnou na světě. Čína zároveň disponuje {[}84 \\% výrobních kapacit{]}(https://www.visualcapitalist.com/visualizing-chinas-dominance-in-the-solar-panel-supply-chain/) pro produkci solárních panelů a je světovým lídrem v této oblasti.  Podobnou dynamika lze vidět i u {[}jaderných elektráren,{]}(https://www.world-nuclear.org/information-library/country-profiles/countries-a-f/china-nuclear-power.aspx) k jejichž rozvoji v Číně dochází a o jaderných technologiích se zároveň přemýšlí jako o produktu pro export. Přechod na obnovitelné zdroje v Číně {[}vyžaduje výrazné investice do přenosové sítě{]}(https://e360.yale.edu/features/why-chinas-renewable-energy-transition-is-losing-momentum), jelikož nejvhodnější lokality pro solární i větrné elektrárny jsou často tisíce kilometrů od populačních center. V Číně se také nachází {[}největší větrná farma{]}(https://discovercleantech.com/ten-gigantic-wind-farms/) na světě s aktuální kapacitou 10 GW. & 5623.99 & 2452.53 & 407.50 & 8484.02 & 66.28921 &  4.803148 & 28.90764 & -17.70 & 544.36\\\\\n",
       "\\end{tabular}\n"
      ],
      "text/markdown": [
       "\n",
       "A tibble: 6 × 13\n",
       "\n",
       "| CountryCode &lt;chr&gt; | CountryName &lt;chr&gt; | FlagFilename &lt;chr&gt; | Text &lt;chr&gt; | Fossil &lt;dbl&gt; | Renewables &lt;dbl&gt; | Nuclear &lt;dbl&gt; | Total &lt;dbl&gt; | FossilPct &lt;dbl&gt; | NuclearPct &lt;dbl&gt; | RenewablesPct &lt;dbl&gt; | NetImports &lt;dbl&gt; | CO2Intensity &lt;dbl&gt; |\n",
       "|---|---|---|---|---|---|---|---|---|---|---|---|---|\n",
       "| AUS | Austrálie | Flag of Australia.svg                      | Nejdůležitějším zdrojem elektřiny je uhlí, které dodává více než polovinu potřebné elektřiny. Podíl uhlí v mixu elektřiny postupně klesá, ovšem stále tvoří klíčový zdroj. Austrálie je zároveň [druhým největším exportérem uhlí na světě](https://www.statista.com/statistics/270952/global-hard-coal-exports-2009/). Dalším klíčovým zdrojem je zemní plyn, jehož je Austrálie [výrazným exportérem](https://www.ga.gov.au/digital-publication/aecr2021/gas). V posledních letech dochází k výraznému růstu produkce solární a větrné elektřiny, kdy Austrálie může využít své velmi vhodné přírodní podmínky. Vzhledem k těmto přírodním podmínkám se ovšem dá říct i to, že dosavadní rozvoj solární a větrné elektřiny nebyl dostatečný a nenaplňuje potenciál země. V současné době se plánuje propojení se Singapurem, kam by Austrálie do budoucna vyvážela elektřinu, ovšem [projekt se potýká s problémy](https://www.channelnewsasia.com/singapore/sun-cable-collapse-solar-energy-project-3200906).                                                                                                                                                                                                                                                                                                                                                                                                                                                                                                                                                                                                                                                                                                                                                                                                                                                                                                                                       |  175.08 |   71.98 |   0.00 |  247.06 | 70.86538 |  0.000000 | 29.13462 |   0.00 | 531.25 |\n",
       "| BEL | Belgie    | Flag of Belgium.svg                        | Belgie dodnes vyrábí zhruba polovinu své elektřiny v jaderných elektrárnách – v současnosti má [6 aktivních reaktorů](https://world-nuclear.org/information-library/country-profiles/countries-a-f/belgium.aspx). Plánovaný celkový phase-out do roku 2025 byl o 10 let odložen v důsledku současné energetické krize, přesto byl v září 2022 [uzavřen první reaktor od 80. let](https://www.world-nuclear-news.org/Articles/First-Belgian-power-reactor-shut-down). Belgie je zároveň prvním státem EU, který provedl roku 2016 celkový [uhelný phase-out](/infografiky/uhelny-phaseout-eu), ovšem nešlo vyloženě o klimaticky motivované rozhodnutí, důvodem bylo spíše stáří elektráren a evropské regulace týkající se znečištění ovzduší.                                                                                                                                                                                                                                                                                                                                                                                                                                                                                                                                                                                                                                                                                                                                                                                                                                                                                                                                                                                                                                                                                                                                                                                                         |   25.97 |   22.73 |  50.33 |   99.03 | 26.22438 | 50.822983 | 22.95264 |  -7.88 | 156.92 |\n",
       "| BRA | Brazílie  | Flag of Brazil.svg                         | Nejdůležitějším zdrojem elektřiny pro Brazíli jsou vodní elektrárny. V zemi funguje [druhá největší přehrada](https://www.weforum.org/agenda/2022/12/worlds-largest-hydroelectric-dams-renewable-energy/) na světě Itaipu, která se nachází na hranicích Brazílie a Paraguaye na řece Paraná. V brazilském mixu výroby elektřiny figuruje i [zemní plyn](https://fsr.eui.eu/natural-gas-in-brazils-energy-mix/), který z větší části pochází z domácí produkce. Důležitým zdrojem je též biomasa [pocházející převážně z vedlejších produktů](https://www.sciencedirect.com/science/article/abs/pii/S0959652622010873) ze zpracování cukrové třtiny. Brazílie momentálně staví svůj třetí [jaderný reaktor](https://www.world-nuclear.org/information-library/country-profiles/countries-a-f/brazil.aspx). V posledních letech dochází k výraznému nárůstu obnovitelných zdrojů pocházejících převážně z větrných elektráren. Vzhledem k přírodním podmínkám a emisně relativně nenáročnému mixu může být Brazílie do budoucna jedno z nejlepších míst na výrobu [zeleného vodíku](https://www.mckinsey.com/br/en/our-insights/all-insights/the-green-hidden-gem-brazils-opportunity-to-become-a-sustainability-powerhouse).                                                                                                                                                                                                                                                                                                                                                                                                                                                                                                                                                                                                                                                                                                                           |  139.21 |  508.67 |  14.70 |  662.58 | 21.01029 |  2.218600 | 76.77111 |  23.10 | 158.59 |\n",
       "| BGR | Bulharsko | Flag of Bulgaria.svg                       | Bulharsko je stále do velké míry závislé na elektřině z uhlí (phase-out je plánován na rok [2038](https://www.euronews.com/green/2023/01/13/bulgaria-rolls-back-plans-to-phase-out-coal-amid-fears-over-energy-and-job-security)). Dalším významným zdrojem je [jádro](https://world-nuclear.org/information-library/country-profiles/countries-a-f/bulgaria.aspx) – země má dva reaktory a má plány postavit další čtyři. Výroba elektřiny ze solárních a větrných elektráren v poslední dekádě spíše stagnuje a k větší transformaci bulharské energetiky zatím nedochází.                                                                                                                                                                                                                                                                                                                                                                                                                                                                                                                                                                                                                                                                                                                                                                                                                                                                                                                                                                                                                                                                                                                                                                                                                                                                                                                                                                           |   20.50 |   10.31 |  16.49 |   47.30 | 43.34038 | 34.862579 | 21.79704 |  -8.78 | 354.33 |\n",
       "| CZE | Česko     | Flag of the Czech Republic.svg             | Hlavním zdrojem elektřiny pro Česko je stále uhlí, které se má přestat používat v roce [2033](https://ct24.ceskatelevize.cz/ekonomika/3478815-vlada-stale-pocita-s-koncem-uhli-do-roku-2033-plan-ale-ohrozuje-valka-na-ukrajine). Jeho podíl v mixu elektřiny také pomalu klesá. Dalším významným zdrojem elektřiny jsou čtyři bloky v jaderné elektráně Dukovany a dva bloky v Temelíně. V současnosti [probíhá tendr](https://oenergetice.cz/jaderne-elektrarny/tendr-na-dukovansky-blok-postoupi-do-dalsi-faze-vyprsi-termin-pro-prvni-nabidky) na přístavbu dalšího bloku v Dukovanech. V posledních letech byl vidět nárůst produkce elektřiny ze zemního plynu, který tvoří třetí největší zdroj. Solární energie se rychle rozvíjela na konci předminulé dekády [kvůli stanovení velmi vysokých výkupních cen](https://www.irozhlas.cz/zpravy-domov/fotovoltaika-energetika-obnovitelne-zdroje_1912040600_jab) v porovnání s náklady na produkci, po úpravě těchto finančních podmínek vidíme spíše stagnaci. U větrné energie také probíhá spíše stagnace. Česko je zároveň významným exportérem elektřiny.                                                                                                                                                                                                                                                                                                                                                                                                                                                                                                                                                                                                                                                                                                                                                                                                                                    |   42.29 |   10.71 |  30.73 |   83.73 | 50.50758 | 36.701302 | 12.79111 | -11.08 | 405.59 |\n",
       "| CHN | Čína      | Flag of the People's Republic of China.svg | Čína se v rámci svého ekonomického vzestupu stala výrazným průmyslovým výrobcem a [plná elektrifikace země](https://chinadialogue.net/en/energy/9934-three-lessons-from-china-s-effort-to-bring-electricity-to-1-4-billion-people/) proběhla v roce 2015. Hlavním zdrojem, na který se Čína spolehá, je jednoznačně uhlí, jehož podíl sice postupně mírně klesá, ale stále dodává přes 60 % elektřiny. Produkce elektřiny z uhlí by měla podle plánů začít klesat v roce [2026](https://www.reuters.com/world/china/china-no-closer-peak-coal-despite-record-renewable-capacity-additions-2022-08-22/). Zároveň stále dochází k intenzivní výstavbě [nových uhelných elektráren](https://www.bloomberg.com/news/articles/2023-01-20/china-to-speed-up-construction-of-coal-power-plants-this-year), přestože více nové kapacity přidávají nové solární elektrárny. Významným zdrojem elektřiny jsou vodní elektrárny a v Číně se nachází Tři soutěsky, které jsou největší vodní elektrárnou na světě. Čína zároveň disponuje [84 % výrobních kapacit](https://www.visualcapitalist.com/visualizing-chinas-dominance-in-the-solar-panel-supply-chain/) pro produkci solárních panelů a je světovým lídrem v této oblasti.  Podobnou dynamika lze vidět i u [jaderných elektráren,](https://www.world-nuclear.org/information-library/country-profiles/countries-a-f/china-nuclear-power.aspx) k jejichž rozvoji v Číně dochází a o jaderných technologiích se zároveň přemýšlí jako o produktu pro export. Přechod na obnovitelné zdroje v Číně [vyžaduje výrazné investice do přenosové sítě](https://e360.yale.edu/features/why-chinas-renewable-energy-transition-is-losing-momentum), jelikož nejvhodnější lokality pro solární i větrné elektrárny jsou často tisíce kilometrů od populačních center. V Číně se také nachází [největší větrná farma](https://discovercleantech.com/ten-gigantic-wind-farms/) na světě s aktuální kapacitou 10 GW. | 5623.99 | 2452.53 | 407.50 | 8484.02 | 66.28921 |  4.803148 | 28.90764 | -17.70 | 544.36 |\n",
       "\n"
      ],
      "text/plain": [
       "  CountryCode CountryName FlagFilename                              \n",
       "1 AUS         Austrálie   Flag of Australia.svg                     \n",
       "2 BEL         Belgie      Flag of Belgium.svg                       \n",
       "3 BRA         Brazílie    Flag of Brazil.svg                        \n",
       "4 BGR         Bulharsko   Flag of Bulgaria.svg                      \n",
       "5 CZE         Česko       Flag of the Czech Republic.svg            \n",
       "6 CHN         Čína        Flag of the People's Republic of China.svg\n",
       "  Text                                                                                                                                                                                                                                                                                                                                                                                                                                                                                                                                                                                                                                                                                                                                                                                                                                                                                                                                                                                                                                                                                                                                                                                                                                                                                                                                                                                                                                                                                                                                                                                                                                                                                                                                                                                                                                                                                                                                                  \n",
       "1 Nejdůležitějším zdrojem elektřiny je uhlí, které dodává více než polovinu potřebné elektřiny. Podíl uhlí v mixu elektřiny postupně klesá, ovšem stále tvoří klíčový zdroj. Austrálie je zároveň [druhým největším exportérem uhlí na světě](https://www.statista.com/statistics/270952/global-hard-coal-exports-2009/). Dalším klíčovým zdrojem je zemní plyn, jehož je Austrálie [výrazným exportérem](https://www.ga.gov.au/digital-publication/aecr2021/gas). V posledních letech dochází k výraznému růstu produkce solární a větrné elektřiny, kdy Austrálie může využít své velmi vhodné přírodní podmínky. Vzhledem k těmto přírodním podmínkám se ovšem dá říct i to, že dosavadní rozvoj solární a větrné elektřiny nebyl dostatečný a nenaplňuje potenciál země. V současné době se plánuje propojení se Singapurem, kam by Austrálie do budoucna vyvážela elektřinu, ovšem [projekt se potýká s problémy](https://www.channelnewsasia.com/singapore/sun-cable-collapse-solar-energy-project-3200906).                                                                                                                                                                                                                                                                                                                                                                                                                                                                                                                                                                                                                                                                                                                                                                                                                                                                                                                                      \n",
       "2 Belgie dodnes vyrábí zhruba polovinu své elektřiny v jaderných elektrárnách – v současnosti má [6 aktivních reaktorů](https://world-nuclear.org/information-library/country-profiles/countries-a-f/belgium.aspx). Plánovaný celkový phase-out do roku 2025 byl o 10 let odložen v důsledku současné energetické krize, přesto byl v září 2022 [uzavřen první reaktor od 80. let](https://www.world-nuclear-news.org/Articles/First-Belgian-power-reactor-shut-down). Belgie je zároveň prvním státem EU, který provedl roku 2016 celkový [uhelný phase-out](/infografiky/uhelny-phaseout-eu), ovšem nešlo vyloženě o klimaticky motivované rozhodnutí, důvodem bylo spíše stáří elektráren a evropské regulace týkající se znečištění ovzduší.                                                                                                                                                                                                                                                                                                                                                                                                                                                                                                                                                                                                                                                                                                                                                                                                                                                                                                                                                                                                                                                                                                                                                                                                        \n",
       "3 Nejdůležitějším zdrojem elektřiny pro Brazíli jsou vodní elektrárny. V zemi funguje [druhá největší přehrada](https://www.weforum.org/agenda/2022/12/worlds-largest-hydroelectric-dams-renewable-energy/) na světě Itaipu, která se nachází na hranicích Brazílie a Paraguaye na řece Paraná. V brazilském mixu výroby elektřiny figuruje i [zemní plyn](https://fsr.eui.eu/natural-gas-in-brazils-energy-mix/), který z větší části pochází z domácí produkce. Důležitým zdrojem je též biomasa [pocházející převážně z vedlejších produktů](https://www.sciencedirect.com/science/article/abs/pii/S0959652622010873) ze zpracování cukrové třtiny. Brazílie momentálně staví svůj třetí [jaderný reaktor](https://www.world-nuclear.org/information-library/country-profiles/countries-a-f/brazil.aspx). V posledních letech dochází k výraznému nárůstu obnovitelných zdrojů pocházejících převážně z větrných elektráren. Vzhledem k přírodním podmínkám a emisně relativně nenáročnému mixu může být Brazílie do budoucna jedno z nejlepších míst na výrobu [zeleného vodíku](https://www.mckinsey.com/br/en/our-insights/all-insights/the-green-hidden-gem-brazils-opportunity-to-become-a-sustainability-powerhouse).                                                                                                                                                                                                                                                                                                                                                                                                                                                                                                                                                                                                                                                                                                                          \n",
       "4 Bulharsko je stále do velké míry závislé na elektřině z uhlí (phase-out je plánován na rok [2038](https://www.euronews.com/green/2023/01/13/bulgaria-rolls-back-plans-to-phase-out-coal-amid-fears-over-energy-and-job-security)). Dalším významným zdrojem je [jádro](https://world-nuclear.org/information-library/country-profiles/countries-a-f/bulgaria.aspx) – země má dva reaktory a má plány postavit další čtyři. Výroba elektřiny ze solárních a větrných elektráren v poslední dekádě spíše stagnuje a k větší transformaci bulharské energetiky zatím nedochází.                                                                                                                                                                                                                                                                                                                                                                                                                                                                                                                                                                                                                                                                                                                                                                                                                                                                                                                                                                                                                                                                                                                                                                                                                                                                                                                                                                          \n",
       "5 Hlavním zdrojem elektřiny pro Česko je stále uhlí, které se má přestat používat v roce [2033](https://ct24.ceskatelevize.cz/ekonomika/3478815-vlada-stale-pocita-s-koncem-uhli-do-roku-2033-plan-ale-ohrozuje-valka-na-ukrajine). Jeho podíl v mixu elektřiny také pomalu klesá. Dalším významným zdrojem elektřiny jsou čtyři bloky v jaderné elektráně Dukovany a dva bloky v Temelíně. V současnosti [probíhá tendr](https://oenergetice.cz/jaderne-elektrarny/tendr-na-dukovansky-blok-postoupi-do-dalsi-faze-vyprsi-termin-pro-prvni-nabidky) na přístavbu dalšího bloku v Dukovanech. V posledních letech byl vidět nárůst produkce elektřiny ze zemního plynu, který tvoří třetí největší zdroj. Solární energie se rychle rozvíjela na konci předminulé dekády [kvůli stanovení velmi vysokých výkupních cen](https://www.irozhlas.cz/zpravy-domov/fotovoltaika-energetika-obnovitelne-zdroje_1912040600_jab) v porovnání s náklady na produkci, po úpravě těchto finančních podmínek vidíme spíše stagnaci. U větrné energie také probíhá spíše stagnace. Česko je zároveň významným exportérem elektřiny.                                                                                                                                                                                                                                                                                                                                                                                                                                                                                                                                                                                                                                                                                                                                                                                                                                   \n",
       "6 Čína se v rámci svého ekonomického vzestupu stala výrazným průmyslovým výrobcem a [plná elektrifikace země](https://chinadialogue.net/en/energy/9934-three-lessons-from-china-s-effort-to-bring-electricity-to-1-4-billion-people/) proběhla v roce 2015. Hlavním zdrojem, na který se Čína spolehá, je jednoznačně uhlí, jehož podíl sice postupně mírně klesá, ale stále dodává přes 60 % elektřiny. Produkce elektřiny z uhlí by měla podle plánů začít klesat v roce [2026](https://www.reuters.com/world/china/china-no-closer-peak-coal-despite-record-renewable-capacity-additions-2022-08-22/). Zároveň stále dochází k intenzivní výstavbě [nových uhelných elektráren](https://www.bloomberg.com/news/articles/2023-01-20/china-to-speed-up-construction-of-coal-power-plants-this-year), přestože více nové kapacity přidávají nové solární elektrárny. Významným zdrojem elektřiny jsou vodní elektrárny a v Číně se nachází Tři soutěsky, které jsou největší vodní elektrárnou na světě. Čína zároveň disponuje [84 % výrobních kapacit](https://www.visualcapitalist.com/visualizing-chinas-dominance-in-the-solar-panel-supply-chain/) pro produkci solárních panelů a je světovým lídrem v této oblasti.  Podobnou dynamika lze vidět i u [jaderných elektráren,](https://www.world-nuclear.org/information-library/country-profiles/countries-a-f/china-nuclear-power.aspx) k jejichž rozvoji v Číně dochází a o jaderných technologiích se zároveň přemýšlí jako o produktu pro export. Přechod na obnovitelné zdroje v Číně [vyžaduje výrazné investice do přenosové sítě](https://e360.yale.edu/features/why-chinas-renewable-energy-transition-is-losing-momentum), jelikož nejvhodnější lokality pro solární i větrné elektrárny jsou často tisíce kilometrů od populačních center. V Číně se také nachází [největší větrná farma](https://discovercleantech.com/ten-gigantic-wind-farms/) na světě s aktuální kapacitou 10 GW.\n",
       "  Fossil  Renewables Nuclear Total   FossilPct NuclearPct RenewablesPct\n",
       "1  175.08   71.98      0.00   247.06 70.86538   0.000000  29.13462     \n",
       "2   25.97   22.73     50.33    99.03 26.22438  50.822983  22.95264     \n",
       "3  139.21  508.67     14.70   662.58 21.01029   2.218600  76.77111     \n",
       "4   20.50   10.31     16.49    47.30 43.34038  34.862579  21.79704     \n",
       "5   42.29   10.71     30.73    83.73 50.50758  36.701302  12.79111     \n",
       "6 5623.99 2452.53    407.50  8484.02 66.28921   4.803148  28.90764     \n",
       "  NetImports CO2Intensity\n",
       "1   0.00     531.25      \n",
       "2  -7.88     156.92      \n",
       "3  23.10     158.59      \n",
       "4  -8.78     354.33      \n",
       "5 -11.08     405.59      \n",
       "6 -17.70     544.36      "
      ]
     },
     "metadata": {},
     "output_type": "display_data"
    }
   ],
   "source": [
    "survey_joint <- left_join(survey_texts, power_generation, by = \"CountryCode\") |>\n",
    "  left_join(power_emissions, by = \"CountryCode\") |>\n",
    "  # Sort by country name according to Czech language collation rules.\n",
    "  arrange(CountryName, .locale = \"cs_CZ\")\n",
    "\n",
    "stopifnot(nrow(survey_joint) == nrow(power_generation))\n",
    "\n",
    "head(survey_joint)"
   ]
  },
  {
   "cell_type": "code",
   "execution_count": 17,
   "metadata": {
    "vscode": {
     "languageId": "r"
    }
   },
   "outputs": [],
   "source": [
    "make_commons_url <- function(filename) {\n",
    "  filename_encoded <- gsub(\" \", \"_\", filename)\n",
    "  filename_hash <- openssl::md5(filename_encoded)\n",
    "  file_url <- paste0(COMMONS_URL_BASE, \"/\",\n",
    "                     substr(filename_hash, 1, 1), \"/\",\n",
    "                     substr(filename_hash, 1, 2), \"/\",\n",
    "                     filename_encoded)\n",
    "  file_url\n",
    "}\n",
    "\n",
    "make_country_item <- function(...) {\n",
    "  country <- list(...)\n",
    "  flag_url <- make_commons_url(country$FlagFilename)\n",
    "  country_item <- list(\n",
    "    code = country$CountryCode,\n",
    "    name = country$CountryName,\n",
    "    `flag-url` = flag_url,\n",
    "    fossil = round(country$FossilPct, 1),\n",
    "    nuclear = round(country$NuclearPct, 1),\n",
    "    renewables = round(country$RenewablesPct, 1),\n",
    "    production = round(country$Total, 1),\n",
    "    `net-imports` = round(country$NetImports, 1),\n",
    "    intensity = signif(country$CO2Intensity, 3),\n",
    "    text = country$Text\n",
    "  )\n",
    "\n",
    "  # Net imports may  undefined for EU-27.\n",
    "  discard(country_item, is.na)\n",
    "}"
   ]
  },
  {
   "cell_type": "code",
   "execution_count": 18,
   "metadata": {
    "vscode": {
     "languageId": "r"
    }
   },
   "outputs": [],
   "source": [
    "# Transform the country data into YAML and save to a file.\n",
    "list(items = pmap(survey_joint, make_country_item)) |>\n",
    "  yaml::as.yaml() |>\n",
    "  writeLines(\"../outputs/electricity-mixes-survey.yml\")"
   ]
  },
  {
   "attachments": {},
   "cell_type": "markdown",
   "metadata": {},
   "source": [
    "## Automatic triangle SVG generation\n",
    "\n",
    "**Goal:** Given a template `ternary-template.svg`, generate `{CountryCode}.svg` for a given country.\n",
    "\n",
    "**Computation steps:**\n",
    "\n",
    "1. Take the dataset created above.\n",
    "2. Compute _x_ and _y_ coordinates on the unit scale for each country and year.\n",
    "3. Find out bounding box of the trinagle in the template (_x_ and _y_ position + width and height).\n",
    "4. Transform the normalised (unit-scaled) _x_ and _y_ coordinates to the template's drawing coordinates.\n",
    "5. Generate an SVG fragment for the path and the final bubble.\n",
    "6. Adjust the labels and connectors.\n",
    "7. Substitute the fragment into the SVG and save into `{CountryCode}.svg`.\n"
   ]
  },
  {
   "cell_type": "code",
   "execution_count": 6,
   "metadata": {
    "vscode": {
     "languageId": "r"
    }
   },
   "outputs": [],
   "source": [
    "power_generation_over_time <- EMBER_DATASET_PATH |>\n",
    "  read_csv(# Select only columns relevant for our analysis.\n",
    "           col_select = c(\"Country code\", \"Area\", \"Year\", \"Category\", \"Variable\", \"Value\", \"Unit\"),\n",
    "           show_col_types = FALSE) |>\n",
    "  rename(CountryCode = `Country code`) |>\n",
    "  mutate(CountryCode = if_else(Area == \"EU\", \"EU27\", CountryCode)) |>\n",
    "  filter(YEAR_RANGE[1] <= Year, Year <= YEAR_RANGE[2],\n",
    "         CountryCode %in% unique(survey_texts$CountryCode),\n",
    "         Category == \"Electricity generation\",\n",
    "         Unit == \"TWh\",\n",
    "         Variable %in% c(\"Fossil\", \"Nuclear\", \"Renewables\")) |>\n",
    "  select(CountryCode, Year, Variable, Value) |>\n",
    "  pivot_wider(names_from = Variable,\n",
    "              values_from = Value) |>\n",
    "  mutate(Total = Fossil + Nuclear + Renewables,\n",
    "         FossilPct = 100 * Fossil / Total,\n",
    "         NuclearPct = 100 * Nuclear / Total,\n",
    "         RenewablesPct = 100 * Renewables / Total)"
   ]
  },
  {
   "cell_type": "code",
   "execution_count": 7,
   "metadata": {
    "vscode": {
     "languageId": "r"
    }
   },
   "outputs": [],
   "source": [
    "colour <- scales::colour_ramp(c(\"#b5b7ba\", \"#414042\"))\n",
    "year_to_colour <- function(year) {\n",
    "  colour((year - YEAR_RANGE[1]) / (diff(YEAR_RANGE) - 1))\n",
    "}\n",
    "\n",
    "RADIUS_RANGE <- c(3, 8)\n",
    "RADIUS_DOMAIN <- c(0, max(power_generation_over_time$Total))\n",
    "radius_scale <- function(x) {\n",
    "  RADIUS_RANGE[1] + diff(RADIUS_RANGE) * sqrt(x / RADIUS_DOMAIN[2])\n",
    "}\n",
    "\n",
    "power_generation_coords <- power_generation_over_time |>\n",
    "  mutate(x = RenewablesPct + FossilPct / 2,\n",
    "         y = 100 - FossilPct)"
   ]
  },
  {
   "cell_type": "code",
   "execution_count": 8,
   "metadata": {
    "vscode": {
     "languageId": "r"
    }
   },
   "outputs": [],
   "source": [
    "build_country_path <- function(country_df, bbox) {\n",
    "  origin_years <- head(country_df$Year, -1)\n",
    "\n",
    "  bbox_x <- as.numeric(xml_attr(bbox, \"x\"))\n",
    "  bbox_y <- as.numeric(xml_attr(bbox, \"y\"))\n",
    "  bbox_width <- as.numeric(xml_attr(bbox, \"width\"))\n",
    "  bbox_height <- as.numeric(xml_attr(bbox, \"height\"))\n",
    "\n",
    "  tibble(x1 = bbox_x + head(country_df$x, -1) / 100 * bbox_width,\n",
    "         y1 = bbox_y + head(country_df$y, -1) / 100 * bbox_height,\n",
    "         x2 = bbox_x + tail(country_df$x, -1) / 100 * bbox_width,\n",
    "         y2 = bbox_y + tail(country_df$y, -1) / 100 * bbox_height,\n",
    "         stroke = year_to_colour(origin_years)) |>\n",
    "    pmap(function(x1, y1, x2, y2, stroke) {\n",
    "      structure(list(), x1 = x1, y1 = y1, x2 = x2, y2 = y2,\n",
    "                stroke = stroke, `stroke-linecap` = \"round\", `stroke-width` = \"3\")\n",
    "    })\n",
    "}"
   ]
  },
  {
   "cell_type": "code",
   "execution_count": 9,
   "metadata": {
    "vscode": {
     "languageId": "r"
    }
   },
   "outputs": [],
   "source": [
    "group_split(power_generation_coords, CountryCode) |>\n",
    "  walk(function(country_df) {\n",
    "    country_code <- first(country_df$CountryCode)\n",
    "    num_lines <- nrow(country_df) - 1\n",
    "\n",
    "    # TODO: Open only once, then clone as needed, if possible.\n",
    "    template_svg <- read_xml(TERNARY_TEMPLATE_SVG_PATH)\n",
    "\n",
    "    bbox <- xml_find_first(template_svg, \"//d1:g[@id='bbox']/d1:rect\")\n",
    "\n",
    "    g_path <- xml_find_first(template_svg, \"//d1:g[@id='path']\")\n",
    "\n",
    "    # Add path to the ternary plot.\n",
    "    line_nodes <- build_country_path(country_df, bbox)\n",
    "    names(line_nodes) <- rep_along(line_nodes, \"line\")\n",
    "    new_path <- as_xml_document(\n",
    "      list(g = structure(line_nodes, id = \"path\"))\n",
    "    )\n",
    "\n",
    "    xml_replace(g_path, new_path, free = TRUE)\n",
    "    xml_remove(bbox)\n",
    "\n",
    "    # Add bubble for the final year.\n",
    "    bubble_radius <- country_df$Total |> last() |> radius_scale()\n",
    "    last_bubble <- as_xml_document(\n",
    "      list(ellipse = structure(list(),\n",
    "                               cx = attr(line_nodes[[num_lines]], \"x2\") |> as.character(),\n",
    "                               cy = attr(line_nodes[[num_lines]], \"y2\") |> as.character(),\n",
    "                               rx = as.character(bubble_radius),\n",
    "                               ry = as.character(bubble_radius),\n",
    "                               fill = \"#ffffff\",\n",
    "                               stroke = \"#414042\"))\n",
    "    )\n",
    "    xml_add_child(template_svg, last_bubble, copy = FALSE)\n",
    "\n",
    "    # Adjust labels and connectors.\n",
    "    first_label <- xml_find_first(template_svg, \"//d1:g[@id='first-year-label']/d1:text\")\n",
    "    last_label <- xml_find_first(template_svg, \"//d1:g[@id='last-year-label']/d1:text\")\n",
    "    xml_text(first_label) <- as.character(YEAR_RANGE[1])\n",
    "    xml_text(last_label) <- as.character(YEAR_RANGE[2])\n",
    "    first_label_coords <- list(x = (attr(line_nodes[[1]], \"x1\") - 10) |> round(2),\n",
    "                               y = (attr(line_nodes[[1]], \"y1\") + 4) |> round(2))\n",
    "    last_label_coords <- list(x = (attr(line_nodes[[num_lines]], \"x2\") + bubble_radius + 10) |> round(2),\n",
    "                              y = (attr(line_nodes[[num_lines]], \"y2\") + 4) |> round(2))\n",
    "    xml_attr(first_label, \"transform\") <- glue::glue(\"translate({first_label_coords$x}, {first_label_coords$y})\")\n",
    "    xml_attr(last_label, \"transform\") <- glue::glue(\"translate({last_label_coords$x}, {last_label_coords$y})\")\n",
    "\n",
    "    first_connector <- xml_find_first(template_svg, \"//d1:line[@id='first-year-connector']\")\n",
    "    xml_attr(first_connector, \"x1\") <- as.character(attr(line_nodes[[1]], \"x1\") - 8)\n",
    "    xml_attr(first_connector, \"y1\") <- as.character(attr(line_nodes[[1]], \"y1\"))\n",
    "    xml_attr(first_connector, \"x2\") <- as.character(attr(line_nodes[[1]], \"x1\"))\n",
    "    xml_attr(first_connector, \"y2\") <- as.character(attr(line_nodes[[1]], \"y1\"))\n",
    "\n",
    "    last_connector <- xml_find_first(template_svg, \"//d1:line[@id='last-year-connector']\")\n",
    "    xml_attr(last_connector, \"x1\") <- as.character(attr(line_nodes[[num_lines]], \"x2\") + bubble_radius + 8)\n",
    "    xml_attr(last_connector, \"y1\") <- as.character(attr(line_nodes[[num_lines]], \"y2\"))\n",
    "    xml_attr(last_connector, \"x2\") <- as.character(attr(line_nodes[[num_lines]], \"x2\"))\n",
    "    xml_attr(last_connector, \"y2\") <- as.character(attr(line_nodes[[num_lines]], \"y2\"))\n",
    "\n",
    "    # Save the SVG.\n",
    "    write_xml(template_svg, glue::glue(\"../ternary/svg/{country_code}.svg\"))\n",
    "  })"
   ]
  }
 ],
 "metadata": {
  "kernelspec": {
   "display_name": "R",
   "language": "R",
   "name": "ir"
  },
  "language_info": {
   "codemirror_mode": "r",
   "file_extension": ".r",
   "mimetype": "text/x-r-source",
   "name": "R",
   "pygments_lexer": "r",
   "version": "4.2.3"
  },
  "orig_nbformat": 4,
  "vscode": {
   "interpreter": {
    "hash": "b0fa6594d8f4cbf19f97940f81e996739fb7646882a419484c72d19e05852a7e"
   }
  }
 },
 "nbformat": 4,
 "nbformat_minor": 2
}
