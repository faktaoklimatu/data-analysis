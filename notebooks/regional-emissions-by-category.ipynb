{
 "cells": [
  {
   "cell_type": "markdown",
   "id": "581a7176",
   "metadata": {},
   "source": [
    "Změny oproti předešlé verzi\n",
    "- přidán druhý slovník s popisky pro vnější část grafu\n",
    "- do celkovýho grafu zařazeny všechny proměnné\n",
    "- vnější kus grafu seskládán podle vnitřního"
   ]
  },
  {
   "cell_type": "markdown",
   "id": "8b074459",
   "metadata": {},
   "source": [
    "Ptej se na:\n",
    "- barvy grafu\n",
    "- vnější okruh grafu - seřazení - nejde hezčejc?\n",
    "- slovník popisků: musí mít stejný počet hodnot jako je položek grafu aby se to zobrazilo?\n",
    "- změny polohy popisků a procent v grafu\n",
    "- \"geo\\\\time\" - nejde líp?\n",
    "- graf 1: co to je add_artist?\n",
    "- jak upravit název grafu tak aby to správně zobrazilo stát a rok "
   ]
  },
  {
   "cell_type": "markdown",
   "id": "f795cddf",
   "metadata": {},
   "source": [
    "Import modulů"
   ]
  },
  {
   "cell_type": "code",
   "execution_count": 1003,
   "id": "c8d78bcb",
   "metadata": {},
   "outputs": [],
   "source": [
    "import numpy as np\n",
    "import pandas as pd\n",
    "import matplotlib as mpl\n",
    "import matplotlib.pyplot as plt\n",
    "import eurostat"
   ]
  },
  {
   "cell_type": "markdown",
   "id": "aa3c03cf",
   "metadata": {},
   "source": [
    "## Zvol ROK a STÁT"
   ]
  },
  {
   "cell_type": "code",
   "execution_count": 1004,
   "id": "b1721de9",
   "metadata": {},
   "outputs": [],
   "source": [
    "YEAR = 2018 \n",
    "STATE = 'SK'  "
   ]
  },
  {
   "cell_type": "markdown",
   "id": "94354e38",
   "metadata": {},
   "source": [
    "Popisky\n",
    "\n"
   ]
  },
  {
   "cell_type": "code",
   "execution_count": 1005,
   "id": "12379394",
   "metadata": {},
   "outputs": [],
   "source": [
    "label_dict_1 = {'CRF2':'Průmyslové procesy (výroba cementu, oceli,...)', \n",
    "              'CRF1A3|CRF1D1A':'Doprava (včetně letecké)',\n",
    "              'CRF1A2':'Spalování v průmyslu', \n",
    "              'CRF1A1':'Energetika',\n",
    "              'CRF1A4':'Spalování v domácnostech, institucích a zemědělství',\n",
    "              'CRF3':'Zemědělství',\n",
    "              'CRF5':'Odpadové hospodářství',\n",
    "              'TOTX4_MEMONIA':'jiné'}\n",
    "\n",
    "label_dict_2 = {'CRF2C':'Zpracování oceli a kovů',\n",
    "              'CRF2A':'Minerální produkce (cement, vápno, ...)',\n",
    "              'CRF2B':'Chemický průmysl',\n",
    "              'CRF2_rozdil':'Další průmyslové procesy',\n",
    "              'CRF1A3B1':'Osobní automobilová doprava',\n",
    "              'CRF1A3B2|CRF1A3B3':'Nákladní a autobusová doprava',\n",
    "              'CRF1D1A|CRF1A3A':'Letecká doprava',\n",
    "              'CRF1A3_rozdil':'Jiná doprava',\n",
    "              'CRF1A2A|CRF1A2B':'Spalování při zpracování oceli a kovů',\n",
    "              'CRF1A2_rozdil':'Další spalování v průmyslu',\n",
    "              'CRF1A1C|CRF1A1B':'Rafinace, výroba a úprava paliv',\n",
    "              'CRF1A1_rozdil':'Teplárny'}\n"
   ]
  },
  {
   "cell_type": "markdown",
   "id": "54f0f1f5",
   "metadata": {},
   "source": [
    "Stáhni dataframe \"env_air_gge\""
   ]
  },
  {
   "cell_type": "code",
   "execution_count": 1006,
   "id": "9f21e372",
   "metadata": {},
   "outputs": [],
   "source": [
    "df = eurostat.get_data_df('env_air_gge')"
   ]
  },
  {
   "cell_type": "code",
   "execution_count": 1007,
   "id": "1f22a578",
   "metadata": {
    "scrolled": true
   },
   "outputs": [
    {
     "data": {
      "text/html": [
       "<div>\n",
       "<style scoped>\n",
       "    .dataframe tbody tr th:only-of-type {\n",
       "        vertical-align: middle;\n",
       "    }\n",
       "\n",
       "    .dataframe tbody tr th {\n",
       "        vertical-align: top;\n",
       "    }\n",
       "\n",
       "    .dataframe thead th {\n",
       "        text-align: right;\n",
       "    }\n",
       "</style>\n",
       "<table border=\"1\" class=\"dataframe\">\n",
       "  <thead>\n",
       "    <tr style=\"text-align: right;\">\n",
       "      <th></th>\n",
       "      <th>unit</th>\n",
       "      <th>airpol</th>\n",
       "      <th>src_crf</th>\n",
       "      <th>geo\\time</th>\n",
       "      <th>2020</th>\n",
       "      <th>2019</th>\n",
       "      <th>2018</th>\n",
       "      <th>2017</th>\n",
       "      <th>2016</th>\n",
       "      <th>2015</th>\n",
       "      <th>...</th>\n",
       "      <th>1994</th>\n",
       "      <th>1993</th>\n",
       "      <th>1992</th>\n",
       "      <th>1991</th>\n",
       "      <th>1990</th>\n",
       "      <th>1989</th>\n",
       "      <th>1988</th>\n",
       "      <th>1987</th>\n",
       "      <th>1986</th>\n",
       "      <th>1985</th>\n",
       "    </tr>\n",
       "  </thead>\n",
       "  <tbody>\n",
       "    <tr>\n",
       "      <th>0</th>\n",
       "      <td>MIO_T</td>\n",
       "      <td>CH4</td>\n",
       "      <td>CRF1</td>\n",
       "      <td>AT</td>\n",
       "      <td>0.02177</td>\n",
       "      <td>0.02223</td>\n",
       "      <td>0.02289</td>\n",
       "      <td>0.02578</td>\n",
       "      <td>0.02442</td>\n",
       "      <td>0.02428</td>\n",
       "      <td>...</td>\n",
       "      <td>0.03347</td>\n",
       "      <td>0.04038</td>\n",
       "      <td>0.04278</td>\n",
       "      <td>0.04369</td>\n",
       "      <td>0.04858</td>\n",
       "      <td>NaN</td>\n",
       "      <td>NaN</td>\n",
       "      <td>NaN</td>\n",
       "      <td>NaN</td>\n",
       "      <td>NaN</td>\n",
       "    </tr>\n",
       "    <tr>\n",
       "      <th>1</th>\n",
       "      <td>MIO_T</td>\n",
       "      <td>CH4</td>\n",
       "      <td>CRF1</td>\n",
       "      <td>BE</td>\n",
       "      <td>0.04085</td>\n",
       "      <td>0.04232</td>\n",
       "      <td>0.04160</td>\n",
       "      <td>0.04206</td>\n",
       "      <td>0.04275</td>\n",
       "      <td>0.04287</td>\n",
       "      <td>...</td>\n",
       "      <td>0.04837</td>\n",
       "      <td>0.05451</td>\n",
       "      <td>0.05340</td>\n",
       "      <td>0.05934</td>\n",
       "      <td>0.06406</td>\n",
       "      <td>NaN</td>\n",
       "      <td>NaN</td>\n",
       "      <td>NaN</td>\n",
       "      <td>NaN</td>\n",
       "      <td>NaN</td>\n",
       "    </tr>\n",
       "  </tbody>\n",
       "</table>\n",
       "<p>2 rows × 40 columns</p>\n",
       "</div>"
      ],
      "text/plain": [
       "    unit airpol src_crf geo\\time     2020     2019     2018     2017     2016  \\\n",
       "0  MIO_T    CH4    CRF1       AT  0.02177  0.02223  0.02289  0.02578  0.02442   \n",
       "1  MIO_T    CH4    CRF1       BE  0.04085  0.04232  0.04160  0.04206  0.04275   \n",
       "\n",
       "      2015  ...     1994     1993     1992     1991     1990  1989  1988  \\\n",
       "0  0.02428  ...  0.03347  0.04038  0.04278  0.04369  0.04858   NaN   NaN   \n",
       "1  0.04287  ...  0.04837  0.05451  0.05340  0.05934  0.06406   NaN   NaN   \n",
       "\n",
       "   1987  1986  1985  \n",
       "0   NaN   NaN   NaN  \n",
       "1   NaN   NaN   NaN  \n",
       "\n",
       "[2 rows x 40 columns]"
      ]
     },
     "execution_count": 1007,
     "metadata": {},
     "output_type": "execute_result"
    }
   ],
   "source": [
    "df.head(2) # s kým mám tu čest... "
   ]
  },
  {
   "cell_type": "markdown",
   "id": "0df2e79f",
   "metadata": {},
   "source": [
    "Přejmenuj sloupec ať se s tím dá pracovat"
   ]
  },
  {
   "cell_type": "code",
   "execution_count": 1008,
   "id": "c5032cc4",
   "metadata": {},
   "outputs": [],
   "source": [
    "df = df.rename(columns={'geo\\\\time': 'geo_time'}) # povšimni si těch dvou lomítek v \"geo\\\\time\" - Honza bez přejmenování ale 'geo\\\\time' hází chybu."
   ]
  },
  {
   "cell_type": "markdown",
   "id": "92a1f98f",
   "metadata": {},
   "source": [
    "Dataframe pro Slovensko v milionech tun GHG CO2 ekvivalentu"
   ]
  },
  {
   "cell_type": "code",
   "execution_count": 1009,
   "id": "48758833",
   "metadata": {
    "scrolled": true
   },
   "outputs": [
    {
     "data": {
      "text/html": [
       "<div>\n",
       "<style scoped>\n",
       "    .dataframe tbody tr th:only-of-type {\n",
       "        vertical-align: middle;\n",
       "    }\n",
       "\n",
       "    .dataframe tbody tr th {\n",
       "        vertical-align: top;\n",
       "    }\n",
       "\n",
       "    .dataframe thead th {\n",
       "        text-align: right;\n",
       "    }\n",
       "</style>\n",
       "<table border=\"1\" class=\"dataframe\">\n",
       "  <thead>\n",
       "    <tr style=\"text-align: right;\">\n",
       "      <th></th>\n",
       "      <th>unit</th>\n",
       "      <th>airpol</th>\n",
       "      <th>src_crf</th>\n",
       "      <th>geo_time</th>\n",
       "      <th>2020</th>\n",
       "      <th>2019</th>\n",
       "      <th>2018</th>\n",
       "      <th>2017</th>\n",
       "      <th>2016</th>\n",
       "      <th>2015</th>\n",
       "      <th>...</th>\n",
       "      <th>1994</th>\n",
       "      <th>1993</th>\n",
       "      <th>1992</th>\n",
       "      <th>1991</th>\n",
       "      <th>1990</th>\n",
       "      <th>1989</th>\n",
       "      <th>1988</th>\n",
       "      <th>1987</th>\n",
       "      <th>1986</th>\n",
       "      <th>1985</th>\n",
       "    </tr>\n",
       "  </thead>\n",
       "  <tbody>\n",
       "    <tr>\n",
       "      <th>13330</th>\n",
       "      <td>MIO_T</td>\n",
       "      <td>GHG</td>\n",
       "      <td>CRF1</td>\n",
       "      <td>SK</td>\n",
       "      <td>24.60852</td>\n",
       "      <td>26.84846</td>\n",
       "      <td>28.29565</td>\n",
       "      <td>28.44574</td>\n",
       "      <td>27.50871</td>\n",
       "      <td>27.34669</td>\n",
       "      <td>...</td>\n",
       "      <td>39.18166</td>\n",
       "      <td>41.64202</td>\n",
       "      <td>45.61166</td>\n",
       "      <td>49.84740</td>\n",
       "      <td>56.27949</td>\n",
       "      <td>NaN</td>\n",
       "      <td>NaN</td>\n",
       "      <td>NaN</td>\n",
       "      <td>NaN</td>\n",
       "      <td>NaN</td>\n",
       "    </tr>\n",
       "    <tr>\n",
       "      <th>13366</th>\n",
       "      <td>MIO_T</td>\n",
       "      <td>GHG</td>\n",
       "      <td>CRF1A</td>\n",
       "      <td>SK</td>\n",
       "      <td>24.18342</td>\n",
       "      <td>26.36847</td>\n",
       "      <td>27.83462</td>\n",
       "      <td>27.91228</td>\n",
       "      <td>26.94201</td>\n",
       "      <td>26.77401</td>\n",
       "      <td>...</td>\n",
       "      <td>36.93856</td>\n",
       "      <td>39.37876</td>\n",
       "      <td>43.26013</td>\n",
       "      <td>47.46876</td>\n",
       "      <td>53.86689</td>\n",
       "      <td>NaN</td>\n",
       "      <td>NaN</td>\n",
       "      <td>NaN</td>\n",
       "      <td>NaN</td>\n",
       "      <td>NaN</td>\n",
       "    </tr>\n",
       "  </tbody>\n",
       "</table>\n",
       "<p>2 rows × 40 columns</p>\n",
       "</div>"
      ],
      "text/plain": [
       "        unit airpol src_crf geo_time      2020      2019      2018      2017  \\\n",
       "13330  MIO_T    GHG    CRF1       SK  24.60852  26.84846  28.29565  28.44574   \n",
       "13366  MIO_T    GHG   CRF1A       SK  24.18342  26.36847  27.83462  27.91228   \n",
       "\n",
       "           2016      2015  ...      1994      1993      1992      1991  \\\n",
       "13330  27.50871  27.34669  ...  39.18166  41.64202  45.61166  49.84740   \n",
       "13366  26.94201  26.77401  ...  36.93856  39.37876  43.26013  47.46876   \n",
       "\n",
       "           1990  1989  1988  1987  1986  1985  \n",
       "13330  56.27949   NaN   NaN   NaN   NaN   NaN  \n",
       "13366  53.86689   NaN   NaN   NaN   NaN   NaN  \n",
       "\n",
       "[2 rows x 40 columns]"
      ]
     },
     "execution_count": 1009,
     "metadata": {},
     "output_type": "execute_result"
    }
   ],
   "source": [
    "df2 = df.query(\"airpol == 'GHG' and geo_time == @STATE and unit == 'MIO_T'\") \n",
    "df2.head(2)"
   ]
  },
  {
   "cell_type": "markdown",
   "id": "a467a22d",
   "metadata": {},
   "source": [
    "Data frame pro kod odvětví (src_crf) a rok."
   ]
  },
  {
   "cell_type": "code",
   "execution_count": 1010,
   "id": "def4cc80",
   "metadata": {
    "scrolled": true
   },
   "outputs": [],
   "source": [
    "df3 = df2[[\"src_crf\", YEAR]] "
   ]
  },
  {
   "cell_type": "markdown",
   "id": "48e9d123",
   "metadata": {},
   "source": [
    "Vybírám jen určitá odvětví"
   ]
  },
  {
   "cell_type": "code",
   "execution_count": 1011,
   "id": "9e5666ed",
   "metadata": {
    "scrolled": true
   },
   "outputs": [],
   "source": [
    "df4 = df3.query(\"src_crf in ('CRF2', 'CRF1A2', 'CRF1A1','CRF1A4','CRF5','CRF3','CRF1A3','CRF1D1A' )\") "
   ]
  },
  {
   "cell_type": "markdown",
   "id": "24f9be62",
   "metadata": {},
   "source": [
    "Nastav sloupec \"src_crf\" jako index"
   ]
  },
  {
   "cell_type": "code",
   "execution_count": 1012,
   "id": "3476ebdf",
   "metadata": {
    "scrolled": true
   },
   "outputs": [],
   "source": [
    "df4 = df4.set_index('src_crf') "
   ]
  },
  {
   "cell_type": "markdown",
   "id": "1a7b70b2",
   "metadata": {},
   "source": [
    "## Výpočty nových hodnot"
   ]
  },
  {
   "cell_type": "markdown",
   "id": "9632a8e3",
   "metadata": {},
   "source": [
    "Sečti dvě odvětví (CRF1A3 a CRF1D1A) a přidej je do tabulky"
   ]
  },
  {
   "cell_type": "code",
   "execution_count": 1013,
   "id": "963ef68d",
   "metadata": {
    "scrolled": true
   },
   "outputs": [],
   "source": [
    "A = df4.loc['CRF1A3', YEAR] \n",
    "B = df4.loc['CRF1D1A', YEAR] \n",
    "C = A+B"
   ]
  },
  {
   "cell_type": "code",
   "execution_count": 1014,
   "id": "932c2ee0",
   "metadata": {
    "scrolled": true
   },
   "outputs": [],
   "source": [
    "C_df = pd.DataFrame({YEAR:[C]}) # vytvoř nový dataframe se sloupcem pojm. \"YEAR\", indexem 0 a hodnotou vypoč. jako \"C\"\n",
    "df4 = df4.append(C_df) # přilep nový dataframe ke stávajícímu \n",
    "df4 = df4.rename(index={0: 'CRF1A3_CRF1D1A'}) # přejmenuj index"
   ]
  },
  {
   "cell_type": "markdown",
   "id": "0c0feee2",
   "metadata": {},
   "source": [
    "Vyhoď jednotlivý řádky pro CRF1A3 a CRF1D1A ať to není zastoupený 2x"
   ]
  },
  {
   "cell_type": "code",
   "execution_count": 1015,
   "id": "9cd955c4",
   "metadata": {},
   "outputs": [],
   "source": [
    "df4 = df4.drop(index = 'CRF1A3') \n",
    "df4 = df4.drop(index = 'CRF1D1A')"
   ]
  },
  {
   "cell_type": "markdown",
   "id": "5aa4ea11",
   "metadata": {},
   "source": [
    "### Dopočítej rozdíl do celku"
   ]
  },
  {
   "cell_type": "markdown",
   "id": "066b9795",
   "metadata": {},
   "source": [
    "Získej hodnotu pro celek za zvolený rok"
   ]
  },
  {
   "cell_type": "code",
   "execution_count": 1016,
   "id": "f287f6d4",
   "metadata": {
    "scrolled": true
   },
   "outputs": [],
   "source": [
    "df5 = df2.query(\"src_crf == 'TOTX4_MEMONIA'\")\n",
    "df5 = df5.set_index('src_crf') # sloupec s kodem odvětví nastav jako index\n",
    "D = df5.loc['TOTX4_MEMONIA', YEAR] "
   ]
  },
  {
   "cell_type": "markdown",
   "id": "7721f15e",
   "metadata": {},
   "source": [
    "Sečti sloupec za zvolený rok, vypočítej rozdíl a přidej řádek"
   ]
  },
  {
   "cell_type": "code",
   "execution_count": 1017,
   "id": "74bb1d21",
   "metadata": {},
   "outputs": [],
   "source": [
    "total = df4[YEAR].sum() # sečti sloupec\n",
    "jine = D - total"
   ]
  },
  {
   "cell_type": "code",
   "execution_count": 1018,
   "id": "499ecb96",
   "metadata": {},
   "outputs": [],
   "source": [
    "jine_df = pd.DataFrame({YEAR:[jine]})"
   ]
  },
  {
   "cell_type": "code",
   "execution_count": 1019,
   "id": "689c0bc6",
   "metadata": {},
   "outputs": [],
   "source": [
    "df4 = df4.append(jine_df) # přilep nový dataframe ke stávajícímu \n",
    "df4 = df4.rename(index={0: 'jine'}) # přejmenuj index"
   ]
  },
  {
   "cell_type": "markdown",
   "id": "e9a1e294",
   "metadata": {},
   "source": [
    "Poskládej to sestupně"
   ]
  },
  {
   "cell_type": "code",
   "execution_count": 1020,
   "id": "312558bd",
   "metadata": {
    "scrolled": true
   },
   "outputs": [],
   "source": [
    "df4 = df4.sort_values(by= [YEAR], ascending=False)"
   ]
  },
  {
   "cell_type": "markdown",
   "id": "d0cdf8de",
   "metadata": {},
   "source": [
    "### Vytvoř graf"
   ]
  },
  {
   "cell_type": "code",
   "execution_count": 1021,
   "id": "62b3c994",
   "metadata": {
    "scrolled": true
   },
   "outputs": [
    {
     "data": {
      "image/png": "[encoded data removed]",
      "text/plain": [
       "<Figure size 432x288 with 1 Axes>"
      ]
     },
     "metadata": {},
     "output_type": "display_data"
    }
   ],
   "source": [
    "_, ax = plt.subplots() \n",
    "plt.title('Emise skleníkových plynů pro Slovensko za rok 2018 v CO2 ekviv.')\n",
    "plt.pie(df4[YEAR], labels = label_dict_1.values(), counterclock=False, startangle=90, autopct='%1.1f%%')\n",
    "inner_circle_fill = plt.Circle((0, 0), 0.4, color='white') # nastavení vnitřního kruhu\n",
    "inner_circle_edge = plt.Circle((0, 0), 0.4, color='black', fill=False) # nastavení okraje vnitřního kruhu\n",
    "ax.add_artist(inner_circle_fill) # \"add_artist\" vidim prvně\n",
    "ax.add_artist(inner_circle_edge)\n",
    "plt.show() \n",
    "\n",
    "# proč ty popisky grafu správně berou \"CRF1A3_CRF1D1A\" i když ve slovníku je to klíčovaný jinak?\n",
    "# jak se do toho grafu dostal popisek \"jiné\" když hodnota pro TOTX4_MEMONIA v tom df není...?\n",
    "# upravit název grafu tak aby to správně zobrazilo stát a rok \n"
   ]
  },
  {
   "cell_type": "markdown",
   "id": "56aa6b24",
   "metadata": {},
   "source": [
    "## Graf 2"
   ]
  },
  {
   "cell_type": "code",
   "execution_count": 1022,
   "id": "5647248e",
   "metadata": {},
   "outputs": [],
   "source": [
    "df_outer = df3.query(\"src_crf in ('CRF2C', 'CRF2A', 'CRF2B','CRF1A3B1','CRF1A3B2','CRF1A3B3','CRF1D1A','CRF1A3A','CRF1A1C','CRF1A1B','CRF1A2A','CRF1A2B')\") \n",
    "df_outer = df_outer.set_index('src_crf') "
   ]
  },
  {
   "cell_type": "markdown",
   "id": "6873a66f",
   "metadata": {},
   "source": [
    "Úpravy a dopočty dalších buněk pro graf."
   ]
  },
  {
   "cell_type": "code",
   "execution_count": 1023,
   "id": "77c15092",
   "metadata": {},
   "outputs": [],
   "source": [
    "# Uprav df_outer: vytvoř tohle: CRF1A3B2|CRF1A3B3 \n",
    "D = df_outer.loc['CRF1A3B2', YEAR] + df_outer.loc['CRF1A3B3', YEAR] \n",
    "D_df = pd.DataFrame({YEAR:[D]}) # vytvoř nový dataframe se sloupcem pojm. \"YEAR\", indexem 0 a hodnotou vypoč. jako \"D\"\n",
    "df_outer = df_outer.append(D_df) # přilep nový dataframe ke stávajícímu \n",
    "df_outer = df_outer.rename(index={0: 'CRF1A3B2_CRF1A3B3'}) # přejmenuj index\n",
    "df_outer = df_outer.drop(index = 'CRF1A3B2') # zahoď původní hodnotu\n",
    "df_outer = df_outer.drop(index = 'CRF1A3B3')"
   ]
  },
  {
   "cell_type": "code",
   "execution_count": 1024,
   "id": "ba3e5d96",
   "metadata": {},
   "outputs": [],
   "source": [
    "# Uprav df_outer: vytvoř tohle: CRF1D1A|CRF1A3A\n",
    "E = df_outer.loc['CRF1D1A', YEAR] + df_outer.loc['CRF1A3A', YEAR] \n",
    "E_df = pd.DataFrame({YEAR:[E]}) # vytvoř nový dataframe se sloupcem pojm. \"YEAR\", indexem 0 a hodnotou vypoč. jako \"E\"\n",
    "df_outer = df_outer.append(E_df) # přilep nový dataframe ke stávajícímu \n",
    "df_outer = df_outer.rename(index={0: 'CRF1D1A_CRF1A3A'}) # přejmenuj index\n",
    "df_outer = df_outer.drop(index = 'CRF1D1A') # zahoď původní hodnotu\n",
    "df_outer = df_outer.drop(index = 'CRF1A3A') # zahoď původní hodnotu"
   ]
  },
  {
   "cell_type": "code",
   "execution_count": 1025,
   "id": "27395c1e",
   "metadata": {},
   "outputs": [],
   "source": [
    "# Uprav df_outer: vytvoř tohle: CRF1A2A|CRF1A2B\n",
    "F = df_outer.loc['CRF1A2A', YEAR] + df_outer.loc['CRF1A2B', YEAR]\n",
    "F_df = pd.DataFrame({YEAR:[F]}) # vytvoř nový dataframe se sloupcem pojm. \"YEAR\", indexem 0 a hodnotou vypoč. jako \"F\"\n",
    "df_outer = df_outer.append(F_df) # přilep nový dataframe ke stávajícímu \n",
    "df_outer = df_outer.rename(index={0: 'CRF1A2A_CRF1A2B'}) # přejmenuj index\n",
    "df_outer = df_outer.drop(index = 'CRF1A2A') # zahoď původní hodnotu\n",
    "df_outer = df_outer.drop(index = 'CRF1A2B') # zahoď původní hodnotu"
   ]
  },
  {
   "cell_type": "code",
   "execution_count": 1026,
   "id": "0785e445",
   "metadata": {
    "scrolled": true
   },
   "outputs": [],
   "source": [
    "# Uprav df_outer: vytvoř tohle: CRF2_rozdil. Tedy: \"další prům proc\" = CRF2 - (CRF2A + CRF2B + CRF2C)\n",
    "G = df_outer.loc['CRF2A', YEAR] + df_outer.loc['CRF2B', YEAR] + df_outer.loc['CRF2C', YEAR]\n",
    "H = df4.loc['CRF2', YEAR] - G\n",
    "H_df = pd.DataFrame({YEAR:[H]})\n",
    "df_outer = df_outer.append(H_df) # přilep nový dataframe ke stávajícímu \n",
    "df_outer = df_outer.rename(index={0: 'CRF2_rozdil'}) # přejmenuj index"
   ]
  },
  {
   "cell_type": "code",
   "execution_count": 1027,
   "id": "747a9406",
   "metadata": {
    "scrolled": true
   },
   "outputs": [],
   "source": [
    "# Uprav df_outer: vytvoř tohle: CRF1A2_rozdil. Tedy: \"další spalování v průmyslu\" = CRF1A2 - CRF1A2A_CRF1A2B\n",
    "I = df4.loc['CRF1A2', YEAR] - df_outer.loc['CRF1A2A_CRF1A2B', YEAR]\n",
    "I_df = pd.DataFrame({YEAR:[I]})\n",
    "df_outer = df_outer.append(I_df) # přilep nový dataframe ke stávajícímu \n",
    "df_outer = df_outer.rename(index={0: 'CRF1A2_rozdil'}) # přejmenuj index"
   ]
  },
  {
   "cell_type": "code",
   "execution_count": 1028,
   "id": "f4ce203e",
   "metadata": {
    "scrolled": true
   },
   "outputs": [],
   "source": [
    "# Uprav df_outer: vytvoř tohle: CRF1A1C_CRF1A1B. Tedy: \"rafinace a spol\" = CRF1A1C + CRF1A1B\n",
    "J = df_outer.loc['CRF1A1C', YEAR] + df_outer.loc['CRF1A1B', YEAR]\n",
    "J_df = pd.DataFrame({YEAR:[J]})\n",
    "df_outer = df_outer.append(J_df) # přilep nový dataframe ke stávajícímu \n",
    "df_outer = df_outer.rename(index={0: 'CRF1A1C_CRF1A1B'}) # přejmenuj index\n",
    "df_outer = df_outer.drop(index = 'CRF1A1C') # zahoď původní hodnotu\n",
    "df_outer = df_outer.drop(index = 'CRF1A1B') # zahoď původní hodnotu"
   ]
  },
  {
   "cell_type": "code",
   "execution_count": 1029,
   "id": "f8295e3e",
   "metadata": {},
   "outputs": [],
   "source": [
    "# Uprav df_outer: vytvoř tohle: CRF1A3_rozdil. Tedy = CRF1A3_CRF1D1A - (CRF1A3B1 + CRF1A3B2_CRF1A3B3 + CRF1D1A_CRF1A3A)\n",
    "K = df4.loc['CRF1A3_CRF1D1A', YEAR] - (df_outer.loc['CRF1A3B1', YEAR] + df_outer.loc['CRF1A3B2_CRF1A3B3', YEAR] + df_outer.loc['CRF1D1A_CRF1A3A', YEAR])\n",
    "K_df = pd.DataFrame({YEAR:[K]})\n",
    "df_outer = df_outer.append(K_df) # přilep nový dataframe ke stávajícímu \n",
    "df_outer = df_outer.rename(index={0: 'CRF1A3_rozdil'}) # přejmenuj index"
   ]
  },
  {
   "cell_type": "code",
   "execution_count": 1030,
   "id": "d1d03581",
   "metadata": {},
   "outputs": [],
   "source": [
    "# Tohle je DÍLČÍ ROZDÍL. Ještě příde dál rozpadnout. \n",
    "# Uprav df_outer: vytvoř tohle: CRF1A1_rozdil_X. Tedy CRF1A1_rozdil_X = CRF1A1 - CRF1A1C_CFR1A1B\n",
    "L = df4.loc['CRF1A1', YEAR] - df_outer.loc['CRF1A1C_CRF1A1B', YEAR]\n",
    "L_df = pd.DataFrame({YEAR:[L]})\n",
    "df_outer = df_outer.append(L_df) # přilep nový dataframe ke stávajícímu \n",
    "df_outer = df_outer.rename(index={0: 'CRF1A1_rozdil_X'}) # přejmenuj index"
   ]
  },
  {
   "cell_type": "code",
   "execution_count": 1031,
   "id": "a92c93e2",
   "metadata": {
    "scrolled": true
   },
   "outputs": [],
   "source": [
    "# přidat hodnoty z vnitřního grafu\n",
    "M = df4.loc['CRF1A4', YEAR] # spalování v domácnostech ... \n",
    "N = df4.loc['CRF3', YEAR] # zemědělství\n",
    "O = df4.loc['CRF5', YEAR] # odpadové hospodářství\n",
    "P = df4.loc['jine', YEAR] # jiné\n",
    "\n",
    "M_df = pd.DataFrame({YEAR:[M]})\n",
    "df_outer = df_outer.append(M_df) # přilep nový dataframe ke stávajícímu \n",
    "df_outer = df_outer.rename(index={0: 'CRF1A4'}) # přejmenuj index\n",
    "\n",
    "N_df = pd.DataFrame({YEAR:[N]})\n",
    "df_outer = df_outer.append(N_df) # přilep nový dataframe ke stávajícímu \n",
    "df_outer = df_outer.rename(index={0: 'CRF3'}) # přejmenuj index\n",
    "\n",
    "O_df = pd.DataFrame({YEAR:[O]})\n",
    "df_outer = df_outer.append(O_df) # přilep nový dataframe ke stávajícímu \n",
    "df_outer = df_outer.rename(index={0: 'CRF5'}) # přejmenuj index\n",
    "\n",
    "P_df = pd.DataFrame({YEAR:[P]})\n",
    "df_outer = df_outer.append(P_df) # přilep nový dataframe ke stávajícímu \n",
    "df_outer = df_outer.rename(index={0: 'jine'}) # přejmenuj index"
   ]
  },
  {
   "cell_type": "markdown",
   "id": "402f59e2",
   "metadata": {},
   "source": [
    "seřadit tak jak chci já"
   ]
  },
  {
   "cell_type": "code",
   "execution_count": 1032,
   "id": "ec969fa8",
   "metadata": {},
   "outputs": [],
   "source": [
    "# teď sem tam napevno vrazil hodnoty podle kterejch to řadim, nešlo by to nějak hezčejác?\n",
    "sorting_values = [5,2,3,1,6,7,9,4,10,11,8,12,13,14,15,16] # vytvoř list\n",
    "df_outer['sorting_values'] = sorting_values # přidej ho do dataframu"
   ]
  },
  {
   "cell_type": "code",
   "execution_count": 1033,
   "id": "d22acbd3",
   "metadata": {},
   "outputs": [],
   "source": [
    "# potřeba seřadit tak jak chci aby to lezlo do toho grafu. \n",
    "df_outer.sort_values('sorting_values', inplace=True)"
   ]
  },
  {
   "cell_type": "code",
   "execution_count": 1034,
   "id": "1c9aa1eb",
   "metadata": {},
   "outputs": [
    {
     "data": {
      "image/png": "[encoded data removed]",
      "text/plain": [
       "<Figure size 432x288 with 1 Axes>"
      ]
     },
     "metadata": {},
     "output_type": "display_data"
    }
   ],
   "source": [
    "fig, ax = plt.subplots()\n",
    "\n",
    "size = 0.3\n",
    "\n",
    "# vnitřní\n",
    "ax.pie(df4[YEAR], radius=1-size, counterclock=False, startangle=90, \n",
    "       wedgeprops=dict(width=size, edgecolor='w'))\n",
    "\n",
    "# vnější\n",
    "ax.pie(df_outer[2018], radius=1, labels = df_outer.index, counterclock=False, startangle=90, \n",
    "       wedgeprops=dict(width=size, edgecolor='w'))\n",
    "\n",
    "ax.set(aspect=\"equal\", title='moje blabla')\n",
    "plt.show()\n",
    "\n",
    "# CRF1A1_rozdil_X bude ještě nutno dál rozpadnout: elektrárny - povolenky, teplárny... a to nebude úplně lehký"
   ]
  },
  {
   "cell_type": "markdown",
   "id": "c2749874",
   "metadata": {},
   "source": [
    "## Další provozní kusy kodu"
   ]
  },
  {
   "cell_type": "markdown",
   "id": "2d68b162",
   "metadata": {},
   "source": [
    "Graf 2: Na pevno - ať vidim ja to má vypadat"
   ]
  },
  {
   "cell_type": "code",
   "execution_count": 1035,
   "id": "fb87244d",
   "metadata": {},
   "outputs": [],
   "source": [
    "d = {'col1': ['CRF2C', 'CRF2A', 'CRF2B', 'dalsi', 'zbytek'], 'col2': [4.75, 2.28, 1.7, 0.88, 32.7] } # zatim napevno\n",
    "df_outer_demo = pd.DataFrame(data=d)"
   ]
  },
  {
   "cell_type": "code",
   "execution_count": 1036,
   "id": "08160742",
   "metadata": {},
   "outputs": [],
   "source": [
    "df_outer_demo = df_outer_demo.set_index('col1')"
   ]
  },
  {
   "cell_type": "code",
   "execution_count": 1037,
   "id": "941907fc",
   "metadata": {
    "scrolled": true
   },
   "outputs": [
    {
     "data": {
      "image/png": "[encoded data removed]",
      "text/plain": [
       "<Figure size 432x288 with 1 Axes>"
      ]
     },
     "metadata": {},
     "output_type": "display_data"
    }
   ],
   "source": [
    "fig, ax = plt.subplots()\n",
    "\n",
    "size = 0.3\n",
    "\n",
    "# vnitřní\n",
    "ax.pie(df4[YEAR], radius=1-size, counterclock=False, startangle=90, \n",
    "       wedgeprops=dict(width=size, edgecolor='w'))\n",
    "\n",
    "# vnější\n",
    "ax.pie(df_outer_demo['col2'], radius=1, labels = df_outer_demo.index, counterclock=False, startangle=90, \n",
    "       wedgeprops=dict(width=size, edgecolor='w'))\n",
    "\n",
    "ax.set(aspect=\"equal\", title='moje blabla')\n",
    "plt.show()"
   ]
  },
  {
   "cell_type": "markdown",
   "id": "8087eb77",
   "metadata": {},
   "source": [
    "Další kousky"
   ]
  },
  {
   "cell_type": "code",
   "execution_count": 1038,
   "id": "414b810c",
   "metadata": {},
   "outputs": [
    {
     "data": {
      "text/plain": [
       "42.32090999999999"
      ]
     },
     "execution_count": 1038,
     "metadata": {},
     "output_type": "execute_result"
    }
   ],
   "source": [
    "total = df4[YEAR].sum() # sečti sloupec\n",
    "total"
   ]
  },
  {
   "cell_type": "code",
   "execution_count": 1039,
   "id": "b637076d",
   "metadata": {},
   "outputs": [
    {
     "name": "stdout",
     "output_type": "stream",
     "text": [
      "float64\n"
     ]
    }
   ],
   "source": [
    "print (df4[YEAR].dtypes) # zjisti datový typ sloupce"
   ]
  },
  {
   "cell_type": "code",
   "execution_count": 1040,
   "id": "efeae094",
   "metadata": {},
   "outputs": [
    {
     "data": {
      "text/plain": [
       "['src_crf', 2018]"
      ]
     },
     "execution_count": 1040,
     "metadata": {},
     "output_type": "execute_result"
    }
   ],
   "source": [
    "list(df3.columns) # vyjeď názvy sloupců"
   ]
  },
  {
   "cell_type": "code",
   "execution_count": 1041,
   "id": "c958b4f0",
   "metadata": {
    "scrolled": false
   },
   "outputs": [
    {
     "data": {
      "text/plain": [
       "array(['CH4', 'CH4_CO2E', 'CO2', 'GHG', 'HFC_CO2E', 'HFC_PFC_NSP_CO2E',\n",
       "       'N2O', 'N2O_CO2E', 'NF3_CO2E', 'PFC_CO2E', 'SF6_CO2E'],\n",
       "      dtype=object)"
      ]
     },
     "execution_count": 1041,
     "metadata": {},
     "output_type": "execute_result"
    }
   ],
   "source": [
    "df.airpol.unique() # ukáže mi co unikátního tam všechno mám "
   ]
  },
  {
   "cell_type": "markdown",
   "id": "72c0c07d",
   "metadata": {},
   "source": [
    "## Další tabulka"
   ]
  },
  {
   "cell_type": "code",
   "execution_count": 1042,
   "id": "4663f5eb",
   "metadata": {},
   "outputs": [],
   "source": [
    "df_demo = eurostat.get_data_df('demo_pjan')"
   ]
  },
  {
   "cell_type": "code",
   "execution_count": 1043,
   "id": "924f5afb",
   "metadata": {},
   "outputs": [
    {
     "data": {
      "text/html": [
       "<div>\n",
       "<style scoped>\n",
       "    .dataframe tbody tr th:only-of-type {\n",
       "        vertical-align: middle;\n",
       "    }\n",
       "\n",
       "    .dataframe tbody tr th {\n",
       "        vertical-align: top;\n",
       "    }\n",
       "\n",
       "    .dataframe thead th {\n",
       "        text-align: right;\n",
       "    }\n",
       "</style>\n",
       "<table border=\"1\" class=\"dataframe\">\n",
       "  <thead>\n",
       "    <tr style=\"text-align: right;\">\n",
       "      <th></th>\n",
       "      <th>unit</th>\n",
       "      <th>age</th>\n",
       "      <th>sex</th>\n",
       "      <th>geo\\time</th>\n",
       "      <th>2021</th>\n",
       "      <th>2020</th>\n",
       "      <th>2019</th>\n",
       "      <th>2018</th>\n",
       "      <th>2017</th>\n",
       "      <th>2016</th>\n",
       "      <th>...</th>\n",
       "      <th>1969</th>\n",
       "      <th>1968</th>\n",
       "      <th>1967</th>\n",
       "      <th>1966</th>\n",
       "      <th>1965</th>\n",
       "      <th>1964</th>\n",
       "      <th>1963</th>\n",
       "      <th>1962</th>\n",
       "      <th>1961</th>\n",
       "      <th>1960</th>\n",
       "    </tr>\n",
       "  </thead>\n",
       "  <tbody>\n",
       "    <tr>\n",
       "      <th>0</th>\n",
       "      <td>NR</td>\n",
       "      <td>TOTAL</td>\n",
       "      <td>F</td>\n",
       "      <td>AD</td>\n",
       "      <td>NaN</td>\n",
       "      <td>NaN</td>\n",
       "      <td>37388.0</td>\n",
       "      <td>NaN</td>\n",
       "      <td>NaN</td>\n",
       "      <td>NaN</td>\n",
       "      <td>...</td>\n",
       "      <td>NaN</td>\n",
       "      <td>NaN</td>\n",
       "      <td>NaN</td>\n",
       "      <td>NaN</td>\n",
       "      <td>NaN</td>\n",
       "      <td>NaN</td>\n",
       "      <td>NaN</td>\n",
       "      <td>NaN</td>\n",
       "      <td>NaN</td>\n",
       "      <td>NaN</td>\n",
       "    </tr>\n",
       "    <tr>\n",
       "      <th>1</th>\n",
       "      <td>NR</td>\n",
       "      <td>TOTAL</td>\n",
       "      <td>F</td>\n",
       "      <td>AL</td>\n",
       "      <td>1419759.0</td>\n",
       "      <td>1425342.0</td>\n",
       "      <td>1432833.0</td>\n",
       "      <td>1431715.0</td>\n",
       "      <td>1423050.0</td>\n",
       "      <td>1417141.0</td>\n",
       "      <td>...</td>\n",
       "      <td>NaN</td>\n",
       "      <td>NaN</td>\n",
       "      <td>NaN</td>\n",
       "      <td>NaN</td>\n",
       "      <td>NaN</td>\n",
       "      <td>NaN</td>\n",
       "      <td>NaN</td>\n",
       "      <td>NaN</td>\n",
       "      <td>NaN</td>\n",
       "      <td>NaN</td>\n",
       "    </tr>\n",
       "  </tbody>\n",
       "</table>\n",
       "<p>2 rows × 66 columns</p>\n",
       "</div>"
      ],
      "text/plain": [
       "  unit    age sex geo\\time       2021       2020       2019       2018  \\\n",
       "0   NR  TOTAL   F       AD        NaN        NaN    37388.0        NaN   \n",
       "1   NR  TOTAL   F       AL  1419759.0  1425342.0  1432833.0  1431715.0   \n",
       "\n",
       "        2017       2016  ...  1969  1968  1967  1966  1965  1964  1963  1962  \\\n",
       "0        NaN        NaN  ...   NaN   NaN   NaN   NaN   NaN   NaN   NaN   NaN   \n",
       "1  1423050.0  1417141.0  ...   NaN   NaN   NaN   NaN   NaN   NaN   NaN   NaN   \n",
       "\n",
       "   1961  1960  \n",
       "0   NaN   NaN  \n",
       "1   NaN   NaN  \n",
       "\n",
       "[2 rows x 66 columns]"
      ]
     },
     "execution_count": 1043,
     "metadata": {},
     "output_type": "execute_result"
    }
   ],
   "source": [
    "df_demo.head(2)"
   ]
  }
 ],
 "metadata": {
  "kernelspec": {
   "display_name": "Python 3 (ipykernel)",
   "language": "python",
   "name": "python3"
  },
  "language_info": {
   "codemirror_mode": {
    "name": "ipython",
    "version": 3
   },
   "file_extension": ".py",
   "mimetype": "text/x-python",
   "name": "python",
   "nbconvert_exporter": "python",
   "pygments_lexer": "ipython3",
   "version": "3.9.7"
  }
 },
 "nbformat": 4,
 "nbformat_minor": 5
}
