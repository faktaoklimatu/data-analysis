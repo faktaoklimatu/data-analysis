{
 "cells": [
  {
   "cell_type": "markdown",
   "id": "3be917d7-06e0-4f26-90ef-8a4fe26866d7",
   "metadata": {},
   "source": [
    "'EU_28' rises an error - 'TOTX4_MEMONIA' - needs to be fixed"
   ]
  },
  {
   "cell_type": "code",
   "execution_count": 3,
   "id": "733a4bcf-afcb-4d78-89e7-a0481009b708",
   "metadata": {},
   "outputs": [],
   "source": [
    "from regional_emissions_by_category_lib import create_plot "
   ]
  },
  {
   "cell_type": "code",
   "execution_count": null,
   "id": "9c57b465-8734-4ca1-b6fe-1831e5fb9f47",
   "metadata": {},
   "outputs": [],
   "source": [
    "STATE = 'CZ'\n",
    "YEAR = 2018\n",
    "create_plot(STATE, YEAR)"
   ]
  },
  {
   "cell_type": "code",
   "execution_count": null,
   "id": "2e9fbf0b-6680-435e-84a4-bdc0ee067d71",
   "metadata": {},
   "outputs": [],
   "source": []
  }
 ],
 "metadata": {
  "kernelspec": {
   "display_name": "Python 3 (ipykernel)",
   "language": "python",
   "name": "python3"
  },
  "language_info": {
   "codemirror_mode": {
    "name": "ipython",
    "version": 3
   },
   "file_extension": ".py",
   "mimetype": "text/x-python",
   "name": "python",
   "nbconvert_exporter": "python",
   "pygments_lexer": "ipython3",
   "version": "3.9.7"
  }
 },
 "nbformat": 4,
 "nbformat_minor": 5
}
