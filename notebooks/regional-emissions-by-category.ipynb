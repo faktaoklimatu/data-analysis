{
 "cells": [
  {
   "cell_type": "markdown",
   "id": "f795cddf",
   "metadata": {},
   "source": [
    "Import modulů"
   ]
  },
  {
   "cell_type": "code",
   "execution_count": 1153,
   "id": "c8d78bcb",
   "metadata": {},
   "outputs": [],
   "source": [
    "import numpy as np\n",
    "import pandas as pd\n",
    "import matplotlib as mpl\n",
    "import matplotlib.pyplot as plt\n",
    "import eurostat"
   ]
  },
  {
   "cell_type": "markdown",
   "id": "f95d237d",
   "metadata": {},
   "source": [
    "## Zvol ROK a STÁT"
   ]
  },
  {
   "cell_type": "code",
   "execution_count": 1154,
   "id": "0be67310",
   "metadata": {},
   "outputs": [],
   "source": [
    "YEAR = 2018 \n",
    "STATE = 'SK'  "
   ]
  },
  {
   "cell_type": "markdown",
   "id": "0c292d8e",
   "metadata": {},
   "source": [
    "Popisky\n",
    "\n"
   ]
  },
  {
   "cell_type": "code",
   "execution_count": 1155,
   "id": "83d998f4",
   "metadata": {},
   "outputs": [],
   "source": [
    "label_dict = {'CRF2':'Průmyslové procesy (výroba cementu, oceli,...)', 'CRF1A3|CRF1D1A':'Doprava (včetně letecké)','CRF1A2':'Spalování v průmyslu', 'CRF1A1':'Energetika','CRF1A4':'Spalování v domácnostech, institucích a zemědělství','CRF3':'Zemědělství','CRF5':'Odpadové hospodářství','TOTX4_MEMONIA':'jiné'}\n"
   ]
  },
  {
   "cell_type": "markdown",
   "id": "54f0f1f5",
   "metadata": {},
   "source": [
    "Stáhni dataframe \"env_air_gge\""
   ]
  },
  {
   "cell_type": "code",
   "execution_count": 1156,
   "id": "9f21e372",
   "metadata": {},
   "outputs": [],
   "source": [
    "df = eurostat.get_data_df('env_air_gge')"
   ]
  },
  {
   "cell_type": "code",
   "execution_count": 1157,
   "id": "1f22a578",
   "metadata": {
    "scrolled": true
   },
   "outputs": [
    {
     "data": {
      "text/html": [
       "<div>\n",
       "<style scoped>\n",
       "    .dataframe tbody tr th:only-of-type {\n",
       "        vertical-align: middle;\n",
       "    }\n",
       "\n",
       "    .dataframe tbody tr th {\n",
       "        vertical-align: top;\n",
       "    }\n",
       "\n",
       "    .dataframe thead th {\n",
       "        text-align: right;\n",
       "    }\n",
       "</style>\n",
       "<table border=\"1\" class=\"dataframe\">\n",
       "  <thead>\n",
       "    <tr style=\"text-align: right;\">\n",
       "      <th></th>\n",
       "      <th>unit</th>\n",
       "      <th>airpol</th>\n",
       "      <th>src_crf</th>\n",
       "      <th>geo\\time</th>\n",
       "      <th>2020</th>\n",
       "      <th>2019</th>\n",
       "      <th>2018</th>\n",
       "      <th>2017</th>\n",
       "      <th>2016</th>\n",
       "      <th>2015</th>\n",
       "      <th>...</th>\n",
       "      <th>1994</th>\n",
       "      <th>1993</th>\n",
       "      <th>1992</th>\n",
       "      <th>1991</th>\n",
       "      <th>1990</th>\n",
       "      <th>1989</th>\n",
       "      <th>1988</th>\n",
       "      <th>1987</th>\n",
       "      <th>1986</th>\n",
       "      <th>1985</th>\n",
       "    </tr>\n",
       "  </thead>\n",
       "  <tbody>\n",
       "    <tr>\n",
       "      <th>0</th>\n",
       "      <td>MIO_T</td>\n",
       "      <td>CH4</td>\n",
       "      <td>CRF1</td>\n",
       "      <td>AT</td>\n",
       "      <td>0.02177</td>\n",
       "      <td>0.02223</td>\n",
       "      <td>0.02289</td>\n",
       "      <td>0.02578</td>\n",
       "      <td>0.02442</td>\n",
       "      <td>0.02428</td>\n",
       "      <td>...</td>\n",
       "      <td>0.03347</td>\n",
       "      <td>0.04038</td>\n",
       "      <td>0.04278</td>\n",
       "      <td>0.04369</td>\n",
       "      <td>0.04858</td>\n",
       "      <td>NaN</td>\n",
       "      <td>NaN</td>\n",
       "      <td>NaN</td>\n",
       "      <td>NaN</td>\n",
       "      <td>NaN</td>\n",
       "    </tr>\n",
       "    <tr>\n",
       "      <th>1</th>\n",
       "      <td>MIO_T</td>\n",
       "      <td>CH4</td>\n",
       "      <td>CRF1</td>\n",
       "      <td>BE</td>\n",
       "      <td>0.04085</td>\n",
       "      <td>0.04232</td>\n",
       "      <td>0.04160</td>\n",
       "      <td>0.04206</td>\n",
       "      <td>0.04275</td>\n",
       "      <td>0.04287</td>\n",
       "      <td>...</td>\n",
       "      <td>0.04837</td>\n",
       "      <td>0.05451</td>\n",
       "      <td>0.05340</td>\n",
       "      <td>0.05934</td>\n",
       "      <td>0.06406</td>\n",
       "      <td>NaN</td>\n",
       "      <td>NaN</td>\n",
       "      <td>NaN</td>\n",
       "      <td>NaN</td>\n",
       "      <td>NaN</td>\n",
       "    </tr>\n",
       "  </tbody>\n",
       "</table>\n",
       "<p>2 rows × 40 columns</p>\n",
       "</div>"
      ],
      "text/plain": [
       "    unit airpol src_crf geo\\time     2020     2019     2018     2017     2016  \\\n",
       "0  MIO_T    CH4    CRF1       AT  0.02177  0.02223  0.02289  0.02578  0.02442   \n",
       "1  MIO_T    CH4    CRF1       BE  0.04085  0.04232  0.04160  0.04206  0.04275   \n",
       "\n",
       "      2015  ...     1994     1993     1992     1991     1990  1989  1988  \\\n",
       "0  0.02428  ...  0.03347  0.04038  0.04278  0.04369  0.04858   NaN   NaN   \n",
       "1  0.04287  ...  0.04837  0.05451  0.05340  0.05934  0.06406   NaN   NaN   \n",
       "\n",
       "   1987  1986  1985  \n",
       "0   NaN   NaN   NaN  \n",
       "1   NaN   NaN   NaN  \n",
       "\n",
       "[2 rows x 40 columns]"
      ]
     },
     "execution_count": 1157,
     "metadata": {},
     "output_type": "execute_result"
    }
   ],
   "source": [
    "df.head(2) # s kým mám tu čest... "
   ]
  },
  {
   "cell_type": "markdown",
   "id": "0df2e79f",
   "metadata": {},
   "source": [
    "Přejmenuj sloupec ať se s tím dá pracovat"
   ]
  },
  {
   "cell_type": "code",
   "execution_count": 1158,
   "id": "c5032cc4",
   "metadata": {},
   "outputs": [],
   "source": [
    "df = df.rename(columns={'geo\\\\time': 'geo_time'}) # povšimni si těch dvou lomítek v \"geo\\\\time\" - Honza bez přejmenování ale 'geo\\\\time' hází chybu."
   ]
  },
  {
   "cell_type": "markdown",
   "id": "92a1f98f",
   "metadata": {},
   "source": [
    "Dataframe pro Slovensko v milionech tun GHG CO2 ekvivalentu"
   ]
  },
  {
   "cell_type": "code",
   "execution_count": 1159,
   "id": "48758833",
   "metadata": {
    "scrolled": true
   },
   "outputs": [
    {
     "data": {
      "text/html": [
       "<div>\n",
       "<style scoped>\n",
       "    .dataframe tbody tr th:only-of-type {\n",
       "        vertical-align: middle;\n",
       "    }\n",
       "\n",
       "    .dataframe tbody tr th {\n",
       "        vertical-align: top;\n",
       "    }\n",
       "\n",
       "    .dataframe thead th {\n",
       "        text-align: right;\n",
       "    }\n",
       "</style>\n",
       "<table border=\"1\" class=\"dataframe\">\n",
       "  <thead>\n",
       "    <tr style=\"text-align: right;\">\n",
       "      <th></th>\n",
       "      <th>unit</th>\n",
       "      <th>airpol</th>\n",
       "      <th>src_crf</th>\n",
       "      <th>geo_time</th>\n",
       "      <th>2020</th>\n",
       "      <th>2019</th>\n",
       "      <th>2018</th>\n",
       "      <th>2017</th>\n",
       "      <th>2016</th>\n",
       "      <th>2015</th>\n",
       "      <th>...</th>\n",
       "      <th>1994</th>\n",
       "      <th>1993</th>\n",
       "      <th>1992</th>\n",
       "      <th>1991</th>\n",
       "      <th>1990</th>\n",
       "      <th>1989</th>\n",
       "      <th>1988</th>\n",
       "      <th>1987</th>\n",
       "      <th>1986</th>\n",
       "      <th>1985</th>\n",
       "    </tr>\n",
       "  </thead>\n",
       "  <tbody>\n",
       "    <tr>\n",
       "      <th>13330</th>\n",
       "      <td>MIO_T</td>\n",
       "      <td>GHG</td>\n",
       "      <td>CRF1</td>\n",
       "      <td>SK</td>\n",
       "      <td>24.60852</td>\n",
       "      <td>26.84846</td>\n",
       "      <td>28.29565</td>\n",
       "      <td>28.44574</td>\n",
       "      <td>27.50871</td>\n",
       "      <td>27.34669</td>\n",
       "      <td>...</td>\n",
       "      <td>39.18166</td>\n",
       "      <td>41.64202</td>\n",
       "      <td>45.61166</td>\n",
       "      <td>49.84740</td>\n",
       "      <td>56.27949</td>\n",
       "      <td>NaN</td>\n",
       "      <td>NaN</td>\n",
       "      <td>NaN</td>\n",
       "      <td>NaN</td>\n",
       "      <td>NaN</td>\n",
       "    </tr>\n",
       "    <tr>\n",
       "      <th>13366</th>\n",
       "      <td>MIO_T</td>\n",
       "      <td>GHG</td>\n",
       "      <td>CRF1A</td>\n",
       "      <td>SK</td>\n",
       "      <td>24.18342</td>\n",
       "      <td>26.36847</td>\n",
       "      <td>27.83462</td>\n",
       "      <td>27.91228</td>\n",
       "      <td>26.94201</td>\n",
       "      <td>26.77401</td>\n",
       "      <td>...</td>\n",
       "      <td>36.93856</td>\n",
       "      <td>39.37876</td>\n",
       "      <td>43.26013</td>\n",
       "      <td>47.46876</td>\n",
       "      <td>53.86689</td>\n",
       "      <td>NaN</td>\n",
       "      <td>NaN</td>\n",
       "      <td>NaN</td>\n",
       "      <td>NaN</td>\n",
       "      <td>NaN</td>\n",
       "    </tr>\n",
       "  </tbody>\n",
       "</table>\n",
       "<p>2 rows × 40 columns</p>\n",
       "</div>"
      ],
      "text/plain": [
       "        unit airpol src_crf geo_time      2020      2019      2018      2017  \\\n",
       "13330  MIO_T    GHG    CRF1       SK  24.60852  26.84846  28.29565  28.44574   \n",
       "13366  MIO_T    GHG   CRF1A       SK  24.18342  26.36847  27.83462  27.91228   \n",
       "\n",
       "           2016      2015  ...      1994      1993      1992      1991  \\\n",
       "13330  27.50871  27.34669  ...  39.18166  41.64202  45.61166  49.84740   \n",
       "13366  26.94201  26.77401  ...  36.93856  39.37876  43.26013  47.46876   \n",
       "\n",
       "           1990  1989  1988  1987  1986  1985  \n",
       "13330  56.27949   NaN   NaN   NaN   NaN   NaN  \n",
       "13366  53.86689   NaN   NaN   NaN   NaN   NaN  \n",
       "\n",
       "[2 rows x 40 columns]"
      ]
     },
     "execution_count": 1159,
     "metadata": {},
     "output_type": "execute_result"
    }
   ],
   "source": [
    "df2 = df.query(\"airpol == 'GHG' and geo_time == @STATE and unit == 'MIO_T'\") \n",
    "df2.head(2)"
   ]
  },
  {
   "cell_type": "markdown",
   "id": "a467a22d",
   "metadata": {},
   "source": [
    "Data frame pro kod odvětví (src_crf) a rok."
   ]
  },
  {
   "cell_type": "code",
   "execution_count": 1160,
   "id": "def4cc80",
   "metadata": {
    "scrolled": true
   },
   "outputs": [],
   "source": [
    "df3 = df2[[\"src_crf\", YEAR]] "
   ]
  },
  {
   "cell_type": "markdown",
   "id": "f298f68b",
   "metadata": {},
   "source": [
    "Vybírám jen určitá odvětví"
   ]
  },
  {
   "cell_type": "code",
   "execution_count": 1161,
   "id": "9e5666ed",
   "metadata": {
    "scrolled": true
   },
   "outputs": [],
   "source": [
    "df4 = df3.query(\"src_crf in ('CRF2', 'CRF1A2', 'CRF1A1','CRF1A4','CRF5','CRF3','CRF1A3','CRF1D1A' )\") "
   ]
  },
  {
   "cell_type": "markdown",
   "id": "24f9be62",
   "metadata": {},
   "source": [
    "Nastav sloupec \"src_crf\" jako index"
   ]
  },
  {
   "cell_type": "code",
   "execution_count": 1162,
   "id": "3476ebdf",
   "metadata": {
    "scrolled": true
   },
   "outputs": [],
   "source": [
    "df4 = df4.set_index('src_crf') "
   ]
  },
  {
   "cell_type": "markdown",
   "id": "64e7cb81",
   "metadata": {},
   "source": [
    "## Výpočty nových hodnot"
   ]
  },
  {
   "cell_type": "markdown",
   "id": "9632a8e3",
   "metadata": {},
   "source": [
    "Sečti dvě odvětví (CRF1A3 a CRF1D1A) a přidej je do tabulky"
   ]
  },
  {
   "cell_type": "code",
   "execution_count": 1163,
   "id": "963ef68d",
   "metadata": {
    "scrolled": true
   },
   "outputs": [],
   "source": [
    "A = df4.loc['CRF1A3', YEAR] \n",
    "B = df4.loc['CRF1D1A', YEAR] \n",
    "C = A+B"
   ]
  },
  {
   "cell_type": "code",
   "execution_count": 1164,
   "id": "545d27ce",
   "metadata": {
    "scrolled": true
   },
   "outputs": [],
   "source": [
    "C_df = pd.DataFrame({YEAR:[C]}) # vytvoř nový dataframe se sloupcem pojm. \"YEAR\", indexem 0 a hodnotou vypoč. jako \"C\""
   ]
  },
  {
   "cell_type": "code",
   "execution_count": 1165,
   "id": "31dcd4fd",
   "metadata": {},
   "outputs": [],
   "source": [
    "df4 = df4.append(C_df) # přilep nový dataframe ke stávajícímu \n",
    "df4 = df4.rename(index={0: 'CRF1A3_CRF1D1A'}) # přejmenuj index"
   ]
  },
  {
   "cell_type": "markdown",
   "id": "0c0feee2",
   "metadata": {},
   "source": [
    "Vyhoď jednotlivý řádky pro CRF1A3 a CRF1D1A ať to není zastoupený 2x"
   ]
  },
  {
   "cell_type": "code",
   "execution_count": 1166,
   "id": "9cd955c4",
   "metadata": {},
   "outputs": [],
   "source": [
    "df4 = df4.drop(index = 'CRF1A3') \n",
    "df4 = df4.drop(index = 'CRF1D1A')"
   ]
  },
  {
   "cell_type": "markdown",
   "id": "5aa4ea11",
   "metadata": {},
   "source": [
    "### Dopočítej rozdíl do celku"
   ]
  },
  {
   "cell_type": "markdown",
   "id": "066b9795",
   "metadata": {},
   "source": [
    "Získej hodnotu pro celek za zvolený rok"
   ]
  },
  {
   "cell_type": "code",
   "execution_count": 1167,
   "id": "f287f6d4",
   "metadata": {
    "scrolled": true
   },
   "outputs": [],
   "source": [
    "df5 = df2.query(\"src_crf == 'TOTX4_MEMONIA'\")\n",
    "df5 = df5.set_index('src_crf') # sloupec s kodem odvětví nastav jako index\n",
    "D = df5.loc['TOTX4_MEMONIA', YEAR] "
   ]
  },
  {
   "cell_type": "markdown",
   "id": "7721f15e",
   "metadata": {},
   "source": [
    "Sečti sloupec za zvolený rok, vypočítej rozdíl a přidej řádek"
   ]
  },
  {
   "cell_type": "code",
   "execution_count": 1168,
   "id": "74bb1d21",
   "metadata": {},
   "outputs": [],
   "source": [
    "total = df4[YEAR].sum() # sečti sloupec\n",
    "jine = D - total"
   ]
  },
  {
   "cell_type": "code",
   "execution_count": 1169,
   "id": "8e39a050",
   "metadata": {},
   "outputs": [],
   "source": [
    "jine_df = pd.DataFrame({YEAR:[jine]})"
   ]
  },
  {
   "cell_type": "code",
   "execution_count": 1170,
   "id": "c264b49f",
   "metadata": {},
   "outputs": [],
   "source": [
    "df4 = df4.append(jine_df) # přilep nový dataframe ke stávajícímu \n",
    "df4 = df4.rename(index={0: 'jine'}) # přejmenuj index"
   ]
  },
  {
   "cell_type": "markdown",
   "id": "e9a1e294",
   "metadata": {},
   "source": [
    "Poskládej to sestupně"
   ]
  },
  {
   "cell_type": "code",
   "execution_count": 1171,
   "id": "312558bd",
   "metadata": {},
   "outputs": [
    {
     "data": {
      "text/html": [
       "<div>\n",
       "<style scoped>\n",
       "    .dataframe tbody tr th:only-of-type {\n",
       "        vertical-align: middle;\n",
       "    }\n",
       "\n",
       "    .dataframe tbody tr th {\n",
       "        vertical-align: top;\n",
       "    }\n",
       "\n",
       "    .dataframe thead th {\n",
       "        text-align: right;\n",
       "    }\n",
       "</style>\n",
       "<table border=\"1\" class=\"dataframe\">\n",
       "  <thead>\n",
       "    <tr style=\"text-align: right;\">\n",
       "      <th></th>\n",
       "      <th>2018</th>\n",
       "    </tr>\n",
       "  </thead>\n",
       "  <tbody>\n",
       "    <tr>\n",
       "      <th>CRF2</th>\n",
       "      <td>9.55352</td>\n",
       "    </tr>\n",
       "    <tr>\n",
       "      <th>CRF1A3_CRF1D1A</th>\n",
       "      <td>8.00405</td>\n",
       "    </tr>\n",
       "    <tr>\n",
       "      <th>CRF1A2</th>\n",
       "      <td>7.63327</td>\n",
       "    </tr>\n",
       "    <tr>\n",
       "      <th>CRF1A1</th>\n",
       "      <td>7.43052</td>\n",
       "    </tr>\n",
       "    <tr>\n",
       "      <th>CRF1A4</th>\n",
       "      <td>4.86371</td>\n",
       "    </tr>\n",
       "    <tr>\n",
       "      <th>CRF3</th>\n",
       "      <td>2.54337</td>\n",
       "    </tr>\n",
       "    <tr>\n",
       "      <th>CRF5</th>\n",
       "      <td>1.68923</td>\n",
       "    </tr>\n",
       "    <tr>\n",
       "      <th>jine</th>\n",
       "      <td>0.60324</td>\n",
       "    </tr>\n",
       "  </tbody>\n",
       "</table>\n",
       "</div>"
      ],
      "text/plain": [
       "                   2018\n",
       "CRF2            9.55352\n",
       "CRF1A3_CRF1D1A  8.00405\n",
       "CRF1A2          7.63327\n",
       "CRF1A1          7.43052\n",
       "CRF1A4          4.86371\n",
       "CRF3            2.54337\n",
       "CRF5            1.68923\n",
       "jine            0.60324"
      ]
     },
     "execution_count": 1171,
     "metadata": {},
     "output_type": "execute_result"
    }
   ],
   "source": [
    "df4 = df4.sort_values(by= [YEAR], ascending=False)\n",
    "df4"
   ]
  },
  {
   "cell_type": "markdown",
   "id": "d0cdf8de",
   "metadata": {},
   "source": [
    "### Vytvoř graf"
   ]
  },
  {
   "cell_type": "code",
   "execution_count": 1172,
   "id": "62b3c994",
   "metadata": {
    "scrolled": true
   },
   "outputs": [
    {
     "data": {
      "image/png": "[encoded data removed]",
      "text/plain": [
       "<Figure size 432x288 with 1 Axes>"
      ]
     },
     "metadata": {},
     "output_type": "display_data"
    }
   ],
   "source": [
    "_, ax = plt.subplots() \n",
    "plt.title('Emise skleníkových plynů pro Slovensko za rok 2018 v CO2 ekviv.')\n",
    "plt.pie(df4[YEAR], labels = label_dict.values(), counterclock=False, startangle=90, autopct='%1.1f%%')\n",
    "inner_circle_fill = plt.Circle((0, 0), 0.4, color='white') # nastavení vnitřního kruhu\n",
    "inner_circle_edge = plt.Circle((0, 0), 0.4, color='black', fill=False) # nastavení okraje vnitřního kruhu\n",
    "ax.add_artist(inner_circle_fill) # \"add_artist\" vidim prvně\n",
    "ax.add_artist(inner_circle_edge)\n",
    "plt.show()\n",
    "# zatím neumím hejbat s pozicí těch % v grafu. \n",
    "\n",
    "# proč ty popisky grafu správně berou \"CRF1A3_CRF1D1A\" i když ve slovníku je to klíčovaný jinak?\n",
    "# jak se do toho grafu dostal popisek \"jiné\" když hodnota pro TOTX4_MEMONIA v tom df není...?\n",
    "# tohle 'geo\\\\time' jde řešit nějak líp?\n",
    "# upravit název grafu tak aby to správně zobrazilo stát a rok \n",
    "\n",
    "# !!! přidej do pull requestu: Update requirements.txt - přidat eurostat\n"
   ]
  },
  {
   "cell_type": "markdown",
   "id": "8c7a5774",
   "metadata": {},
   "source": [
    "Změny:\n",
    "- přidán slovník s eu kody a popisky a zaintegrován do grafu\n",
    "- přidány proměné pro rok a stát a zaintegrovány do kodu\n",
    "- nové řádky s výpočty hodnot přidávány přes df.append()"
   ]
  },
  {
   "cell_type": "markdown",
   "id": "c2749874",
   "metadata": {},
   "source": [
    "## Další provozní kusy kodu"
   ]
  },
  {
   "cell_type": "code",
   "execution_count": 1173,
   "id": "414b810c",
   "metadata": {},
   "outputs": [
    {
     "data": {
      "text/plain": [
       "42.32090999999999"
      ]
     },
     "execution_count": 1173,
     "metadata": {},
     "output_type": "execute_result"
    }
   ],
   "source": [
    "total = df4[YEAR].sum() # sečti sloupec\n",
    "total"
   ]
  },
  {
   "cell_type": "code",
   "execution_count": 1174,
   "id": "b637076d",
   "metadata": {},
   "outputs": [
    {
     "name": "stdout",
     "output_type": "stream",
     "text": [
      "float64\n"
     ]
    }
   ],
   "source": [
    "print (df4[YEAR].dtypes) # zjisti datový typ sloupce"
   ]
  },
  {
   "cell_type": "code",
   "execution_count": 1175,
   "id": "efeae094",
   "metadata": {},
   "outputs": [
    {
     "data": {
      "text/plain": [
       "['src_crf', 2018]"
      ]
     },
     "execution_count": 1175,
     "metadata": {},
     "output_type": "execute_result"
    }
   ],
   "source": [
    "list(df3.columns) # vyjeď názvy sloupců"
   ]
  },
  {
   "cell_type": "code",
   "execution_count": 1176,
   "id": "c958b4f0",
   "metadata": {
    "scrolled": false
   },
   "outputs": [
    {
     "data": {
      "text/plain": [
       "array(['CH4', 'CH4_CO2E', 'CO2', 'GHG', 'HFC_CO2E', 'HFC_PFC_NSP_CO2E',\n",
       "       'N2O', 'N2O_CO2E', 'NF3_CO2E', 'PFC_CO2E', 'SF6_CO2E'],\n",
       "      dtype=object)"
      ]
     },
     "execution_count": 1176,
     "metadata": {},
     "output_type": "execute_result"
    }
   ],
   "source": [
    "df.airpol.unique() # ukáže mi co unikátního tam všechno mám "
   ]
  },
  {
   "cell_type": "markdown",
   "id": "72c0c07d",
   "metadata": {},
   "source": [
    "## Další tabulka"
   ]
  },
  {
   "cell_type": "code",
   "execution_count": 1177,
   "id": "4663f5eb",
   "metadata": {},
   "outputs": [],
   "source": [
    "df_demo = eurostat.get_data_df('demo_pjan')"
   ]
  },
  {
   "cell_type": "code",
   "execution_count": 1178,
   "id": "924f5afb",
   "metadata": {},
   "outputs": [
    {
     "data": {
      "text/html": [
       "<div>\n",
       "<style scoped>\n",
       "    .dataframe tbody tr th:only-of-type {\n",
       "        vertical-align: middle;\n",
       "    }\n",
       "\n",
       "    .dataframe tbody tr th {\n",
       "        vertical-align: top;\n",
       "    }\n",
       "\n",
       "    .dataframe thead th {\n",
       "        text-align: right;\n",
       "    }\n",
       "</style>\n",
       "<table border=\"1\" class=\"dataframe\">\n",
       "  <thead>\n",
       "    <tr style=\"text-align: right;\">\n",
       "      <th></th>\n",
       "      <th>unit</th>\n",
       "      <th>age</th>\n",
       "      <th>sex</th>\n",
       "      <th>geo\\time</th>\n",
       "      <th>2021</th>\n",
       "      <th>2020</th>\n",
       "      <th>2019</th>\n",
       "      <th>2018</th>\n",
       "      <th>2017</th>\n",
       "      <th>2016</th>\n",
       "      <th>...</th>\n",
       "      <th>1969</th>\n",
       "      <th>1968</th>\n",
       "      <th>1967</th>\n",
       "      <th>1966</th>\n",
       "      <th>1965</th>\n",
       "      <th>1964</th>\n",
       "      <th>1963</th>\n",
       "      <th>1962</th>\n",
       "      <th>1961</th>\n",
       "      <th>1960</th>\n",
       "    </tr>\n",
       "  </thead>\n",
       "  <tbody>\n",
       "    <tr>\n",
       "      <th>0</th>\n",
       "      <td>NR</td>\n",
       "      <td>TOTAL</td>\n",
       "      <td>F</td>\n",
       "      <td>AD</td>\n",
       "      <td>NaN</td>\n",
       "      <td>NaN</td>\n",
       "      <td>37388.0</td>\n",
       "      <td>NaN</td>\n",
       "      <td>NaN</td>\n",
       "      <td>NaN</td>\n",
       "      <td>...</td>\n",
       "      <td>NaN</td>\n",
       "      <td>NaN</td>\n",
       "      <td>NaN</td>\n",
       "      <td>NaN</td>\n",
       "      <td>NaN</td>\n",
       "      <td>NaN</td>\n",
       "      <td>NaN</td>\n",
       "      <td>NaN</td>\n",
       "      <td>NaN</td>\n",
       "      <td>NaN</td>\n",
       "    </tr>\n",
       "    <tr>\n",
       "      <th>1</th>\n",
       "      <td>NR</td>\n",
       "      <td>TOTAL</td>\n",
       "      <td>F</td>\n",
       "      <td>AL</td>\n",
       "      <td>1419759.0</td>\n",
       "      <td>1425342.0</td>\n",
       "      <td>1432833.0</td>\n",
       "      <td>1431715.0</td>\n",
       "      <td>1423050.0</td>\n",
       "      <td>1417141.0</td>\n",
       "      <td>...</td>\n",
       "      <td>NaN</td>\n",
       "      <td>NaN</td>\n",
       "      <td>NaN</td>\n",
       "      <td>NaN</td>\n",
       "      <td>NaN</td>\n",
       "      <td>NaN</td>\n",
       "      <td>NaN</td>\n",
       "      <td>NaN</td>\n",
       "      <td>NaN</td>\n",
       "      <td>NaN</td>\n",
       "    </tr>\n",
       "    <tr>\n",
       "      <th>2</th>\n",
       "      <td>NR</td>\n",
       "      <td>TOTAL</td>\n",
       "      <td>F</td>\n",
       "      <td>AM</td>\n",
       "      <td>1565144.0</td>\n",
       "      <td>1562689.0</td>\n",
       "      <td>1563538.0</td>\n",
       "      <td>1564533.0</td>\n",
       "      <td>1567380.0</td>\n",
       "      <td>1569535.0</td>\n",
       "      <td>...</td>\n",
       "      <td>NaN</td>\n",
       "      <td>NaN</td>\n",
       "      <td>NaN</td>\n",
       "      <td>NaN</td>\n",
       "      <td>NaN</td>\n",
       "      <td>NaN</td>\n",
       "      <td>NaN</td>\n",
       "      <td>NaN</td>\n",
       "      <td>NaN</td>\n",
       "      <td>NaN</td>\n",
       "    </tr>\n",
       "    <tr>\n",
       "      <th>3</th>\n",
       "      <td>NR</td>\n",
       "      <td>TOTAL</td>\n",
       "      <td>F</td>\n",
       "      <td>AT</td>\n",
       "      <td>4535712.0</td>\n",
       "      <td>4522292.0</td>\n",
       "      <td>4501742.0</td>\n",
       "      <td>4483749.0</td>\n",
       "      <td>4460424.0</td>\n",
       "      <td>4427918.0</td>\n",
       "      <td>...</td>\n",
       "      <td>3932691.0</td>\n",
       "      <td>3922359.0</td>\n",
       "      <td>3899799.0</td>\n",
       "      <td>3876559.0</td>\n",
       "      <td>3857760.0</td>\n",
       "      <td>3836415.0</td>\n",
       "      <td>3814191.0</td>\n",
       "      <td>3794130.0</td>\n",
       "      <td>3773097.0</td>\n",
       "      <td>3757167.0</td>\n",
       "    </tr>\n",
       "    <tr>\n",
       "      <th>4</th>\n",
       "      <td>NR</td>\n",
       "      <td>TOTAL</td>\n",
       "      <td>F</td>\n",
       "      <td>AZ</td>\n",
       "      <td>5065288.0</td>\n",
       "      <td>5039100.0</td>\n",
       "      <td>4999053.0</td>\n",
       "      <td>4960058.0</td>\n",
       "      <td>4918771.0</td>\n",
       "      <td>4870002.0</td>\n",
       "      <td>...</td>\n",
       "      <td>NaN</td>\n",
       "      <td>NaN</td>\n",
       "      <td>NaN</td>\n",
       "      <td>NaN</td>\n",
       "      <td>NaN</td>\n",
       "      <td>NaN</td>\n",
       "      <td>NaN</td>\n",
       "      <td>NaN</td>\n",
       "      <td>NaN</td>\n",
       "      <td>NaN</td>\n",
       "    </tr>\n",
       "  </tbody>\n",
       "</table>\n",
       "<p>5 rows × 66 columns</p>\n",
       "</div>"
      ],
      "text/plain": [
       "  unit    age sex geo\\time       2021       2020       2019       2018  \\\n",
       "0   NR  TOTAL   F       AD        NaN        NaN    37388.0        NaN   \n",
       "1   NR  TOTAL   F       AL  1419759.0  1425342.0  1432833.0  1431715.0   \n",
       "2   NR  TOTAL   F       AM  1565144.0  1562689.0  1563538.0  1564533.0   \n",
       "3   NR  TOTAL   F       AT  4535712.0  4522292.0  4501742.0  4483749.0   \n",
       "4   NR  TOTAL   F       AZ  5065288.0  5039100.0  4999053.0  4960058.0   \n",
       "\n",
       "        2017       2016  ...       1969       1968       1967       1966  \\\n",
       "0        NaN        NaN  ...        NaN        NaN        NaN        NaN   \n",
       "1  1423050.0  1417141.0  ...        NaN        NaN        NaN        NaN   \n",
       "2  1567380.0  1569535.0  ...        NaN        NaN        NaN        NaN   \n",
       "3  4460424.0  4427918.0  ...  3932691.0  3922359.0  3899799.0  3876559.0   \n",
       "4  4918771.0  4870002.0  ...        NaN        NaN        NaN        NaN   \n",
       "\n",
       "        1965       1964       1963       1962       1961       1960  \n",
       "0        NaN        NaN        NaN        NaN        NaN        NaN  \n",
       "1        NaN        NaN        NaN        NaN        NaN        NaN  \n",
       "2        NaN        NaN        NaN        NaN        NaN        NaN  \n",
       "3  3857760.0  3836415.0  3814191.0  3794130.0  3773097.0  3757167.0  \n",
       "4        NaN        NaN        NaN        NaN        NaN        NaN  \n",
       "\n",
       "[5 rows x 66 columns]"
      ]
     },
     "execution_count": 1178,
     "metadata": {},
     "output_type": "execute_result"
    }
   ],
   "source": [
    "df_demo.head()"
   ]
  }
 ],
 "metadata": {
  "kernelspec": {
   "display_name": "Python 3 (ipykernel)",
   "language": "python",
   "name": "python3"
  },
  "language_info": {
   "codemirror_mode": {
    "name": "ipython",
    "version": 3
   },
   "file_extension": ".py",
   "mimetype": "text/x-python",
   "name": "python",
   "nbconvert_exporter": "python",
   "pygments_lexer": "ipython3",
   "version": "3.9.7"
  }
 },
 "nbformat": 4,
 "nbformat_minor": 5
}
