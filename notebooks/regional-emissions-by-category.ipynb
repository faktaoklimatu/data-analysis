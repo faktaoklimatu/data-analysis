{
 "cells": [
  {
   "cell_type": "markdown",
   "id": "46a392b1",
   "metadata": {},
   "source": [
    "Změny oproti minulé verzi:\n",
    "- \n",
    "    - základní data ve struktuře seznamu s vnořenými slovníky a vnořenými seznamy\n",
    "    - funkce "
   ]
  },
  {
   "cell_type": "code",
   "execution_count": 160,
   "id": "cb59fcbe",
   "metadata": {},
   "outputs": [],
   "source": [
    "import numpy as np\n",
    "import pandas as pd\n",
    "import matplotlib as mpl\n",
    "import matplotlib.pyplot as plt\n",
    "import eurostat"
   ]
  },
  {
   "cell_type": "code",
   "execution_count": 161,
   "id": "4d69e2e0",
   "metadata": {},
   "outputs": [],
   "source": [
    "# celá struktura pro Slovensko (mínus ty elektrárny)\n",
    "definition = [\n",
    "    {'code':'CRF2', # vnitřní graf, políčko 1                 PRŮMYSLOVÉ PROCESY\n",
    "     'label':'Průmyslové procesy (výroba cementu, oceli...)',\n",
    "     'sum':['CRF2'],                                     \n",
    "     'color': '#ddddd',\n",
    "     'breakdown': [\n",
    "         {'code':'CRF2C', # vnější graf políčko 1.1\n",
    "          'label':'Zpracování oceli a kovů',\n",
    "          'sum':['CRF2C']}, \n",
    "         {'code':'CRF2A', # vnější graf políčko 1.2\n",
    "          'label':'Minerální produkce (cement, vápno...)',\n",
    "          'sum':['CRF2A']},\n",
    "         {'code':'CRF2B', # vnější graf políčko 1.3\n",
    "          'label':'Chemický průmysl',\n",
    "          'sum':['CRF2B']}, \n",
    "         {'code':'CRF2_dif', # vnější graf políčko 1.3 - rozdíl\n",
    "          'label':'Další průmyslové procesy',\n",
    "          'reminder':True}]},\n",
    "    {'code':'CRF1A3_CRF1D1A', # vnitřní graf, políčko 2         DOPRAVA\n",
    "     'label':'Doprava (včetně letecké)',                     \n",
    "     'sum':['CRF1A3', 'CRF1D1A'],\n",
    "     'color': '#ddddd',\n",
    "     'breakdown': [\n",
    "        {'code':'CRF1A3B1', # vnější graf políčko 2.1\n",
    "         'label':'Osobní automobilová doprava',\n",
    "         'sum':['CRF1A3B1']},\n",
    "         {'code':'CRF1A3B2_CRF1A3B3', # vnější graf políčko 2.2\n",
    "          'label':'Nákladní a autobusová doprava',\n",
    "          'sum':['CRF1A3B2', 'CRF1A3B3']},\n",
    "         {'code':'CRF1D1A_CRF1A3A', # vnější graf políčko 2.3\n",
    "          'label':'Letecká doprava',\n",
    "          'sum':['CRF1D1A','CRF1A3A']},\n",
    "         {'code':'CRF1A3_dif', # vnější graf políčko 2.4 - rozdíl\n",
    "          'label':'Jiná doprava',\n",
    "          'reminder':True}]},\n",
    "    {'code':'CRF1A2', # vnitřní graf, políčko 3                 SPALOVÁNÍ V PRŮMYSLU\n",
    "     'label':'Spalování v průmyslu',                     \n",
    "     'sum':['CRF1A2'],\n",
    "     'color': '#ddddd',\n",
    "     'breakdown': [  \n",
    "        {'code':'CRF1A2A_CRF1A2B', # vnější graf políčko 3.1\n",
    "         'label':'Spalování při zpracování oceli a kovů',\n",
    "         'sum':['CRF1A2A','CRF1A2B']},   \n",
    "        {'code':'CRF1A2_dil', # vnější graf políčko 3.2 - rozdíl\n",
    "         'label':'Další spalování v průmyslu',\n",
    "         'reminder':True}]},       \n",
    "    {'code':'CRF1A1', # vnitřní graf, políčko 4                 ENERGETIKA\n",
    "     'label':'Energetika',                     \n",
    "     'sum':['CRF1A1'],\n",
    "     'color': '#ddddd',\n",
    "     'breakdown': [\n",
    "        {'code':'CRF1A1C_CRF1A1B', # vnější graf políčko 4.1\n",
    "         'label':'Rafinace, výroba a úprava paliv',\n",
    "         'sum':['CRF1A1C','CRF1A1B']},   \n",
    "        {'code':'CRF1A2_dif_X', # vnější graf políčko 4.2 - rozdíl\n",
    "         'label':'Teplárny a elektrárny',\n",
    "         'reminder':True}]},\n",
    "    {'code':'CRF1A4', # vnitřní graf, políčko 5                 SPALOVÁNÍ V DOM, INST A ZEMĚĎ\n",
    "     'label':'Spalování v domácnostech, institucích a zemědělství',\n",
    "     'sum':['CRF1A4'],                                     \n",
    "     'color': '#ddddd'}, \n",
    "    {'code':'CRF3', # vnitřní graf, políčko 6                   ZEMĚDĚLSTVÍ\n",
    "     'label':'Zemědělství',\n",
    "     'sum':['CRF3'],                                     \n",
    "     'color': '#ddddd'}, \n",
    "    {'code':'CRF5', # vnitřní graf, políčko 7                   ODPADOVÉ HOSPODÁŘSTVÍ\n",
    "     'label':'Odpadové hospodářství',\n",
    "     'sum':['CRF5'],                                     \n",
    "     'color': '#ddddd'}, \n",
    "   {'code':'TOTAL_DIF', # vnitřní graf, políčko 8                   JINÉ   \n",
    "    'label':'Jiné',                                    \n",
    "    'color': '#ddddd', \n",
    "    'reminder':True}\n",
    "]\n",
    "                "
   ]
  },
  {
   "cell_type": "markdown",
   "id": "922d18fe",
   "metadata": {},
   "source": [
    "Zadej stát a rok"
   ]
  },
  {
   "cell_type": "code",
   "execution_count": 162,
   "id": "bd371c42",
   "metadata": {},
   "outputs": [],
   "source": [
    "YEAR = 2018 \n",
    "STATE = 'SK'  "
   ]
  },
  {
   "cell_type": "markdown",
   "id": "51e03bcc",
   "metadata": {},
   "source": [
    "Dataframe z eurostatu"
   ]
  },
  {
   "cell_type": "code",
   "execution_count": 163,
   "id": "fc9efd1c",
   "metadata": {},
   "outputs": [],
   "source": [
    "df = eurostat.get_data_df('env_air_gge')"
   ]
  },
  {
   "cell_type": "code",
   "execution_count": 164,
   "id": "7e54a79a",
   "metadata": {},
   "outputs": [],
   "source": [
    "# Pandas query() does not allow backslash in column names so \"rename column\" is needed. \n",
    "df = df.rename(columns={'geo\\\\time': 'geo'}) "
   ]
  },
  {
   "cell_type": "code",
   "execution_count": 165,
   "id": "e2b280b6",
   "metadata": {},
   "outputs": [],
   "source": [
    "df2 = df.query(\"airpol == 'GHG' and geo == @STATE and unit == 'MIO_T'\") "
   ]
  },
  {
   "cell_type": "code",
   "execution_count": 166,
   "id": "5dab6a57",
   "metadata": {
    "scrolled": false
   },
   "outputs": [],
   "source": [
    "df2 = df2[[\"src_crf\", YEAR]] # jen kod odvětví a rok\n",
    "df2 = df2.set_index('src_crf') # src_crf jako index"
   ]
  },
  {
   "cell_type": "markdown",
   "id": "9bd2affa",
   "metadata": {},
   "source": [
    "Funkce"
   ]
  },
  {
   "cell_type": "code",
   "execution_count": 167,
   "id": "4dc46e56",
   "metadata": {},
   "outputs": [],
   "source": [
    "def get_value(key,df): # získej hodnotu. Zadej klíč a df\n",
    "    return df.loc[key,YEAR]\n",
    "\n",
    "def get_sum(keys,df):\n",
    "    sum = 0\n",
    "    for key in keys:\n",
    "        sum+= get_value(key,df)\n",
    "    return sum"
   ]
  },
  {
   "cell_type": "code",
   "execution_count": 168,
   "id": "2ab620bd",
   "metadata": {},
   "outputs": [],
   "source": [
    "def add_sum(sub_definition,df):\n",
    "    code = sub_definition['code']\n",
    "    sum = get_sum(sub_definition['sum'],df)\n",
    "    df.loc[code, YEAR] = sum"
   ]
  },
  {
   "cell_type": "code",
   "execution_count": 169,
   "id": "cfcea7a8",
   "metadata": {
    "scrolled": true
   },
   "outputs": [
    {
     "data": {
      "text/html": [
       "<div>\n",
       "<style scoped>\n",
       "    .dataframe tbody tr th:only-of-type {\n",
       "        vertical-align: middle;\n",
       "    }\n",
       "\n",
       "    .dataframe tbody tr th {\n",
       "        vertical-align: top;\n",
       "    }\n",
       "\n",
       "    .dataframe thead th {\n",
       "        text-align: right;\n",
       "    }\n",
       "</style>\n",
       "<table border=\"1\" class=\"dataframe\">\n",
       "  <thead>\n",
       "    <tr style=\"text-align: right;\">\n",
       "      <th></th>\n",
       "      <th>2018</th>\n",
       "    </tr>\n",
       "    <tr>\n",
       "      <th>src_crf</th>\n",
       "      <th></th>\n",
       "    </tr>\n",
       "  </thead>\n",
       "  <tbody>\n",
       "    <tr>\n",
       "      <th>CRF1</th>\n",
       "      <td>28.29565</td>\n",
       "    </tr>\n",
       "    <tr>\n",
       "      <th>CRF1A</th>\n",
       "      <td>27.83462</td>\n",
       "    </tr>\n",
       "    <tr>\n",
       "      <th>CRF1A1</th>\n",
       "      <td>7.43052</td>\n",
       "    </tr>\n",
       "    <tr>\n",
       "      <th>CRF1A1A</th>\n",
       "      <td>4.76011</td>\n",
       "    </tr>\n",
       "    <tr>\n",
       "      <th>CRF1A1B</th>\n",
       "      <td>1.48830</td>\n",
       "    </tr>\n",
       "    <tr>\n",
       "      <th>...</th>\n",
       "      <td>...</td>\n",
       "    </tr>\n",
       "    <tr>\n",
       "      <th>CRF1A3_CRF1D1A</th>\n",
       "      <td>8.00405</td>\n",
       "    </tr>\n",
       "    <tr>\n",
       "      <th>CRF1A3B2_CRF1A3B3</th>\n",
       "      <td>3.00624</td>\n",
       "    </tr>\n",
       "    <tr>\n",
       "      <th>CRF1D1A_CRF1A3A</th>\n",
       "      <td>0.18891</td>\n",
       "    </tr>\n",
       "    <tr>\n",
       "      <th>CRF1A2A_CRF1A2B</th>\n",
       "      <td>3.53004</td>\n",
       "    </tr>\n",
       "    <tr>\n",
       "      <th>CRF1A1C_CRF1A1B</th>\n",
       "      <td>2.67042</td>\n",
       "    </tr>\n",
       "  </tbody>\n",
       "</table>\n",
       "<p>177 rows × 1 columns</p>\n",
       "</div>"
      ],
      "text/plain": [
       "                       2018\n",
       "src_crf                    \n",
       "CRF1               28.29565\n",
       "CRF1A              27.83462\n",
       "CRF1A1              7.43052\n",
       "CRF1A1A             4.76011\n",
       "CRF1A1B             1.48830\n",
       "...                     ...\n",
       "CRF1A3_CRF1D1A      8.00405\n",
       "CRF1A3B2_CRF1A3B3   3.00624\n",
       "CRF1D1A_CRF1A3A     0.18891\n",
       "CRF1A2A_CRF1A2B     3.53004\n",
       "CRF1A1C_CRF1A1B     2.67042\n",
       "\n",
       "[177 rows x 1 columns]"
      ]
     },
     "execution_count": 169,
     "metadata": {},
     "output_type": "execute_result"
    }
   ],
   "source": [
    "def count_sum(definition,df): \n",
    "    for wedge_def in definition:\n",
    "        if 'sum' in wedge_def:\n",
    "            add_sum(wedge_def,df)       \n",
    "        if 'breakdown' not in wedge_def:\n",
    "            continue\n",
    "        breakdown_def = wedge_def['breakdown']\n",
    "        for outer_wedge_def in breakdown_def:\n",
    "            if 'sum'in outer_wedge_def:\n",
    "                add_sum(outer_wedge_def,df)\n",
    "    return df\n",
    "count_sum(definition,df2)"
   ]
  },
  {
   "cell_type": "code",
   "execution_count": 170,
   "id": "a9a1c87e",
   "metadata": {},
   "outputs": [],
   "source": [
    "# přidej hodnotu pro poslední políčko vnitřního grafu: poslední rozdíl oproti celku\n",
    "def add_final_reminder (definition,df): \n",
    "    codes = [inner_wedge_def['code'] for inner_wedge_def in definition[:-1]] # [:-1] říká \"hodnotu na posledním indexu vynechej\"\n",
    "    parcial_total = get_sum(codes, df2)\n",
    "    total = df.loc['TOTX4_MEMONIA',YEAR] # napevno 'TOTX4_MEMONIA'\n",
    "    reminder = total - parcial_total\n",
    "    code = definition[-1]['code']\n",
    "    df.loc[code,YEAR] = reminder"
   ]
  },
  {
   "cell_type": "code",
   "execution_count": 171,
   "id": "97c5dd1d",
   "metadata": {},
   "outputs": [],
   "source": [
    "add_final_reminder(definition,df2)"
   ]
  },
  {
   "cell_type": "code",
   "execution_count": 172,
   "id": "6782265a",
   "metadata": {},
   "outputs": [],
   "source": [
    "def count_diff(definition,df): \n",
    "    for wedge_def in definition:\n",
    "        if 'breakdown' not in wedge_def:\n",
    "            continue\n",
    "        breakdown_def = wedge_def['breakdown']\n",
    "        outer_wedges_codes = []\n",
    "        for outer_wedge_def in breakdown_def:\n",
    "            if 'sum'in outer_wedge_def:\n",
    "                code =  outer_wedge_def['code'] \n",
    "                outer_wedges_codes.append(code)\n",
    "            elif 'reminder' in outer_wedge_def:\n",
    "                sum = get_sum(outer_wedges_codes,df)\n",
    "                code = wedge_def['code']\n",
    "                dif = get_value(code,df) - sum\n",
    "                df.loc[outer_wedge_def['code'], YEAR] = dif # přidá nový řádek ke stávajímu df\n",
    "    return df"
   ]
  },
  {
   "cell_type": "code",
   "execution_count": 173,
   "id": "1838bf7a",
   "metadata": {
    "scrolled": true
   },
   "outputs": [
    {
     "data": {
      "text/html": [
       "<div>\n",
       "<style scoped>\n",
       "    .dataframe tbody tr th:only-of-type {\n",
       "        vertical-align: middle;\n",
       "    }\n",
       "\n",
       "    .dataframe tbody tr th {\n",
       "        vertical-align: top;\n",
       "    }\n",
       "\n",
       "    .dataframe thead th {\n",
       "        text-align: right;\n",
       "    }\n",
       "</style>\n",
       "<table border=\"1\" class=\"dataframe\">\n",
       "  <thead>\n",
       "    <tr style=\"text-align: right;\">\n",
       "      <th></th>\n",
       "      <th>2018</th>\n",
       "    </tr>\n",
       "    <tr>\n",
       "      <th>src_crf</th>\n",
       "      <th></th>\n",
       "    </tr>\n",
       "  </thead>\n",
       "  <tbody>\n",
       "    <tr>\n",
       "      <th>CRF1</th>\n",
       "      <td>28.29565</td>\n",
       "    </tr>\n",
       "    <tr>\n",
       "      <th>CRF1A</th>\n",
       "      <td>27.83462</td>\n",
       "    </tr>\n",
       "    <tr>\n",
       "      <th>CRF1A1</th>\n",
       "      <td>7.43052</td>\n",
       "    </tr>\n",
       "    <tr>\n",
       "      <th>CRF1A1A</th>\n",
       "      <td>4.76011</td>\n",
       "    </tr>\n",
       "    <tr>\n",
       "      <th>CRF1A1B</th>\n",
       "      <td>1.48830</td>\n",
       "    </tr>\n",
       "    <tr>\n",
       "      <th>...</th>\n",
       "      <td>...</td>\n",
       "    </tr>\n",
       "    <tr>\n",
       "      <th>TOTAL_DIF</th>\n",
       "      <td>0.60324</td>\n",
       "    </tr>\n",
       "    <tr>\n",
       "      <th>CRF2_dif</th>\n",
       "      <td>0.82198</td>\n",
       "    </tr>\n",
       "    <tr>\n",
       "      <th>CRF1A3_dif</th>\n",
       "      <td>0.41038</td>\n",
       "    </tr>\n",
       "    <tr>\n",
       "      <th>CRF1A2_dil</th>\n",
       "      <td>4.10323</td>\n",
       "    </tr>\n",
       "    <tr>\n",
       "      <th>CRF1A2_dif_X</th>\n",
       "      <td>4.76010</td>\n",
       "    </tr>\n",
       "  </tbody>\n",
       "</table>\n",
       "<p>182 rows × 1 columns</p>\n",
       "</div>"
      ],
      "text/plain": [
       "                  2018\n",
       "src_crf               \n",
       "CRF1          28.29565\n",
       "CRF1A         27.83462\n",
       "CRF1A1         7.43052\n",
       "CRF1A1A        4.76011\n",
       "CRF1A1B        1.48830\n",
       "...                ...\n",
       "TOTAL_DIF      0.60324\n",
       "CRF2_dif       0.82198\n",
       "CRF1A3_dif     0.41038\n",
       "CRF1A2_dil     4.10323\n",
       "CRF1A2_dif_X   4.76010\n",
       "\n",
       "[182 rows x 1 columns]"
      ]
     },
     "execution_count": 173,
     "metadata": {},
     "output_type": "execute_result"
    }
   ],
   "source": [
    "count_diff(definition,df2)"
   ]
  },
  {
   "cell_type": "markdown",
   "id": "95856070",
   "metadata": {},
   "source": [
    "Popisky pro vnější a vnitřní graf"
   ]
  },
  {
   "cell_type": "code",
   "execution_count": 174,
   "id": "610ab854",
   "metadata": {},
   "outputs": [],
   "source": [
    "inner_labels = []\n",
    "outer_labels = []\n",
    "\n",
    "for area in definition:\n",
    "    inner_labels.append(area['code']) \n",
    "    if 'breakdown' not in area:\n",
    "        continue\n",
    "    for subarea in area['breakdown']:\n",
    "        outer_labels.append(subarea['code'])"
   ]
  },
  {
   "cell_type": "markdown",
   "id": "3c720e33",
   "metadata": {},
   "source": [
    "Relativní dataframe pro vnější graf"
   ]
  },
  {
   "cell_type": "code",
   "execution_count": 175,
   "id": "238b44af",
   "metadata": {
    "scrolled": true
   },
   "outputs": [],
   "source": [
    "total = get_sum(inner_labels, df2)\n",
    "df_rel = df2.loc[outer_labels]/total # relativní dataframe vnějšího grafu se součtem pod 1. Abych dostal necelý vnější koláč"
   ]
  },
  {
   "cell_type": "markdown",
   "id": "9a5457d8",
   "metadata": {},
   "source": [
    "Graf"
   ]
  },
  {
   "cell_type": "code",
   "execution_count": 176,
   "id": "15649a65",
   "metadata": {
    "scrolled": true
   },
   "outputs": [
    {
     "data": {
      "image/png": "[encoded data removed]",
      "text/plain": [
       "<Figure size 432x288 with 1 Axes>"
      ]
     },
     "metadata": {},
     "output_type": "display_data"
    }
   ],
   "source": [
    "fig, ax = plt.subplots()\n",
    "size = 0.3\n",
    "\n",
    "# vnitřní\n",
    "ax.pie(df2.loc[inner_labels][YEAR], radius=1-size, counterclock=False, startangle=90, \n",
    "       wedgeprops=dict(width=size, edgecolor='w'))\n",
    "\n",
    "# vnější\n",
    "ax.pie(df_rel[YEAR], # tohle mi to řadí a 'YEAR' bere hodnoty ze sloupce YEAR\n",
    "       radius=1, labels = outer_labels, counterclock=False, startangle=90, normalize = False,\n",
    "       autopct='%1.1f%%', pctdistance=0.8, labeldistance=1.2, wedgeprops=dict(width=size, edgecolor='w'))\n",
    "\n",
    "ax.set(aspect=\"equal\", title = f'Emise skleníkových plynů pro {STATE} za rok {YEAR} v CO2 ekviv.')\n",
    "\n",
    "plt.show()"
   ]
  }
 ],
 "metadata": {
  "kernelspec": {
   "display_name": "Python 3 (ipykernel)",
   "language": "python",
   "name": "python3"
  },
  "language_info": {
   "codemirror_mode": {
    "name": "ipython",
    "version": 3
   },
   "file_extension": ".py",
   "mimetype": "text/x-python",
   "name": "python",
   "nbconvert_exporter": "python",
   "pygments_lexer": "ipython3",
   "version": "3.9.7"
  }
 },
 "nbformat": 4,
 "nbformat_minor": 5
}
