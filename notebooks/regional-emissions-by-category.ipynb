{
 "cells": [
  {
   "cell_type": "markdown",
   "id": "5a67cdf3",
   "metadata": {},
   "source": [
    "DODĚLAT:\n",
    "\n",
    "Zhezčit Graf:\n",
    "- procenta do vnitřního koláče\n",
    "- zkusit u vnějšího koláče dát do labelů text i procenta\n",
    "\n",
    "Vybírat z definition podle států\n"
   ]
  },
  {
   "cell_type": "code",
   "execution_count": 153,
   "id": "cb59fcbe",
   "metadata": {},
   "outputs": [],
   "source": [
    "import numpy as np\n",
    "import pandas as pd\n",
    "import matplotlib as mpl\n",
    "import matplotlib.pyplot as plt\n",
    "import eurostat"
   ]
  },
  {
   "cell_type": "code",
   "execution_count": 154,
   "id": "4d69e2e0",
   "metadata": {},
   "outputs": [],
   "source": [
    "# celá struktura pro Slovensko (mínus ty elektrárny)\n",
    "definition = [\n",
    "    {'code':'CRF2', # vnitřní graf, políčko 1                 PRŮMYSLOVÉ PROCESY\n",
    "     'label':'Průmyslové procesy (výroba cementu, oceli...)',\n",
    "     'sum':['CRF2'],                                     \n",
    "     'color': '#ddddd',\n",
    "     'breakdown': [\n",
    "         {'code':'CRF2C', # vnější graf políčko 1.1\n",
    "          'label':'Zpracování oceli a kovů',\n",
    "          'sum':['CRF2C']}, \n",
    "         {'code':'CRF2A', # vnější graf políčko 1.2\n",
    "          'label':'Minerální produkce (cement, vápno...)',\n",
    "          'sum':['CRF2A']},\n",
    "         {'code':'CRF2B', # vnější graf políčko 1.3\n",
    "          'label':'Chemický průmysl',\n",
    "          'sum':['CRF2B']}, \n",
    "         {'code':'CRF2_dif', # vnější graf políčko 1.3 - rozdíl\n",
    "          'label':'Další průmyslové procesy',\n",
    "          'reminder':True}]},\n",
    "    {'code':'CRF1A3_CRF1D1A', # vnitřní graf, políčko 2         DOPRAVA\n",
    "     'label':'Doprava (včetně letecké)',                     \n",
    "     'sum':['CRF1A3', 'CRF1D1A'],\n",
    "     'color': '#ddddd',\n",
    "     'breakdown': [\n",
    "        {'code':'CRF1A3B1', # vnější graf políčko 2.1\n",
    "         'label':'Osobní automobilová doprava',\n",
    "         'sum':['CRF1A3B1']},\n",
    "         {'code':'CRF1A3B2_CRF1A3B3', # vnější graf políčko 2.2\n",
    "          'label':'Nákladní a autobusová doprava',\n",
    "          'sum':['CRF1A3B2', 'CRF1A3B3']},\n",
    "         {'code':'CRF1D1A_CRF1A3A', # vnější graf políčko 2.3\n",
    "          'label':'Letecká doprava',\n",
    "          'sum':['CRF1D1A','CRF1A3A']},\n",
    "         {'code':'CRF1A3_dif', # vnější graf políčko 2.4 - rozdíl\n",
    "          'label':'Jiná doprava',\n",
    "          'reminder':True}]},\n",
    "    {'code':'CRF1A2', # vnitřní graf, políčko 3                 SPALOVÁNÍ V PRŮMYSLU\n",
    "     'label':'Spalování v průmyslu',                     \n",
    "     'sum':['CRF1A2'],\n",
    "     'color': '#ddddd',\n",
    "     'breakdown': [  \n",
    "        {'code':'CRF1A2A_CRF1A2B', # vnější graf políčko 3.1\n",
    "         'label':'Spalování při zpracování oceli a kovů',\n",
    "         'sum':['CRF1A2A','CRF1A2B']},   \n",
    "        {'code':'CRF1A2_dil', # vnější graf políčko 3.2 - rozdíl\n",
    "         'label':'Další spalování v průmyslu',\n",
    "         'reminder':True}]},       \n",
    "    {'code':'CRF1A1', # vnitřní graf, políčko 4                 ENERGETIKA\n",
    "     'label':'Energetika',                     \n",
    "     'sum':['CRF1A1'],\n",
    "     'color': '#ddddd',\n",
    "     'breakdown': [\n",
    "        {'code':'CRF1A1C_CRF1A1B', # vnější graf políčko 4.1\n",
    "         'label':'Rafinace, výroba a úprava paliv',\n",
    "         'sum':['CRF1A1C','CRF1A1B']},   \n",
    "        {'code':'CRF1A2_dif_X', # vnější graf políčko 4.2 - rozdíl\n",
    "         'label':'Teplárny a elektrárny',\n",
    "         'reminder':True}]},\n",
    "    {'code':'CRF1A4', # vnitřní graf, políčko 5                 SPALOVÁNÍ V DOM, INST A ZEMĚĎ\n",
    "     'label':'Spalování v domácnostech, institucích a zemědělství',\n",
    "     'sum':['CRF1A4'],                                     \n",
    "     'color': '#ddddd'}, \n",
    "    {'code':'CRF3', # vnitřní graf, políčko 6                   ZEMĚDĚLSTVÍ\n",
    "     'label':'Zemědělství',\n",
    "     'sum':['CRF3'],                                     \n",
    "     'color': '#ddddd'}, \n",
    "    {'code':'CRF5', # vnitřní graf, políčko 7                   ODPADOVÉ HOSPODÁŘSTVÍ\n",
    "     'label':'Odpadové hospodářství',\n",
    "     'sum':['CRF5'],                                     \n",
    "     'color': '#ddddd'}, \n",
    "   {'code':'TOTAL_DIF', # vnitřní graf, políčko 8                   JINÉ   \n",
    "    'label':'Jiné',                                    \n",
    "    'color': '#ddddd', \n",
    "    'reminder':True}\n",
    "]\n",
    "                "
   ]
  },
  {
   "cell_type": "markdown",
   "id": "922d18fe",
   "metadata": {},
   "source": [
    "Zadej stát a rok"
   ]
  },
  {
   "cell_type": "code",
   "execution_count": 155,
   "id": "bd371c42",
   "metadata": {},
   "outputs": [],
   "source": [
    "YEAR = 2018 \n",
    "STATE = 'SK'  "
   ]
  },
  {
   "cell_type": "markdown",
   "id": "51e03bcc",
   "metadata": {},
   "source": [
    "Dataframe z eurostatu"
   ]
  },
  {
   "cell_type": "code",
   "execution_count": 156,
   "id": "fc9efd1c",
   "metadata": {},
   "outputs": [],
   "source": [
    "df = eurostat.get_data_df('env_air_gge')"
   ]
  },
  {
   "cell_type": "code",
   "execution_count": 157,
   "id": "7e54a79a",
   "metadata": {},
   "outputs": [],
   "source": [
    "# Pandas query() does not allow backslash in column names so \"rename column\" is needed. \n",
    "df = df.rename(columns={'geo\\\\time': 'geo'}) "
   ]
  },
  {
   "cell_type": "code",
   "execution_count": 158,
   "id": "e2b280b6",
   "metadata": {},
   "outputs": [],
   "source": [
    "df2 = df.query(\"airpol == 'GHG' and geo == @STATE and unit == 'MIO_T'\") "
   ]
  },
  {
   "cell_type": "code",
   "execution_count": 159,
   "id": "5dab6a57",
   "metadata": {
    "scrolled": false
   },
   "outputs": [],
   "source": [
    "df2 = df2[[\"src_crf\", YEAR]] # jen kod odvětví a rok\n",
    "df2 = df2.set_index('src_crf') # src_crf jako index"
   ]
  },
  {
   "cell_type": "markdown",
   "id": "0af54f1b",
   "metadata": {},
   "source": [
    "Funkce"
   ]
  },
  {
   "cell_type": "code",
   "execution_count": 160,
   "id": "4dc46e56",
   "metadata": {},
   "outputs": [],
   "source": [
    "def get_value(key, df): # získej hodnotu. Zadej klíč a df\n",
    "    return df.loc[key, YEAR]\n",
    "\n",
    "def get_sum(keys, df):\n",
    "    sum = 0\n",
    "    for key in keys:\n",
    "        sum+= get_value(key, df)\n",
    "    return sum"
   ]
  },
  {
   "cell_type": "code",
   "execution_count": 161,
   "id": "ae1f69e0",
   "metadata": {
    "scrolled": true
   },
   "outputs": [],
   "source": [
    "# Computes the sum values and a reminder.\n",
    "def add_sums_and_reminder(definition, total_value_code, df):\n",
    "    total_sum = 0\n",
    "    for wedge_def in definition:\n",
    "        if 'sum' in wedge_def:\n",
    "            partial_sum = get_sum(wedge_def['sum'], df)\n",
    "            df.loc[wedge_def['code'], YEAR] = partial_sum # přidá nový řádek ke stávajímu df\n",
    "            total_sum += partial_sum\n",
    "        elif 'reminder' in wedge_def:\n",
    "            diff = get_value(total_value_code, df) - total_sum\n",
    "            df.loc[wedge_def['code'], YEAR] = diff # přidá nový řádek ke stávajímu df"
   ]
  },
  {
   "cell_type": "markdown",
   "id": "eb7000f9",
   "metadata": {},
   "source": [
    "Volej funkci"
   ]
  },
  {
   "cell_type": "code",
   "execution_count": 162,
   "id": "5b3a0dab",
   "metadata": {},
   "outputs": [],
   "source": [
    "add_sums_and_reminder(definition, 'TOTX4_MEMONIA', df2)"
   ]
  },
  {
   "cell_type": "code",
   "execution_count": 163,
   "id": "550e4860",
   "metadata": {
    "scrolled": true
   },
   "outputs": [],
   "source": [
    "for wedge_def in definition:\n",
    "    if 'breakdown' in wedge_def:\n",
    "        add_sums_and_reminder(wedge_def['breakdown'], wedge_def['code'], df2)"
   ]
  },
  {
   "cell_type": "markdown",
   "id": "30d7ea4a",
   "metadata": {},
   "source": [
    "Seznam kodů odvětví pro vnější a vnitřní graf a \n",
    "popisky pro vnější a vnitřní graf"
   ]
  },
  {
   "cell_type": "code",
   "execution_count": 164,
   "id": "ed1f0b30",
   "metadata": {},
   "outputs": [],
   "source": [
    "# Seznam kodů odvětví pro vnější a vnitřní graf\n",
    "inner_chart_structure = []\n",
    "outer_chart_structure = []\n",
    "\n",
    "for area in definition:\n",
    "    inner_chart_structure.append(area['code']) \n",
    "    if 'breakdown' not in area:\n",
    "        continue\n",
    "    for subarea in area['breakdown']:\n",
    "        outer_chart_structure.append(subarea['code'])\n",
    "\n",
    "# Popisky pro vnější a vnitřní graf\n",
    "inner_labels = []\n",
    "outer_labels = []\n",
    "\n",
    "for area in definition:\n",
    "    inner_labels.append(area['label']) \n",
    "    if 'breakdown' not in area:\n",
    "        continue\n",
    "    for subarea in area['breakdown']:\n",
    "        outer_labels.append(subarea['label'])        "
   ]
  },
  {
   "cell_type": "markdown",
   "id": "6007258e",
   "metadata": {},
   "source": [
    "Relativní dataframe pro vnější graf"
   ]
  },
  {
   "cell_type": "code",
   "execution_count": 165,
   "id": "238b44af",
   "metadata": {
    "scrolled": true
   },
   "outputs": [],
   "source": [
    "# relativní dataframe vnějšího grafu se součtem pod 1. Abych dostal necelý vnější koláč\n",
    "total = get_sum(inner_chart_structure, df2)\n",
    "df_rel = df2.loc[outer_chart_structure]/total "
   ]
  },
  {
   "cell_type": "markdown",
   "id": "0d5f7264",
   "metadata": {},
   "source": [
    "Graf"
   ]
  },
  {
   "cell_type": "code",
   "execution_count": 166,
   "id": "15649a65",
   "metadata": {
    "scrolled": false
   },
   "outputs": [
    {
     "data": {
      "image/png": "[encoded data removed]",
      "text/plain": [
       "<Figure size 432x288 with 1 Axes>"
      ]
     },
     "metadata": {},
     "output_type": "display_data"
    }
   ],
   "source": [
    "fig, ax = plt.subplots()\n",
    "size = 0.3\n",
    "\n",
    "# vnitřní\n",
    "ax.pie(df2.loc[inner_chart_structure][YEAR], radius=1-size, counterclock=False, startangle=90, \n",
    "       wedgeprops=dict(width=size, edgecolor='w'))\n",
    "\n",
    "# vnější\n",
    "ax.pie(df_rel[YEAR], # tohle mi to řadí a 'YEAR' bere hodnoty ze sloupce YEAR\n",
    "       radius=1, labels = outer_labels, counterclock=False, startangle=90, normalize = False,\n",
    "       autopct='%1.1f%%', pctdistance=0.8, labeldistance=1.2, wedgeprops=dict(width=size, edgecolor='w'))\n",
    "\n",
    "ax.set(aspect=\"equal\", title = f'Emise skleníkových plynů pro {STATE} za rok {YEAR} v CO2 ekviv.')\n",
    "\n",
    "plt.show()"
   ]
  }
 ],
 "metadata": {
  "kernelspec": {
   "display_name": "Python 3 (ipykernel)",
   "language": "python",
   "name": "python3"
  },
  "language_info": {
   "codemirror_mode": {
    "name": "ipython",
    "version": 3
   },
   "file_extension": ".py",
   "mimetype": "text/x-python",
   "name": "python",
   "nbconvert_exporter": "python",
   "pygments_lexer": "ipython3",
   "version": "3.9.7"
  }
 },
 "nbformat": 4,
 "nbformat_minor": 5
}
