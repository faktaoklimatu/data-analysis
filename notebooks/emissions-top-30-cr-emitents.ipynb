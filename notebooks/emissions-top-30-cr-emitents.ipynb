{
 "cells": [
  {
   "cell_type": "markdown",
   "id": "e6fb6060",
   "metadata": {},
   "source": [
    "main activity type code = 20 je \"combustion of fuels\" (spalování paliv)\n"
   ]
  },
  {
   "cell_type": "code",
   "execution_count": 1,
   "id": "d76043ef",
   "metadata": {},
   "outputs": [],
   "source": [
    "import sys\n",
    "import os\n",
    "\n",
    "import pandas as pd\n",
    "\n",
    "sys.path.append(os.path.abspath(\"..\")) # ty \"..\" znamenají že jdu o jednu úroveň nad. A tento kus kodu musí být před tim importem \"from data.analysis\"\n",
    "\n",
    "from data_analysis.allowances_utils import get_allowances_data\n",
    "\n"
   ]
  },
  {
   "cell_type": "code",
   "execution_count": 2,
   "id": "b076bda3",
   "metadata": {},
   "outputs": [],
   "source": [
    "# year we want to visualize\n",
    "YEAR = 2021"
   ]
  },
  {
   "cell_type": "code",
   "execution_count": 3,
   "id": "db6c6210",
   "metadata": {},
   "outputs": [],
   "source": [
    "definition = [\n",
    "        {'name': 'Elektrárna Počerady, a.s.',  \n",
    "         'label': 'elektrárna, teplárna',\n",
    "         'permit_id': ['CZ-0204-05', 'CZ-0478-12'],\n",
    "         'color': 'red',\n",
    "        },\n",
    "        {'name': 'ArcelorMittal Ostrava a TAMEH Czech',  \n",
    "         'label': 'železárna, ocelárna',\n",
    "         'permit_id': ['CZ-0134-05', 'CZ-0444-10'],\n",
    "         'color': 'X',\n",
    "        },\n",
    "        {'name': 'Elektrárna Tušimice',  \n",
    "         'label': 'elektrárna, teplárna',\n",
    "         'permit_id': ['CZ-0209-05'],\n",
    "         'color': 'X',  \n",
    "        },\n",
    "        {'name': 'Elektrárna Mělník',  \n",
    "         'label': 'elektrárna, teplárna',\n",
    "         'permit_id': ['CZ-0202-05','CZ-0092-05','CZ-0203-05'],\n",
    "         'color': 'X',  \n",
    "        },    \n",
    "]"
   ]
  },
  {
   "cell_type": "markdown",
   "id": "31b826c5",
   "metadata": {},
   "source": [
    "## Načti si data "
   ]
  },
  {
   "cell_type": "code",
   "execution_count": 4,
   "id": "e14d22c8",
   "metadata": {},
   "outputs": [],
   "source": [
    "# načti si tabulku\n",
    "my_df = get_allowances_data(YEAR,\"CZ\",20,\"../data/EUA/verified_emissions_2021_en.xlsx\")"
   ]
  },
  {
   "cell_type": "code",
   "execution_count": 5,
   "id": "1dd97753",
   "metadata": {},
   "outputs": [],
   "source": [
    "# UPRAV STÁVAJÍC DF\n",
    "my_df.rename(columns={\"value\":\"tCO2ekv\"},inplace=True) # přejmenuj sloupec\n",
    "my_df.drop(\"MAIN_ACTIVITY_TYPE_CODE\", axis=1, inplace=True) # zahoď sloupec"
   ]
  },
  {
   "cell_type": "code",
   "execution_count": 6,
   "id": "d7d316e6",
   "metadata": {
    "scrolled": true
   },
   "outputs": [
    {
     "data": {
      "text/html": [
       "<div>\n",
       "<style scoped>\n",
       "    .dataframe tbody tr th:only-of-type {\n",
       "        vertical-align: middle;\n",
       "    }\n",
       "\n",
       "    .dataframe tbody tr th {\n",
       "        vertical-align: top;\n",
       "    }\n",
       "\n",
       "    .dataframe thead th {\n",
       "        text-align: right;\n",
       "    }\n",
       "</style>\n",
       "<table border=\"1\" class=\"dataframe\">\n",
       "  <thead>\n",
       "    <tr style=\"text-align: right;\">\n",
       "      <th></th>\n",
       "      <th>tCO2ekv</th>\n",
       "      <th>IDENTIFIER_IN_REG</th>\n",
       "    </tr>\n",
       "    <tr>\n",
       "      <th>PERMIT_IDENTIFIER</th>\n",
       "      <th></th>\n",
       "      <th></th>\n",
       "    </tr>\n",
       "  </thead>\n",
       "  <tbody>\n",
       "    <tr>\n",
       "      <th>CZ-0204-05</th>\n",
       "      <td>4.419807</td>\n",
       "      <td>Elektrárna Počerady, a.s.</td>\n",
       "    </tr>\n",
       "    <tr>\n",
       "      <th>CZ-0201-05</th>\n",
       "      <td>3.781199</td>\n",
       "      <td>ČEZ - Elektrárna Ledvice</td>\n",
       "    </tr>\n",
       "    <tr>\n",
       "      <th>CZ-0207-05</th>\n",
       "      <td>3.494895</td>\n",
       "      <td>ČEZ - Elektrárna Prunéřov 2</td>\n",
       "    </tr>\n",
       "  </tbody>\n",
       "</table>\n",
       "</div>"
      ],
      "text/plain": [
       "                    tCO2ekv            IDENTIFIER_IN_REG\n",
       "PERMIT_IDENTIFIER                                       \n",
       "CZ-0204-05         4.419807    Elektrárna Počerady, a.s.\n",
       "CZ-0201-05         3.781199     ČEZ - Elektrárna Ledvice\n",
       "CZ-0207-05         3.494895  ČEZ - Elektrárna Prunéřov 2"
      ]
     },
     "execution_count": 6,
     "metadata": {},
     "output_type": "execute_result"
    }
   ],
   "source": [
    "my_df.head(3)"
   ]
  },
  {
   "cell_type": "markdown",
   "id": "e9b0fee0",
   "metadata": {},
   "source": [
    "## Uprav data"
   ]
  },
  {
   "cell_type": "markdown",
   "id": "2a75f83f",
   "metadata": {},
   "source": [
    "CO DĚLÁM\n",
    "- vytvoř funkci \"get value\" - vyhodí ti hodnotu pro kod povolenky\n",
    "- vytvoř nový dataframe\n",
    "- iteruj přes definition a: \n",
    "    - do jednoho listu sbírej názvy podniků\n",
    "    - do druhýho listu sbírej typy podniků\n",
    "    - do třetího listu sbírej součty hodnot v povolenkách\n",
    "- listy vlož jako sloupce do novýho df"
   ]
  },
  {
   "cell_type": "code",
   "execution_count": 7,
   "id": "1a4d22db",
   "metadata": {},
   "outputs": [],
   "source": [
    "def _get_value(key, df):\n",
    "    return df.loc[key, 'tCO2ekv']"
   ]
  },
  {
   "cell_type": "code",
   "execution_count": 13,
   "id": "2cb5927c",
   "metadata": {
    "scrolled": true
   },
   "outputs": [],
   "source": [
    "# nový data frame\n",
    "test_df = pd.DataFrame()\n",
    "test_df['name'] = []\n",
    "test_df['value'] = []\n",
    "test_df['label'] = []\n",
    "test_df['squares'] = []"
   ]
  },
  {
   "cell_type": "code",
   "execution_count": 14,
   "id": "2ad0bd69",
   "metadata": {},
   "outputs": [],
   "source": [
    "# iteruju přes definition, sčítám povolenky, vkládám do listů\n",
    "facility_list = []\n",
    "value_list = []\n",
    "label_list = []\n",
    "\n",
    "for facility in definition:\n",
    "    facility_list.append(facility['name'])\n",
    "    label_list.append(facility['label'])\n",
    "    total = 0\n",
    "    for permit_code in facility[\"permit_id\"]:\n",
    "        local_value = _get_value(permit_code, my_df)\n",
    "        total += local_value\n",
    "    value_list.append(total)"
   ]
  },
  {
   "cell_type": "code",
   "execution_count": 26,
   "id": "610785a6",
   "metadata": {
    "scrolled": true
   },
   "outputs": [
    {
     "data": {
      "text/html": [
       "<div>\n",
       "<style scoped>\n",
       "    .dataframe tbody tr th:only-of-type {\n",
       "        vertical-align: middle;\n",
       "    }\n",
       "\n",
       "    .dataframe tbody tr th {\n",
       "        vertical-align: top;\n",
       "    }\n",
       "\n",
       "    .dataframe thead th {\n",
       "        text-align: right;\n",
       "    }\n",
       "</style>\n",
       "<table border=\"1\" class=\"dataframe\">\n",
       "  <thead>\n",
       "    <tr style=\"text-align: right;\">\n",
       "      <th></th>\n",
       "      <th>value</th>\n",
       "      <th>label</th>\n",
       "      <th>squares</th>\n",
       "    </tr>\n",
       "    <tr>\n",
       "      <th>name</th>\n",
       "      <th></th>\n",
       "      <th></th>\n",
       "      <th></th>\n",
       "    </tr>\n",
       "  </thead>\n",
       "  <tbody>\n",
       "    <tr>\n",
       "      <th>Elektrárna Počerady, a.s.</th>\n",
       "      <td>5.389507</td>\n",
       "      <td>elektrárna, teplárna</td>\n",
       "      <td>22.0</td>\n",
       "    </tr>\n",
       "    <tr>\n",
       "      <th>ArcelorMittal Ostrava a TAMEH Czech</th>\n",
       "      <td>5.124220</td>\n",
       "      <td>železárna, ocelárna</td>\n",
       "      <td>20.0</td>\n",
       "    </tr>\n",
       "    <tr>\n",
       "      <th>Elektrárna Tušimice</th>\n",
       "      <td>3.399410</td>\n",
       "      <td>elektrárna, teplárna</td>\n",
       "      <td>14.0</td>\n",
       "    </tr>\n",
       "    <tr>\n",
       "      <th>Elektrárna Mělník</th>\n",
       "      <td>2.390403</td>\n",
       "      <td>elektrárna, teplárna</td>\n",
       "      <td>10.0</td>\n",
       "    </tr>\n",
       "  </tbody>\n",
       "</table>\n",
       "</div>"
      ],
      "text/plain": [
       "                                        value                 label  squares\n",
       "name                                                                        \n",
       "Elektrárna Počerady, a.s.            5.389507  elektrárna, teplárna     22.0\n",
       "ArcelorMittal Ostrava a TAMEH Czech  5.124220   železárna, ocelárna     20.0\n",
       "Elektrárna Tušimice                  3.399410  elektrárna, teplárna     14.0\n",
       "Elektrárna Mělník                    2.390403  elektrárna, teplárna     10.0"
      ]
     },
     "execution_count": 26,
     "metadata": {},
     "output_type": "execute_result"
    }
   ],
   "source": [
    "# vkládám listy do df\n",
    "test_df['name'] = facility_list\n",
    "test_df['value'] = value_list\n",
    "test_df['label'] = label_list\n",
    "\n",
    "# dopočítej čtverečky\n",
    "test_df['squares'] = (test_df['value'] / 0.25).round()\n",
    "\n",
    "# úprava df\n",
    "test_df.set_index('name', inplace = True)\n",
    "test_df.sort_values('value', ascending = False, inplace = True)\n",
    "test_df"
   ]
  },
  {
   "cell_type": "markdown",
   "id": "d057b1ed",
   "metadata": {},
   "source": [
    "Dotazy na Honzu:\n",
    "- může takle vypadat ta definiční struktura?\n",
    "- v excelové tabulce \"Emise Česká republika\" jsou kody povolenek (třeba CZ-0231-05), které nejsou v tab. \"verified_emissions_2021_en\". Co s tím? \n",
    "\n",
    "Pozn:\n",
    "- vim, že to pak budu dávat do funkcí. Zatim takle."
   ]
  },
  {
   "cell_type": "code",
   "execution_count": null,
   "id": "4f1e109d",
   "metadata": {},
   "outputs": [],
   "source": [
    "# ČEK: najdi povolenku\n",
    "print(my_df.loc['CZ-0203-05', 'tCO2ekv'])"
   ]
  },
  {
   "cell_type": "markdown",
   "id": "6acd5175",
   "metadata": {},
   "source": [
    "# PRO PROCES UČENÍ SE - Nebude ve finálním kodu"
   ]
  },
  {
   "cell_type": "markdown",
   "id": "0b989858",
   "metadata": {},
   "source": [
    "## Iteruju přes řádky "
   ]
  },
  {
   "cell_type": "code",
   "execution_count": null,
   "id": "b4fc8e9f",
   "metadata": {},
   "outputs": [],
   "source": [
    "# novej df\n",
    "new_df = pd.DataFrame() "
   ]
  },
  {
   "cell_type": "code",
   "execution_count": null,
   "id": "0149d9f8",
   "metadata": {
    "scrolled": false
   },
   "outputs": [],
   "source": [
    "# iteruj přes řádku my_df, každý přidej do new_df\n",
    "n = 0\n",
    "for value in my_df.index: # pro hodnotu v my_df.index (tedy: CZ-0204-05, CZ-0201-05 atd.)\n",
    "    new_df = new_df.append(my_df.iloc[[n]]) # ulož n-tý řádek (tedy \"my_df.iloc[[n]]\") do nového df (\"new_df\")\n",
    "    n += 1 # skoč na další řádek (\"zvětči n o 1\")\n",
    "new_df"
   ]
  },
  {
   "cell_type": "code",
   "execution_count": null,
   "id": "abbdf547",
   "metadata": {},
   "outputs": [],
   "source": [
    "# iteruj přes řádku my_df, podle podmínky přidej řádek do new_df\n",
    "practice_df = pd.DataFrame()\n",
    "n = 0\n",
    "for value in my_df.index: # pro hodnotu v my_df.index (tedy: CZ-0204-05, CZ-0201-05 atd.)\n",
    "    if my_df.index[n] in [\"CZ-0204-05\", \"CZ-0228-05\"]: # pokud je hodnota indexu v množině... pak... \n",
    "        practice_df = practice_df.append(my_df.iloc[[n]]) # ulož n-tý řádek (tedy \"my_df.iloc[[n]]\") do nového df (\"new_df\")\n",
    "    n += 1 # skoč na další řádek (\"zvětči n o 1\")\n",
    "practice_df"
   ]
  },
  {
   "cell_type": "code",
   "execution_count": null,
   "id": "cc4cc715",
   "metadata": {},
   "outputs": [],
   "source": [
    "# iteruj přes řádky df ve sloupici \"IDENTIFIER_IN_REG\" a pokud hodnota = .... udělej něco...\n",
    "for value in my_df[\"IDENTIFIER_IN_REG\"]:\n",
    "    if value == \"Elektrárna Počerady, a.s.\":\n",
    "        print(\"a\")\n",
    "    else:\n",
    "        print(\"c\")"
   ]
  },
  {
   "cell_type": "code",
   "execution_count": null,
   "id": "ff7d810c",
   "metadata": {},
   "outputs": [],
   "source": [
    "# iteruj přes řádky df ve sloupici \"PERMIT_IDENTIFIER\" (tedy \"index\") a pro každou hodnotu napiš o jedna se zvětšující číslo\n",
    "n = 0\n",
    "for value in my_df.index:\n",
    "    n += 1\n",
    "    print(n)"
   ]
  },
  {
   "cell_type": "code",
   "execution_count": null,
   "id": "e81b18cd",
   "metadata": {},
   "outputs": [],
   "source": [
    "# iteruj přes řádky df ve sloupici \"PERMIT_IDENTIFIER\" (tedy \"index\") a pokud hodnota = .... udělej něco... \n",
    "for value in my_df.index:\n",
    "    if value == \"CZ-0478-12\":\n",
    "        print(\"a\")\n",
    "    elif value == \"CZ-0204-05\":\n",
    "        print(\"b\")\n",
    "    else:\n",
    "        print(\"c\")"
   ]
  },
  {
   "cell_type": "code",
   "execution_count": null,
   "id": "58fecf4d",
   "metadata": {},
   "outputs": [],
   "source": [
    "# iteruj přes řádku my_df, každý přidej do new_df\n",
    "n = 0\n",
    "for value in my_df.index: # pro hodnotu v my_df.index (tedy: CZ-0204-05, CZ-0201-05 atd.)\n",
    "    new_df = new_df.append(my_df.iloc[[n]]) # ulož n-tý řádek (tedy \"my_df.iloc[[n]]\") do nového df (\"new_df\")\n",
    "    n += 1 # skoč na další řádek (\"zvětči n o 1\")\n",
    "new_df"
   ]
  },
  {
   "cell_type": "markdown",
   "id": "d4472ec9",
   "metadata": {},
   "source": [
    "## Další zajímavé kousky kodu "
   ]
  },
  {
   "cell_type": "code",
   "execution_count": null,
   "id": "c3b356a6",
   "metadata": {},
   "outputs": [],
   "source": [
    "# Elektrárna Počerady: součet\n",
    "A = my_df.loc['CZ-0478-12', 'tCO2ekv']\n",
    "B = my_df.loc['CZ-0204-05', 'tCO2ekv']\n",
    "print(A+B)"
   ]
  },
  {
   "cell_type": "code",
   "execution_count": null,
   "id": "9dba82ae",
   "metadata": {},
   "outputs": [],
   "source": [
    "# dostaň se k tomu \"permit_id\"\n",
    "for facility in definition:\n",
    "    a = facility[\"permit_id\"]\n",
    "    print(a)"
   ]
  },
  {
   "cell_type": "code",
   "execution_count": null,
   "id": "e9d2b4b2",
   "metadata": {},
   "outputs": [],
   "source": [
    "# dostaň se k jednotlivým složkám toho \"permit_id\"\n",
    "for facility in definition:\n",
    "    a = facility[\"permit_id\"]\n",
    "    for member in a:\n",
    "        print(member)"
   ]
  },
  {
   "cell_type": "code",
   "execution_count": null,
   "id": "530666bf",
   "metadata": {},
   "outputs": [],
   "source": [
    "# sečti přes for cyklus\n",
    "total = 0\n",
    "for value in my_df[\"tCO2ekv\"]:\n",
    "    total += value\n",
    "total "
   ]
  },
  {
   "cell_type": "code",
   "execution_count": null,
   "id": "a9b42dcd",
   "metadata": {},
   "outputs": [],
   "source": [
    "# sečti přes funkci\n",
    "total2 = my_df[\"tCO2ekv\"].sum()\n",
    "total2"
   ]
  },
  {
   "cell_type": "code",
   "execution_count": null,
   "id": "fe4a8ad9",
   "metadata": {
    "scrolled": true
   },
   "outputs": [],
   "source": [
    "# ukaž mi n-tý řádek z my_df\n",
    "n = 1\n",
    "my_df.iloc[[n]]"
   ]
  },
  {
   "cell_type": "markdown",
   "id": "376ee819",
   "metadata": {},
   "source": [
    "## POZNATKY"
   ]
  },
  {
   "cell_type": "markdown",
   "id": "127bc335",
   "metadata": {},
   "source": [
    "- iloc[] lokalizuje podle čísla indexu"
   ]
  },
  {
   "cell_type": "code",
   "execution_count": null,
   "id": "f5d8a18c",
   "metadata": {},
   "outputs": [],
   "source": []
  }
 ],
 "metadata": {
  "kernelspec": {
   "display_name": "Python 3 (ipykernel)",
   "language": "python",
   "name": "python3"
  },
  "language_info": {
   "codemirror_mode": {
    "name": "ipython",
    "version": 3
   },
   "file_extension": ".py",
   "mimetype": "text/x-python",
   "name": "python",
   "nbconvert_exporter": "python",
   "pygments_lexer": "ipython3",
   "version": "3.9.7"
  }
 },
 "nbformat": 4,
 "nbformat_minor": 5
}
